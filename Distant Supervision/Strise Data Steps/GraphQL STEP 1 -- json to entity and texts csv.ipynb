{
 "cells": [
  {
   "cell_type": "code",
   "execution_count": 3,
   "metadata": {},
   "outputs": [],
   "source": [
    "%load_ext autoreload\n",
    "%autoreload 2\n",
    "import pandas as pd\n",
    "import os\n",
    "import sys\n",
    "import json"
   ]
  },
  {
   "cell_type": "code",
   "execution_count": 4,
   "metadata": {},
   "outputs": [],
   "source": [
    "from TextItem import TextItem"
   ]
  },
  {
   "cell_type": "code",
   "execution_count": 10,
   "metadata": {},
   "outputs": [
    {
     "data": {
      "text/plain": [
       "'C:\\\\Users\\\\Tollef\\\\Documents\\\\GitHub\\\\masterNEW\\\\REPO\\\\graphql\\\\EVALUATIONS'"
      ]
     },
     "execution_count": 10,
     "metadata": {},
     "output_type": "execute_result"
    }
   ],
   "source": [
    "save_folder = \"STEP 1 - RAW_JSON_TO_CSV\"\n",
    "path = os.path.join(os.path.dirname(os.getcwd()), \"graphql\", \"EVALUATIONS\")\n",
    "path"
   ]
  },
  {
   "cell_type": "code",
   "execution_count": 11,
   "metadata": {},
   "outputs": [],
   "source": [
    "def get_if_exists(object, key):\n",
    "    if key in object:\n",
    "        return object[key]\n",
    "    return None"
   ]
  },
  {
   "cell_type": "code",
   "execution_count": 12,
   "metadata": {
    "scrolled": true
   },
   "outputs": [
    {
     "name": "stdout",
     "output_type": "stream",
     "text": [
      "Building lookup dictionary\n",
      "C:\\Users\\Tollef\\Documents\\GitHub\\masterNEW\\REPO\\graphql\\EVALUATIONS\\business\n",
      "C:\\Users\\Tollef\\Documents\\GitHub\\masterNEW\\REPO\\graphql\\EVALUATIONS\\business\\2020_Q1_3.json\n",
      "C:\\Users\\Tollef\\Documents\\GitHub\\masterNEW\\REPO\\graphql\\EVALUATIONS\\politics\n",
      "C:\\Users\\Tollef\\Documents\\GitHub\\masterNEW\\REPO\\graphql\\EVALUATIONS\\politics\\2020_Q1_3.json\n",
      "C:\\Users\\Tollef\\Documents\\GitHub\\masterNEW\\REPO\\graphql\\EVALUATIONS\\sports\n",
      "C:\\Users\\Tollef\\Documents\\GitHub\\masterNEW\\REPO\\graphql\\EVALUATIONS\\sports\\2020_Q1_3.json\n",
      "C:\\Users\\Tollef\\Documents\\GitHub\\masterNEW\\REPO\\graphql\\EVALUATIONS\\tech\n",
      "C:\\Users\\Tollef\\Documents\\GitHub\\masterNEW\\REPO\\graphql\\EVALUATIONS\\tech\\2020_Q1_3.json\n"
     ]
    }
   ],
   "source": [
    "entity_lookup_dictionary = set()\n",
    "\n",
    "print(\"Building lookup dictionary\")\n",
    "for folder in os.listdir(path):\n",
    "    sub_path = os.path.join(path, folder)\n",
    "    print(sub_path)\n",
    "    topic_dfs = []\n",
    "    for jsonfile in os.listdir(sub_path):\n",
    "        jsonfile = os.path.join(sub_path, jsonfile)\n",
    "        print(jsonfile)\n",
    "        with open(jsonfile, 'r', encoding=\"utf8\") as f:\n",
    "            f = json.load(f)\n",
    "            edges = f[\"events\"][\"edges\"]\n",
    "            for node in edges:\n",
    "                subnode = node[\"node\"]\n",
    "                entities = get_if_exists(subnode, \"entities\")\n",
    "                entity_edges = get_if_exists(entities, \"edges\")\n",
    "                \n",
    "                for entity_object in entity_edges:\n",
    "                    entity = get_if_exists(entity_object, \"node\")\n",
    "                    if not entity:\n",
    "                        continue\n",
    "\n",
    "                    entity_name = get_if_exists(entity, \"name\")\n",
    "                    if not entity_name:\n",
    "                        continue\n",
    "                    \n",
    "                    entity_lookup_dictionary.add(entity_name)"
   ]
  },
  {
   "cell_type": "code",
   "execution_count": 13,
   "metadata": {},
   "outputs": [
    {
     "data": {
      "text/plain": [
       "7745"
      ]
     },
     "execution_count": 13,
     "metadata": {},
     "output_type": "execute_result"
    }
   ],
   "source": [
    "len(entity_lookup_dictionary)"
   ]
  },
  {
   "cell_type": "code",
   "execution_count": 14,
   "metadata": {
    "scrolled": true
   },
   "outputs": [
    {
     "name": "stdout",
     "output_type": "stream",
     "text": [
      "C:\\Users\\Tollef\\Documents\\GitHub\\masterNEW\\REPO\\graphql\\EVALUATIONS\\business\n",
      "C:\\Users\\Tollef\\Documents\\GitHub\\masterNEW\\REPO\\graphql\\EVALUATIONS\\business\\2020_Q1_3.json\n",
      "Edges count: 100\n",
      "Storing topic DF at\n",
      " C:\\Users\\Tollef\\Documents\\GitHub\\masterNEW\\REPO\\strise\\STEP 1 - RAW_JSON_TO_CSV\\business_entities.csv\n",
      "C:\\Users\\Tollef\\Documents\\GitHub\\masterNEW\\REPO\\graphql\\EVALUATIONS\\politics\n",
      "C:\\Users\\Tollef\\Documents\\GitHub\\masterNEW\\REPO\\graphql\\EVALUATIONS\\politics\\2020_Q1_3.json\n",
      "Edges count: 100\n",
      "Storing topic DF at\n",
      " C:\\Users\\Tollef\\Documents\\GitHub\\masterNEW\\REPO\\strise\\STEP 1 - RAW_JSON_TO_CSV\\politics_entities.csv\n",
      "C:\\Users\\Tollef\\Documents\\GitHub\\masterNEW\\REPO\\graphql\\EVALUATIONS\\sports\n",
      "C:\\Users\\Tollef\\Documents\\GitHub\\masterNEW\\REPO\\graphql\\EVALUATIONS\\sports\\2020_Q1_3.json\n",
      "Edges count: 100\n",
      "Storing topic DF at\n",
      " C:\\Users\\Tollef\\Documents\\GitHub\\masterNEW\\REPO\\strise\\STEP 1 - RAW_JSON_TO_CSV\\sports_entities.csv\n",
      "C:\\Users\\Tollef\\Documents\\GitHub\\masterNEW\\REPO\\graphql\\EVALUATIONS\\tech\n",
      "C:\\Users\\Tollef\\Documents\\GitHub\\masterNEW\\REPO\\graphql\\EVALUATIONS\\tech\\2020_Q1_3.json\n",
      "Edges count: 100\n",
      "Storing topic DF at\n",
      " C:\\Users\\Tollef\\Documents\\GitHub\\masterNEW\\REPO\\strise\\STEP 1 - RAW_JSON_TO_CSV\\tech_entities.csv\n"
     ]
    }
   ],
   "source": [
    "final_entity_dfs = []\n",
    "final_texts_dfs = []\n",
    "\n",
    "for folder in os.listdir(path):\n",
    "    sub_path = os.path.join(path, folder)\n",
    "    print(sub_path)\n",
    "    topic_dfs = []\n",
    "    for jsonfile in os.listdir(sub_path):\n",
    "        jsonfile = os.path.join(sub_path, jsonfile)\n",
    "        print(jsonfile)\n",
    "        with open(jsonfile, 'r', encoding=\"utf8\") as f:\n",
    "            f = json.load(f)\n",
    "            edges = f[\"events\"][\"edges\"]\n",
    "            print(\"Edges count:\", len(edges))\n",
    "            \n",
    "            entities = []\n",
    "            texts = []\n",
    "            \n",
    "            for node in edges:\n",
    "                data = TextItem(node, entity_lookup_dictionary, limit_to_relations=True)\n",
    "                ents = data.get_entities_object()\n",
    "                txts = data.get_text_object()\n",
    "                \n",
    "                entities.append(pd.DataFrame(ents))\n",
    "                texts.append(txts)\n",
    "                \n",
    "            \n",
    "            entity_df = pd.concat(entities)            \n",
    "            text_df = pd.DataFrame(texts)\n",
    "                        \n",
    "            topic_dfs.append(entity_df)\n",
    "            \n",
    "            final_entity_dfs.append(entity_df)\n",
    "            final_texts_dfs.append(text_df)    \n",
    "            \n",
    "    # store the entity_df as topic-oriented entities separately\n",
    "    df_name = \"{}_{}\".format(folder, \"entities.csv\")\n",
    "    df_path = os.path.join(os.getcwd(), save_folder, df_name)\n",
    "    print(\"Storing topic DF at\\n\", df_path)\n",
    "\n",
    "    topic_df = pd.concat(topic_dfs)\n",
    "    topic_df.to_csv(df_path)\n",
    "FINAL_ENTITY_DF = pd.concat(final_entity_dfs)\n",
    "FINAL_TEXTS_DF = pd.concat(final_texts_dfs)\n",
    "\n",
    "# set default values for sentiment and discard (used for discarding during manual labeling)\n",
    "# FINAL_ENTITY_DF['sentiment'] = 0\n",
    "# FINAL_ENTITY_DF['to_discard'] = False"
   ]
  },
  {
   "cell_type": "code",
   "execution_count": 16,
   "metadata": {},
   "outputs": [],
   "source": [
    "FINAL_ENTITY_DF.to_csv(save_folder + \"/entities.csv\", index=False)\n",
    "FINAL_TEXTS_DF.to_csv(save_folder + \"/texts.csv\", index=False)"
   ]
  },
  {
   "cell_type": "code",
   "execution_count": null,
   "metadata": {},
   "outputs": [],
   "source": []
  },
  {
   "cell_type": "code",
   "execution_count": null,
   "metadata": {},
   "outputs": [],
   "source": []
  }
 ],
 "metadata": {
  "kernelspec": {
   "display_name": "Python 3",
   "language": "python",
   "name": "python3"
  },
  "language_info": {
   "codemirror_mode": {
    "name": "ipython",
    "version": 3
   },
   "file_extension": ".py",
   "mimetype": "text/x-python",
   "name": "python",
   "nbconvert_exporter": "python",
   "pygments_lexer": "ipython3",
   "version": "3.7.6"
  }
 },
 "nbformat": 4,
 "nbformat_minor": 4
}
