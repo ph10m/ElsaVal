{
 "cells": [
  {
   "cell_type": "code",
   "execution_count": 37,
   "metadata": {},
   "outputs": [],
   "source": [
    "import pandas as pd\n",
    "import numpy as np\n",
    "import os\n",
    "import re\n",
    "%matplotlib inline\n",
    "import matplotlib.pyplot as plt"
   ]
  },
  {
   "cell_type": "code",
   "execution_count": 38,
   "metadata": {},
   "outputs": [],
   "source": [
    "MASK = \"$T$\""
   ]
  },
  {
   "cell_type": "code",
   "execution_count": 39,
   "metadata": {},
   "outputs": [
    {
     "data": {
      "text/plain": [
       "'C:\\\\Users\\\\Tollef\\\\Documents\\\\GitHub\\\\masterNEW\\\\REPO\\\\strise\\\\STEP 2 - CSV_WITH_SENTIMENT'"
      ]
     },
     "execution_count": 39,
     "metadata": {},
     "output_type": "execute_result"
    }
   ],
   "source": [
    "main_folder = os.path.dirname(os.getcwd())\n",
    "path = os.path.join(main_folder, \"strise\", \"STEP 2 - CSV_WITH_SENTIMENT\")\n",
    "path"
   ]
  },
  {
   "cell_type": "code",
   "execution_count": 40,
   "metadata": {},
   "outputs": [
    {
     "data": {
      "text/plain": [
       "(47267, 9)"
      ]
     },
     "execution_count": 40,
     "metadata": {},
     "output_type": "execute_result"
    }
   ],
   "source": [
    "ent_df = pd.read_csv(os.path.join(path, \"entities.csv\"))\n",
    "ent_df.head()\n",
    "ent_df.shape"
   ]
  },
  {
   "cell_type": "markdown",
   "metadata": {},
   "source": [
    "## Plotting"
   ]
  },
  {
   "cell_type": "code",
   "execution_count": 41,
   "metadata": {},
   "outputs": [],
   "source": [
    "def hist_plot(df, col, bins=500):\n",
    "    _ = plt.hist(df[col], bins=bins)"
   ]
  },
  {
   "cell_type": "markdown",
   "metadata": {},
   "source": [
    "## Feature management\n",
    "\n",
    "- Text length\n",
    "- Sentiment"
   ]
  },
  {
   "cell_type": "markdown",
   "metadata": {},
   "source": [
    "### Text length"
   ]
  },
  {
   "cell_type": "code",
   "execution_count": 42,
   "metadata": {},
   "outputs": [],
   "source": [
    "def calc_text_length(row):\n",
    "    row['text_length'] = len(row['text'])\n",
    "    return row\n",
    "\n",
    "# add text length as a column\n",
    "def add_text_length(df):\n",
    "    df[\"text_length\"] = np.nan\n",
    "    return df.apply(lambda row: calc_text_length(row), axis=1)\n",
    "\n",
    "ent_df = add_text_length(ent_df)"
   ]
  },
  {
   "cell_type": "code",
   "execution_count": 43,
   "metadata": {},
   "outputs": [
    {
     "data": {
      "image/png": "[encoded data removed]",
      "text/plain": [
       "<Figure size 432x288 with 1 Axes>"
      ]
     },
     "metadata": {
      "image/png": {
       "height": 247,
       "width": 371
      },
      "needs_background": "light"
     },
     "output_type": "display_data"
    }
   ],
   "source": [
    "hist_plot(ent_df, \"text_length\", bins = 500)"
   ]
  },
  {
   "cell_type": "code",
   "execution_count": 9,
   "metadata": {},
   "outputs": [
    {
     "name": "stdout",
     "output_type": "stream",
     "text": [
      "Original shape: (47267, 10)\n",
      "keeping text lengths within 96% of the distribution\n",
      "min: 63.0, max: 985.0\n",
      "Dropping 1931 rows\n",
      "New shape: (45336, 10)\n"
     ]
    },
    {
     "data": {
      "image/png": "[encoded data removed]",
      "text/plain": [
       "<Figure size 432x288 with 1 Axes>"
      ]
     },
     "metadata": {
      "needs_background": "light"
     },
     "output_type": "display_data"
    }
   ],
   "source": [
    "def shorten_texts(df):\n",
    "    print(\"Original shape:\", df.shape)\n",
    "    q_min, q_max = (df['text_length'].dropna().quantile([0.02, 0.98]))\n",
    "    print('keeping text lengths within 96% of the distribution')\n",
    "    print('min: {}, max: {}'.format(q_min, q_max))\n",
    "    shortened_texts = df[(df.text_length > q_min) & (df.text_length < q_max)]\n",
    "    print('Dropping {} rows'.format(df.shape[0] - shortened_texts.shape[0]))\n",
    "    df = shortened_texts\n",
    "    print(\"New shape:\", df.shape)\n",
    "    return df\n",
    "\n",
    "ent_df = shorten_texts(ent_df)\n",
    "hist_plot(ent_df, \"text_length\", bins = 200)"
   ]
  },
  {
   "cell_type": "markdown",
   "metadata": {},
   "source": [
    "### Sentiment\n",
    "Findings show that the labeled dataset is _extremely_ balanced"
   ]
  },
  {
   "cell_type": "code",
   "execution_count": 14,
   "metadata": {},
   "outputs": [
    {
     "data": {
      "text/html": [
       "<div>\n",
       "<style scoped>\n",
       "    .dataframe tbody tr th:only-of-type {\n",
       "        vertical-align: middle;\n",
       "    }\n",
       "\n",
       "    .dataframe tbody tr th {\n",
       "        vertical-align: top;\n",
       "    }\n",
       "\n",
       "    .dataframe thead th {\n",
       "        text-align: right;\n",
       "    }\n",
       "</style>\n",
       "<table border=\"1\" class=\"dataframe\">\n",
       "  <thead>\n",
       "    <tr style=\"text-align: right;\">\n",
       "      <th></th>\n",
       "      <th>Unnamed: 0</th>\n",
       "      <th>Unnamed: 0.1</th>\n",
       "      <th>id</th>\n",
       "      <th>entity_id</th>\n",
       "      <th>name</th>\n",
       "      <th>text</th>\n",
       "      <th>references</th>\n",
       "      <th>sentiment</th>\n",
       "      <th>sentiment_score</th>\n",
       "      <th>text_length</th>\n",
       "    </tr>\n",
       "  </thead>\n",
       "  <tbody>\n",
       "    <tr>\n",
       "      <th>0</th>\n",
       "      <td>0</td>\n",
       "      <td>0</td>\n",
       "      <td>IjdiYTA5NGY1ZTZiOTI2OTFhOWYyZjgzNzBmMzdjNWE5Mz...</td>\n",
       "      <td>Q130879</td>\n",
       "      <td>Reuters</td>\n",
       "      <td>PANAMA CITY $T$ - Venezuelan president Nicolas...</td>\n",
       "      <td>Stephen J. Adler,business,Agence Reuters,telec...</td>\n",
       "      <td>-1</td>\n",
       "      <td>0.9983</td>\n",
       "      <td>963</td>\n",
       "    </tr>\n",
       "    <tr>\n",
       "      <th>1</th>\n",
       "      <td>1</td>\n",
       "      <td>1</td>\n",
       "      <td>IjdiYTA5NGY1ZTZiOTI2OTFhOWYyZjgzNzBmMzdjNWE5Mz...</td>\n",
       "      <td>Q170972</td>\n",
       "      <td>Socialist Party</td>\n",
       "      <td>Venezuelan Attorney General Tarek William Saab...</td>\n",
       "      <td>Parti Socialiste,France,PS,Socialist Party (Fr...</td>\n",
       "      <td>-1</td>\n",
       "      <td>0.9992</td>\n",
       "      <td>716</td>\n",
       "    </tr>\n",
       "    <tr>\n",
       "      <th>2</th>\n",
       "      <td>2</td>\n",
       "      <td>2</td>\n",
       "      <td>IjdiYTA5NGY1ZTZiOTI2OTFhOWYyZjgzNzBmMzdjNWE5Mz...</td>\n",
       "      <td>Q7188</td>\n",
       "      <td>government</td>\n",
       "      <td>socialist $T$ has repeatedly vowed to combat c...</td>\n",
       "      <td>government,gov,political organisation</td>\n",
       "      <td>-1</td>\n",
       "      <td>0.9994</td>\n",
       "      <td>318</td>\n",
       "    </tr>\n",
       "    <tr>\n",
       "      <th>3</th>\n",
       "      <td>3</td>\n",
       "      <td>3</td>\n",
       "      <td>IjdiYTA5NGY1ZTZiOTI2OTFhOWYyZjgzNzBmMzdjNWE5Mz...</td>\n",
       "      <td>Q58132</td>\n",
       "      <td>Nicolás Maduro</td>\n",
       "      <td>PANAMA CITY (Reuters) - Venezuelan president $...</td>\n",
       "      <td>trade unionist,Nicolas Maduro Moros,politician...</td>\n",
       "      <td>-1</td>\n",
       "      <td>0.9988</td>\n",
       "      <td>958</td>\n",
       "    </tr>\n",
       "    <tr>\n",
       "      <th>4</th>\n",
       "      <td>4</td>\n",
       "      <td>4</td>\n",
       "      <td>IjdiYTA5NGY1ZTZiOTI2OTFhOWYyZjgzNzBmMzdjNWE5Mz...</td>\n",
       "      <td>Q717</td>\n",
       "      <td>Venezuela</td>\n",
       "      <td>PANAMA CITY (Reuters) - Venezuelan president $...</td>\n",
       "      <td>Nicolás Maduro,Government of Venezuela,soverei...</td>\n",
       "      <td>-1</td>\n",
       "      <td>0.8981</td>\n",
       "      <td>384</td>\n",
       "    </tr>\n",
       "    <tr>\n",
       "      <th>5</th>\n",
       "      <td>5</td>\n",
       "      <td>5</td>\n",
       "      <td>IjdiYTA5NGY1ZTZiOTI2OTFhOWYyZjgzNzBmMzdjNWE5Mz...</td>\n",
       "      <td>Q717</td>\n",
       "      <td>Venezuela</td>\n",
       "      <td>2 Diosdado Cabello, the elder brother of late ...</td>\n",
       "      <td>Nicolás Maduro,Government of Venezuela,soverei...</td>\n",
       "      <td>0</td>\n",
       "      <td>1.0000</td>\n",
       "      <td>240</td>\n",
       "    </tr>\n",
       "    <tr>\n",
       "      <th>6</th>\n",
       "      <td>6</td>\n",
       "      <td>6</td>\n",
       "      <td>IjdiYTA5NGY1ZTZiOTI2OTFhOWYyZjgzNzBmMzdjNWE5Mz...</td>\n",
       "      <td>Q717</td>\n",
       "      <td>Venezuela</td>\n",
       "      <td>socialist government has repeatedly vowed to c...</td>\n",
       "      <td>Nicolás Maduro,Government of Venezuela,soverei...</td>\n",
       "      <td>-1</td>\n",
       "      <td>0.9994</td>\n",
       "      <td>319</td>\n",
       "    </tr>\n",
       "    <tr>\n",
       "      <th>7</th>\n",
       "      <td>7</td>\n",
       "      <td>7</td>\n",
       "      <td>IjdiYTA5NGY1ZTZiOTI2OTFhOWYyZjgzNzBmMzdjNWE5Mz...</td>\n",
       "      <td>Q1227076</td>\n",
       "      <td>Diosdado Cabello</td>\n",
       "      <td>2 $T$ the elder brother of late president Hugo...</td>\n",
       "      <td>politician,member of the National Assembly of ...</td>\n",
       "      <td>-1</td>\n",
       "      <td>0.9992</td>\n",
       "      <td>559</td>\n",
       "    </tr>\n",
       "    <tr>\n",
       "      <th>8</th>\n",
       "      <td>8</td>\n",
       "      <td>8</td>\n",
       "      <td>IjdiYTA5NGY1ZTZiOTI2OTFhOWYyZjgzNzBmMzdjNWE5Mz...</td>\n",
       "      <td>Q6146383</td>\n",
       "      <td>Tibisay Lucena</td>\n",
       "      <td>Venezuelan Attorney General Tarek William Saab...</td>\n",
       "      <td>Tibisay Lucena Ramírez,Tibisay Lucena,human</td>\n",
       "      <td>-1</td>\n",
       "      <td>0.9992</td>\n",
       "      <td>717</td>\n",
       "    </tr>\n",
       "    <tr>\n",
       "      <th>9</th>\n",
       "      <td>9</td>\n",
       "      <td>9</td>\n",
       "      <td>IjdiYTA5NGY1ZTZiOTI2OTFhOWYyZjgzNzBmMzdjNWE5Mz...</td>\n",
       "      <td>Q8440</td>\n",
       "      <td>Hugo Chávez</td>\n",
       "      <td>2 Diosdado Cabello, the elder brother of late ...</td>\n",
       "      <td>Nancy Colmenares,politician,soldier,Hugo Rafae...</td>\n",
       "      <td>-1</td>\n",
       "      <td>0.9993</td>\n",
       "      <td>564</td>\n",
       "    </tr>\n",
       "  </tbody>\n",
       "</table>\n",
       "</div>"
      ],
      "text/plain": [
       "   Unnamed: 0  Unnamed: 0.1  \\\n",
       "0           0             0   \n",
       "1           1             1   \n",
       "2           2             2   \n",
       "3           3             3   \n",
       "4           4             4   \n",
       "5           5             5   \n",
       "6           6             6   \n",
       "7           7             7   \n",
       "8           8             8   \n",
       "9           9             9   \n",
       "\n",
       "                                                  id entity_id  \\\n",
       "0  IjdiYTA5NGY1ZTZiOTI2OTFhOWYyZjgzNzBmMzdjNWE5Mz...   Q130879   \n",
       "1  IjdiYTA5NGY1ZTZiOTI2OTFhOWYyZjgzNzBmMzdjNWE5Mz...   Q170972   \n",
       "2  IjdiYTA5NGY1ZTZiOTI2OTFhOWYyZjgzNzBmMzdjNWE5Mz...     Q7188   \n",
       "3  IjdiYTA5NGY1ZTZiOTI2OTFhOWYyZjgzNzBmMzdjNWE5Mz...    Q58132   \n",
       "4  IjdiYTA5NGY1ZTZiOTI2OTFhOWYyZjgzNzBmMzdjNWE5Mz...      Q717   \n",
       "5  IjdiYTA5NGY1ZTZiOTI2OTFhOWYyZjgzNzBmMzdjNWE5Mz...      Q717   \n",
       "6  IjdiYTA5NGY1ZTZiOTI2OTFhOWYyZjgzNzBmMzdjNWE5Mz...      Q717   \n",
       "7  IjdiYTA5NGY1ZTZiOTI2OTFhOWYyZjgzNzBmMzdjNWE5Mz...  Q1227076   \n",
       "8  IjdiYTA5NGY1ZTZiOTI2OTFhOWYyZjgzNzBmMzdjNWE5Mz...  Q6146383   \n",
       "9  IjdiYTA5NGY1ZTZiOTI2OTFhOWYyZjgzNzBmMzdjNWE5Mz...     Q8440   \n",
       "\n",
       "               name                                               text  \\\n",
       "0           Reuters  PANAMA CITY $T$ - Venezuelan president Nicolas...   \n",
       "1   Socialist Party  Venezuelan Attorney General Tarek William Saab...   \n",
       "2        government  socialist $T$ has repeatedly vowed to combat c...   \n",
       "3    Nicolás Maduro  PANAMA CITY (Reuters) - Venezuelan president $...   \n",
       "4         Venezuela  PANAMA CITY (Reuters) - Venezuelan president $...   \n",
       "5         Venezuela  2 Diosdado Cabello, the elder brother of late ...   \n",
       "6         Venezuela  socialist government has repeatedly vowed to c...   \n",
       "7  Diosdado Cabello  2 $T$ the elder brother of late president Hugo...   \n",
       "8    Tibisay Lucena  Venezuelan Attorney General Tarek William Saab...   \n",
       "9       Hugo Chávez  2 Diosdado Cabello, the elder brother of late ...   \n",
       "\n",
       "                                          references  sentiment  \\\n",
       "0  Stephen J. Adler,business,Agence Reuters,telec...         -1   \n",
       "1  Parti Socialiste,France,PS,Socialist Party (Fr...         -1   \n",
       "2              government,gov,political organisation         -1   \n",
       "3  trade unionist,Nicolas Maduro Moros,politician...         -1   \n",
       "4  Nicolás Maduro,Government of Venezuela,soverei...         -1   \n",
       "5  Nicolás Maduro,Government of Venezuela,soverei...          0   \n",
       "6  Nicolás Maduro,Government of Venezuela,soverei...         -1   \n",
       "7  politician,member of the National Assembly of ...         -1   \n",
       "8        Tibisay Lucena Ramírez,Tibisay Lucena,human         -1   \n",
       "9  Nancy Colmenares,politician,soldier,Hugo Rafae...         -1   \n",
       "\n",
       "   sentiment_score  text_length  \n",
       "0           0.9983          963  \n",
       "1           0.9992          716  \n",
       "2           0.9994          318  \n",
       "3           0.9988          958  \n",
       "4           0.8981          384  \n",
       "5           1.0000          240  \n",
       "6           0.9994          319  \n",
       "7           0.9992          559  \n",
       "8           0.9992          717  \n",
       "9           0.9993          564  "
      ]
     },
     "execution_count": 14,
     "metadata": {},
     "output_type": "execute_result"
    }
   ],
   "source": [
    "ent_df.head(10)"
   ]
  },
  {
   "cell_type": "code",
   "execution_count": 44,
   "metadata": {},
   "outputs": [],
   "source": [
    "sent_vals = ent_df.sentiment.unique()\n",
    "sent_range = [min(sent_vals), max(sent_vals)]"
   ]
  },
  {
   "cell_type": "code",
   "execution_count": 45,
   "metadata": {},
   "outputs": [
    {
     "name": "stdout",
     "output_type": "stream",
     "text": [
      " 1    21199\n",
      "-1    18281\n",
      " 0     7787\n",
      "Name: sentiment, dtype: int64\n"
     ]
    },
    {
     "data": {
      "image/png": "[encoded data removed]",
      "text/plain": [
       "<Figure size 432x288 with 1 Axes>"
      ]
     },
     "metadata": {
      "image/png": {
       "height": 247,
       "width": 381
      },
      "needs_background": "light"
     },
     "output_type": "display_data"
    }
   ],
   "source": [
    "def sentiment_distribution(df):\n",
    "    dist = df.sentiment.value_counts()\n",
    "    print(dist)\n",
    "    n, bins, sentiments = plt.hist(df.sentiment, range=sent_range, bins=3)\n",
    "    NEG = 'r'\n",
    "    NEU = 'b'\n",
    "    POS = 'g'\n",
    "    sentiments[0].set_fc(NEG)\n",
    "    sentiments[1].set_fc(NEU)\n",
    "    sentiments[2].set_fc(POS)\n",
    "\n",
    "sentiment_distribution(ent_df)"
   ]
  },
  {
   "cell_type": "code",
   "execution_count": 46,
   "metadata": {},
   "outputs": [],
   "source": [
    "import matplotlib as mpl\n",
    "%matplotlib inline\n",
    "%config InlineBackend.figure_format = 'retina'\n",
    "mpl.rc('font', **{'size': 24, 'family': 'serif', 'serif': ['Computer Modern']})\n",
    "mpl.rc('text', usetex=True)\n",
    "#mpl.rc('text', usetex=False)\n",
    "import seaborn as sns\n"
   ]
  },
  {
   "cell_type": "code",
   "execution_count": 47,
   "metadata": {},
   "outputs": [
    {
     "data": {
      "image/png": "[encoded data removed]",
      "text/plain": [
       "<Figure size 1008x432 with 1 Axes>"
      ]
     },
     "metadata": {
      "image/png": {
       "height": 394,
       "width": 857
      },
      "needs_background": "light"
     },
     "output_type": "display_data"
    }
   ],
   "source": [
    "\n",
    "def sns_sent_dist(df, _title=\"Strise Distant Supervision Dataset\"):\n",
    "    fig, ax = plt.subplots()\n",
    "    fig.set_size_inches(14, 6)\n",
    "    #fig.subtitle('Sentiment polarity distribution')\n",
    "    sns.set_color_codes()\n",
    "    neg_data = np.array(df.loc[df[\"sentiment\"] == -1].sentiment)\n",
    "    neu_data = np.array(df.loc[df[\"sentiment\"] == 0].sentiment)\n",
    "    pos_data = np.array(df.loc[df[\"sentiment\"] == 1].sentiment)\n",
    "    sent_data = np.array([neg_data, neu_data, pos_data])\n",
    "    sns.distplot(neg_data, ax=ax, bins=3, kde=False, color=\"r\")\n",
    "    sns.distplot(neu_data, ax=ax, bins=3, kde=False, color=\"b\")\n",
    "    sns.distplot(pos_data, ax=ax, bins=3, kde=False, color=\"g\")\n",
    "    ax.set(title=_title)\n",
    "    \n",
    "    plt.savefig(\"distant_supervision.png\", dpi=300, transparent=True)\n",
    "sns_sent_dist(ent_df)"
   ]
  },
  {
   "cell_type": "code",
   "execution_count": 48,
   "metadata": {},
   "outputs": [
    {
     "data": {
      "text/plain": [
       "['all entities', 47267, 429.59, 25, 1024, None, None]"
      ]
     },
     "execution_count": 48,
     "metadata": {},
     "output_type": "execute_result"
    }
   ],
   "source": [
    "def get_df_stats(df, folder=\"all entities\", coref=False):\n",
    "    \"\"\"\n",
    "    interesting data points:\n",
    "    - dataset\n",
    "    - number of coreference clusters\n",
    "    - average document length\n",
    "    - min doc len\n",
    "    - max doc len\n",
    "    \"\"\"\n",
    "    doclen = np.array(df[\"text_length\"])\n",
    "    if coref:\n",
    "        corefs = np.array(df[\"coref_clusters\"])\n",
    "        num_coref_clusters = round(corefs.mean(), 2)\n",
    "        tot_clusters = corefs.sum()\n",
    "    else:\n",
    "        num_coref_clusters = None\n",
    "        tot_clusters = None\n",
    "    try:\n",
    "        _avg = round(doclen.mean(), 2)\n",
    "        _min = round(doclen.min(), 2)\n",
    "        _max = round(doclen.max(), 2)\n",
    "        ndocs = len(doclen)\n",
    "    \n",
    "        return [folder, ndocs, _avg, _min, _max, num_coref_clusters, tot_clusters]\n",
    "    except:\n",
    "        print(doclen)\n",
    "        print(corefs)\n",
    "get_df_stats(ent_df)"
   ]
  },
  {
   "cell_type": "code",
   "execution_count": 49,
   "metadata": {},
   "outputs": [
    {
     "name": "stdout",
     "output_type": "stream",
     "text": [
      "['business_entities.csv', 11771, 426.2, 25, 1024, None, None]\n",
      "['politics_entities.csv', 12405, 416.88, 25, 1024, None, None]\n",
      "['sports_entities.csv', 12233, 449.14, 25, 1024, None, None]\n",
      "['tech_entities.csv', 10858, 425.74, 25, 1024, None, None]\n"
     ]
    },
    {
     "data": {
      "image/png": "[encoded data removed]",
      "text/plain": [
       "<Figure size 1008x720 with 4 Axes>"
      ]
     },
     "metadata": {
      "image/png": {
       "height": 612,
       "width": 846
      },
      "needs_background": "light"
     },
     "output_type": "display_data"
    }
   ],
   "source": [
    "fig, axes = plt.subplots(nrows=2, ncols=2)\n",
    "fig.subplots_adjust(hspace=0.5)\n",
    "fig.set_size_inches(14, 10)\n",
    "#fig.subtitle('Sentiment polarity distribution')\n",
    "axes = axes.flatten()\n",
    "sns.set_color_codes()\n",
    "\n",
    "data_count = 0\n",
    "for topicfile in os.listdir(path):\n",
    "    if topicfile == \"entities.csv\" or topicfile == \"info.txt\":\n",
    "        continue\n",
    "        \n",
    "    topic_path = os.path.join(path, topicfile)\n",
    "    topic_df = pd.read_csv(topic_path)\n",
    "    topic_df = add_text_length(topic_df)\n",
    "    #topic_df = shorten_texts(topic_df)\n",
    "\n",
    "    \n",
    "    neg_data = np.array(topic_df.loc[topic_df[\"sentiment\"] == -1].sentiment)\n",
    "    neu_data = np.array(topic_df.loc[topic_df[\"sentiment\"] == 0].sentiment)\n",
    "    pos_data = np.array(topic_df.loc[topic_df[\"sentiment\"] == 1].sentiment)\n",
    "    sent_data = np.array([neg_data, neu_data, pos_data])\n",
    "    ax = axes[data_count]\n",
    "    sns.distplot(neg_data, ax=ax, bins=3, kde=False, color=\"r\")\n",
    "    sns.distplot(neu_data, ax=ax, bins=3, kde=False, color=\"b\")\n",
    "    sns.distplot(pos_data, ax=ax, bins=3, kde=False, color=\"g\")\n",
    "    ax.set(title=topicfile.split(\"_\")[0])\n",
    "    print(get_df_stats(topic_df, topicfile))\n",
    "    data_count += 1\n",
    "    \n",
    "plt.savefig(\"topic_sentiment.png\", dpi=300, transparent=True)"
   ]
  },
  {
   "cell_type": "code",
   "execution_count": 50,
   "metadata": {},
   "outputs": [],
   "source": [
    "def get_opinion_extremes(df, sent, top=10):\n",
    "    df = df[df.sentiment==sent].sort_values(by='sentiment_score', ascending=False)[:top]\n",
    "    for n, v in zip(df.name.values, df.text.values):\n",
    "        print(v)\n",
    "        print(\"---\", n)\n",
    "        print()"
   ]
  },
  {
   "cell_type": "code",
   "execution_count": 51,
   "metadata": {},
   "outputs": [
    {
     "name": "stdout",
     "output_type": "stream",
     "text": [
      "Inferences do help $T$ establishing a tenet, but ideas seem half-baked and are too generalised. More importantly, as the author tries to shift focus from one technology to another, he completely misses out on delving deeper into the issues and only addresses them superficially. Generalised statements like there will be a need for new organising principles or structures for families, industries, and countries do not provide any insight into what these structures or organising principles might be. One of the critical problems with inferencing is assuming that our society would behave like the western one, which has proved to be a fallacy as far as interactions with technology are concerned. Thus, the work does not do justice to the idea of decoding the future. Also, the report-like writing becomes boring and repetitive, because of which the reader is bound to lose interest.\n",
      "--- India\n",
      "\n",
      "$T$ A situation in which one player's gain is equivalent to another's loss the net change in wealth or benefit to the game as a whole is zero.\n",
      "--- A6M Zero\n",
      "\n",
      "Congress, which had ruled $T$ for much of its post-independence history, suffered its worst ever tally of seats $T$ the national parliament.\n",
      "--- India\n",
      "\n",
      "Inferences do help $T$ establishing a tenet, but ideas seem half-baked and are too generalised. More importantly, as the author tries to shift focus from one technology to another, he completely misses out on delving deeper into the issues and only addresses them superficially. Generalised statements like there will be a need for new organising principles or structures for families, industries, and countries do not provide any insight into what these structures or organising principles might be. One of the critical problems with inferencing is assuming that our society would behave like the western one, which has proved to be a fallacy as far as interactions with technology are concerned. Thus, the work does not do justice to the idea of decoding the future. Also, the report-like writing becomes boring and repetitive, because of which the reader is bound to lose interest.\n",
      "--- India\n",
      "\n",
      "Average rig count in the Bakken will slump from nine to just $T$ Overall production is expected to decline 5 year-over-year.\n",
      "--- 3\n",
      "\n",
      "But nearly 18 months later, much of the data remains unavailable to academics because $T$ says it has struggled to share the information while also protecting its users' privacy. And the information the company eventually releases is expected to be far less comprehensive than originally described As a result, researchers say, the public may have little more insight into disinformation campaigns on the social network heading into the 2020 presidential election than they had in 2016. Seven nonprofit groups that have helped finance the research efforts , including the Knight Foundation and the Charles Koch Foundation , have even threatened to end their involvement.\n",
      "--- Facebook\n",
      "\n",
      "Already, more than half of companies that borrow through corporate bond markets eligible to get help from the $T$ under its current rules. and Gap Inc. are furloughing most of their workers as their sales collapse but they might not qualify for the massive backstop for companies that Congress just passed because their finances are so bad that their debt is rated as junk.\n",
      "--- Federal Reserve System\n",
      "\n",
      "SEE ALSO 7 Great ETFs to Avoid the Havoc in Energy Stocks $T$ Getty Images Market value $10.4 billion Dividend yield 3.8 Commodity busts typically are marked by a large deal that instantly goes bad.\n",
      "--- Occidental Petroleum\n",
      "\n",
      "either $T$ somewhere in the North Sea or the Gulf of Mexico, or ruin the production environment.\n",
      "--- remote control unit\n",
      "\n",
      "$T$ still lacks in efficient monetization of its international users, and relies all too heavily on slowly growing US users to generate a majority of its revenue.\n",
      "--- Pinterest\n",
      "\n"
     ]
    }
   ],
   "source": [
    "get_opinion_extremes(ent_df, -1)"
   ]
  },
  {
   "cell_type": "code",
   "execution_count": 52,
   "metadata": {},
   "outputs": [
    {
     "name": "stdout",
     "output_type": "stream",
     "text": [
      "2 Diosdado Cabello, the elder brother of late president Hugo Chavez, and 16 firms in $T$ The economy and finance National Commission Against Money Laundering released the list late on Thursday, following its initial announcement on Tuesday.\n",
      "--- Venezuela\n",
      "\n",
      "Huffer began selling $T$ in retailers such as Cheapskates and after 14 years in business, opened its first retail store in Newmarket in 2011. It opened its first Australian store at Bondi Beach in Sydney, then one in Newtown and Melbourne.\n",
      "--- clothing\n",
      "\n",
      "The company's headquarters are in $T$ with additional offices in Manchester, London, New York and Munich. Contact Jana Walker Investor Relations 30-Dec-2019 The DGAP Distribution Services include Regulatory Announcements, News and Press Releases.\n",
      "--- Berlin\n",
      "\n",
      "Archive at www.dgap.de Language English Company The Social Chain AG 22 10119 $T$ Germany Phone 49 (0)30 120840112 E-mail Internet www.lumaland.com ISIN DE000A1YC996 WKN A1YC99 Listed Regulated Unofficial Market in Dusseldorf EQS News ID 945009 End of Announcement DGAP News Service 945009 30-Dec-2019 (END) Dow Jones Newswires December 30, 2019 ET ( GMT)\n",
      "--- Berlin\n",
      "\n",
      "$T$ and US brewer Molson Coors, both have similar systems.\n",
      "--- Carlsberg Group\n",
      "\n",
      "Archive at $T$ Language English Company The Social Chain AG 22 10119 Berlin $T$ Phone 49 (0)30 120840112 E-mail Internet www.lumaland.com ISIN DE000A1YC996 WKN A1YC99 Listed Regulated Unofficial Market in Dusseldorf EQS News ID 945009 End of Announcement DGAP News Service 945009 30-Dec-2019 (END) Dow Jones Newswires December 30, 2019 ET ( GMT)\n",
      "--- Germany\n",
      "\n",
      "The company's headquarters are in Berlin with additional offices in Manchester, London, New York and $T$ Contact Jana Walker Investor Relations 30-Dec-2019 The DGAP Distribution Services include Regulatory Announcements, News and Press Releases. Archive at www.dgap.de Language English Company The Social Chain AG 22 10119 Berlin Germany Phone 49 (0)30 120840112 E-mail Internet www.lumaland.com ISIN DE000A1YC996 WKN A1YC99 Listed Regulated Unofficial Market in Dusseldorf EQS News ID 945009 End of Announcement DGAP News Service 945009 30-Dec-2019 (END) Dow Jones Newswires December 30, 2019 ET ( GMT)\n",
      "--- Munich\n",
      "\n",
      "Industrial $T$ is produced as a by-product of making ammonia used in fertilizer production. Fertilizer production typically peaks in winter to build stocks for spring farming, so plant maintenance-related shutdowns are common in summer.\n",
      "--- carbon dioxide\n",
      "\n",
      "Archive at www.dgap.de Language $T$ Company The Social Chain AG 22 10119 Berlin Germany Phone 49 (0)30 120840112 E-mail Internet www.lumaland.com ISIN DE000A1YC996 WKN A1YC99 Listed Regulated Unofficial Market in Dusseldorf EQS News ID 945009 End of Announcement DGAP News Service 945009 30-Dec-2019 (END) Dow Jones Newswires December 30, 2019 ET ( GMT)\n",
      "--- English\n",
      "\n",
      "ATN - $T$ Becomes Official Canadian Broadcaster of Inaugural Global T20 CanadaCanada NewsWireTORONTO, June 28, 2018.\n",
      "--- Asian Television Network\n",
      "\n"
     ]
    }
   ],
   "source": [
    "get_opinion_extremes(ent_df, 0)"
   ]
  },
  {
   "cell_type": "code",
   "execution_count": 53,
   "metadata": {},
   "outputs": [
    {
     "name": "stdout",
     "output_type": "stream",
     "text": [
      "All of these projects illustrate how newsrooms truly work to serve the American $T$ The reporters and staff who worked on these projects fulfilled USA TODAY commitment to impactful journalism, and an accomplishment in and of itself, said Randy Lovely, vice president for community news for the USA TODAY NETWORK. It is, of course, also wonderful to see our reporters and staff earn recognition from such a prestigious national organization for their work as well.\n",
      "--- human\n",
      "\n",
      "Learn more about Diversified's comprehensive portfolio of solutions and service offerings at About $T$ Of The Year $T$ Of The founded by EY, is the world's most prestigious business awards program for entrepreneurs, chosen from an independent panel of judges including entrepreneurs and prominent leaders from business, finance, and the local community. The program makes a difference through the way it encourages entrepreneurial activity among those with potential and recognizes the contribution of people who inspire others with their vision, leadership and achievement.\n",
      "--- Entrepreneur\n",
      "\n",
      "Renault and $T$ are proud to enable Aseel to pursue the passion for motorsport she has cultivated over the years on the same day women are able to drive on the roads of Saudi Arabia.\n",
      "--- Formula One\n",
      "\n",
      "The incredible energy and cutting technology of F1 parallel FXDD's innovation in the global Forex market resulting in a terrific fit between the two entities, said Joseph $T$ current CEO of FXDD. During the F1 Championship, logo appeared on the RB6 cars, the racing suits of both drivers, and the Red .\n",
      "--- Botkier\n",
      "\n",
      "Commenting on the announcement, Mike Longo, President and Chief Executive Officer of the $T$ said, We are pleased to welcome Bob to our team at Hibbett Sports. His years of experience in retail accounting and finance with successful, growing companies will be a great contribution to an already strong team. In addition, he has driven operational efficiency enhancements in all areas he has overseen and has worked as a strong business partner with merchandising and operations. I look forward to him joining the Hibbett Team and working with him as we navigate these turbulent times.\n",
      "--- Company\n",
      "\n",
      "Speaking about the partnership, Mr. P. Kaniappan, WABCO India Managing Director, added, We are proud to continue our strong partnership with $T$ with the introduction of WABCOs industry-leading portfolio of Advanced Driver Assistance Systems to Indias dynamic growth market.\n",
      "--- Tata Motors\n",
      "\n",
      "The incredible energy and cutting technology of $T$ parallel FXDD's innovation in the global Forex market resulting in a terrific fit between the two entities, said Joseph Botkier current CEO of FXDD.\n",
      "--- Formula One\n",
      "\n",
      "As a global technology leader, WABCO is delighted to support $T$ with innovative and pioneering technologies that deliver sustained and differentiating value. It will play an important role in helping to reduce road accidents as well as enhancing operational efficiency.\n",
      "--- Tata Motors\n",
      "\n",
      "Just looking up at the stars, a wonderful thing you can do anyone can do it, especially $T$ who live outside the city, she said. Read more award-winning journalism from as little as 50c a day.\n",
      "--- human\n",
      "\n",
      "The 20-time Grand Slam champion moved around the $T$ well and hit the ball crisply to overwhelm Norrie. I was very happy that I was able to come out tonight and put in a good performance, Federer said. I was happy with all aspects of my game. footwork, offensive play, serve, return.\n",
      "--- tennis court\n",
      "\n"
     ]
    }
   ],
   "source": [
    "get_opinion_extremes(ent_df, 1)"
   ]
  },
  {
   "cell_type": "code",
   "execution_count": 25,
   "metadata": {},
   "outputs": [],
   "source": [
    "from sklearn.model_selection import train_test_split"
   ]
  },
  {
   "cell_type": "code",
   "execution_count": 26,
   "metadata": {},
   "outputs": [],
   "source": [
    "def format_parentheses(df):\n",
    "    # this is how the sentiment models are designed to handle parentheses.\n",
    "    def replace_paren(row):\n",
    "        text = row[\"text\"]\n",
    "        text = text.replace(\"(\", \"-LRB-\")\n",
    "        text = text.replace(\")\", \"-RRB-\")\n",
    "        row[\"text\"] = text\n",
    "        return row\n",
    "    return df.apply(lambda row: replace_paren(row), axis=1)"
   ]
  },
  {
   "cell_type": "code",
   "execution_count": 27,
   "metadata": {},
   "outputs": [],
   "source": [
    "pre_split = format_parentheses(ent_df)\n",
    "train, test = train_test_split(pre_split, test_size=0.1, random_state=4242, stratify=ent_df[[\"sentiment\"]])"
   ]
  },
  {
   "cell_type": "markdown",
   "metadata": {},
   "source": [
    "# Target leakage..?"
   ]
  },
  {
   "cell_type": "code",
   "execution_count": 93,
   "metadata": {},
   "outputs": [],
   "source": [
    "train_ids = set(train.id)\n",
    "test_ids = set(test.id)"
   ]
  },
  {
   "cell_type": "code",
   "execution_count": 94,
   "metadata": {},
   "outputs": [],
   "source": [
    "for tr_id in train_ids:\n",
    "    if tr_id in test_ids:\n",
    "        print(tr_id)\n",
    "        break"
   ]
  },
  {
   "cell_type": "markdown",
   "metadata": {},
   "source": [
    "# YEP! fix this by splitting on IDs rather than random split"
   ]
  },
  {
   "cell_type": "code",
   "execution_count": 55,
   "metadata": {},
   "outputs": [],
   "source": [
    "ent_df.drop(ent_df.columns[[0, 1]], axis=1, inplace=True)"
   ]
  },
  {
   "cell_type": "code",
   "execution_count": 58,
   "metadata": {},
   "outputs": [
    {
     "data": {
      "text/html": [
       "<div>\n",
       "<style scoped>\n",
       "    .dataframe tbody tr th:only-of-type {\n",
       "        vertical-align: middle;\n",
       "    }\n",
       "\n",
       "    .dataframe tbody tr th {\n",
       "        vertical-align: top;\n",
       "    }\n",
       "\n",
       "    .dataframe thead th {\n",
       "        text-align: right;\n",
       "    }\n",
       "</style>\n",
       "<table border=\"1\" class=\"dataframe\">\n",
       "  <thead>\n",
       "    <tr style=\"text-align: right;\">\n",
       "      <th></th>\n",
       "      <th>id</th>\n",
       "      <th>entity_id</th>\n",
       "      <th>name</th>\n",
       "      <th>text</th>\n",
       "      <th>references</th>\n",
       "      <th>sentiment</th>\n",
       "      <th>sentiment_score</th>\n",
       "      <th>text_length</th>\n",
       "    </tr>\n",
       "  </thead>\n",
       "  <tbody>\n",
       "    <tr>\n",
       "      <th>0</th>\n",
       "      <td>IjdiYTA5NGY1ZTZiOTI2OTFhOWYyZjgzNzBmMzdjNWE5Mz...</td>\n",
       "      <td>Q130879</td>\n",
       "      <td>Reuters</td>\n",
       "      <td>PANAMA CITY $T$ - Venezuelan president Nicolas...</td>\n",
       "      <td>Stephen J. Adler,business,Agence Reuters,telec...</td>\n",
       "      <td>-1</td>\n",
       "      <td>0.9983</td>\n",
       "      <td>963</td>\n",
       "    </tr>\n",
       "    <tr>\n",
       "      <th>1</th>\n",
       "      <td>IjdiYTA5NGY1ZTZiOTI2OTFhOWYyZjgzNzBmMzdjNWE5Mz...</td>\n",
       "      <td>Q170972</td>\n",
       "      <td>Socialist Party</td>\n",
       "      <td>Venezuelan Attorney General Tarek William Saab...</td>\n",
       "      <td>Parti Socialiste,France,PS,Socialist Party (Fr...</td>\n",
       "      <td>-1</td>\n",
       "      <td>0.9992</td>\n",
       "      <td>716</td>\n",
       "    </tr>\n",
       "    <tr>\n",
       "      <th>2</th>\n",
       "      <td>IjdiYTA5NGY1ZTZiOTI2OTFhOWYyZjgzNzBmMzdjNWE5Mz...</td>\n",
       "      <td>Q7188</td>\n",
       "      <td>government</td>\n",
       "      <td>socialist $T$ has repeatedly vowed to combat c...</td>\n",
       "      <td>government,gov,political organisation</td>\n",
       "      <td>-1</td>\n",
       "      <td>0.9994</td>\n",
       "      <td>318</td>\n",
       "    </tr>\n",
       "  </tbody>\n",
       "</table>\n",
       "</div>"
      ],
      "text/plain": [
       "                                                  id entity_id  \\\n",
       "0  IjdiYTA5NGY1ZTZiOTI2OTFhOWYyZjgzNzBmMzdjNWE5Mz...   Q130879   \n",
       "1  IjdiYTA5NGY1ZTZiOTI2OTFhOWYyZjgzNzBmMzdjNWE5Mz...   Q170972   \n",
       "2  IjdiYTA5NGY1ZTZiOTI2OTFhOWYyZjgzNzBmMzdjNWE5Mz...     Q7188   \n",
       "\n",
       "              name                                               text  \\\n",
       "0          Reuters  PANAMA CITY $T$ - Venezuelan president Nicolas...   \n",
       "1  Socialist Party  Venezuelan Attorney General Tarek William Saab...   \n",
       "2       government  socialist $T$ has repeatedly vowed to combat c...   \n",
       "\n",
       "                                          references  sentiment  \\\n",
       "0  Stephen J. Adler,business,Agence Reuters,telec...         -1   \n",
       "1  Parti Socialiste,France,PS,Socialist Party (Fr...         -1   \n",
       "2              government,gov,political organisation         -1   \n",
       "\n",
       "   sentiment_score  text_length  \n",
       "0           0.9983          963  \n",
       "1           0.9992          716  \n",
       "2           0.9994          318  "
      ]
     },
     "execution_count": 58,
     "metadata": {},
     "output_type": "execute_result"
    }
   ],
   "source": [
    "ent_df.head(3)"
   ]
  },
  {
   "cell_type": "code",
   "execution_count": 59,
   "metadata": {},
   "outputs": [
    {
     "data": {
      "text/plain": [
       "0        IjdiYTA5NGY1ZTZiOTI2OTFhOWYyZjgzNzBmMzdjNWE5Mz...\n",
       "1        IjdiYTA5NGY1ZTZiOTI2OTFhOWYyZjgzNzBmMzdjNWE5Mz...\n",
       "2        IjdiYTA5NGY1ZTZiOTI2OTFhOWYyZjgzNzBmMzdjNWE5Mz...\n",
       "3        IjdiYTA5NGY1ZTZiOTI2OTFhOWYyZjgzNzBmMzdjNWE5Mz...\n",
       "4        IjdiYTA5NGY1ZTZiOTI2OTFhOWYyZjgzNzBmMzdjNWE5Mz...\n",
       "                               ...                        \n",
       "47262    IjNlNjkxZmQ0OGQ4MWIwZmU0MDk3NGI4Y2JlYjA4YjEwMD...\n",
       "47263    IjNlNjkxZmQ0OGQ4MWIwZmU0MDk3NGI4Y2JlYjA4YjEwMD...\n",
       "47264    IjNlNjkxZmQ0OGQ4MWIwZmU0MDk3NGI4Y2JlYjA4YjEwMD...\n",
       "47265    IjNlNjkxZmQ0OGQ4MWIwZmU0MDk3NGI4Y2JlYjA4YjEwMD...\n",
       "47266    IjNlNjkxZmQ0OGQ4MWIwZmU0MDk3NGI4Y2JlYjA4YjEwMD...\n",
       "Name: id, Length: 47267, dtype: object"
      ]
     },
     "execution_count": 59,
     "metadata": {},
     "output_type": "execute_result"
    }
   ],
   "source": [
    "ent_ids = ent_df.id\n",
    "ent_ids"
   ]
  },
  {
   "cell_type": "code",
   "execution_count": 69,
   "metadata": {},
   "outputs": [],
   "source": [
    "# get unique ids:\n",
    "uniq_ids = list(set(ent_ids))"
   ]
  },
  {
   "cell_type": "code",
   "execution_count": 70,
   "metadata": {},
   "outputs": [
    {
     "data": {
      "text/plain": [
       "3330"
      ]
     },
     "execution_count": 70,
     "metadata": {},
     "output_type": "execute_result"
    }
   ],
   "source": [
    "len(uniq_ids)"
   ]
  },
  {
   "cell_type": "markdown",
   "metadata": {},
   "source": [
    "## Selection of IDs\n",
    "- As 1 id corresponds to multiple documents, the percentage of IDs won't correspond directly to the final segmented data"
   ]
  },
  {
   "cell_type": "code",
   "execution_count": 71,
   "metadata": {},
   "outputs": [
    {
     "data": {
      "text/plain": [
       "333"
      ]
     },
     "execution_count": 71,
     "metadata": {},
     "output_type": "execute_result"
    }
   ],
   "source": [
    "from random import choices\n",
    "ten_percent = len(uniq_ids) // 10\n",
    "test_ids = choices(uniq_ids, k = ten_percent)\n",
    "len(test_ids)"
   ]
  },
  {
   "cell_type": "code",
   "execution_count": 72,
   "metadata": {},
   "outputs": [],
   "source": [
    "_sample = test_ids[0]"
   ]
  },
  {
   "cell_type": "code",
   "execution_count": 85,
   "metadata": {},
   "outputs": [],
   "source": [
    "test = ent_df[ent_df.id.isin(test_ids)]"
   ]
  },
  {
   "cell_type": "code",
   "execution_count": 86,
   "metadata": {},
   "outputs": [],
   "source": [
    "train = ent_df[~ent_df.id.isin(test_ids)]"
   ]
  },
  {
   "cell_type": "code",
   "execution_count": 87,
   "metadata": {},
   "outputs": [
    {
     "name": "stdout",
     "output_type": "stream",
     "text": [
      " 1    19355\n",
      "-1    16739\n",
      " 0     7022\n",
      "Name: sentiment, dtype: int64\n"
     ]
    },
    {
     "data": {
      "image/png": "[encoded data removed]",
      "text/plain": [
       "<Figure size 432x288 with 1 Axes>"
      ]
     },
     "metadata": {
      "image/png": {
       "height": 264,
       "width": 411
      },
      "needs_background": "light"
     },
     "output_type": "display_data"
    }
   ],
   "source": [
    "sentiment_distribution(train)"
   ]
  },
  {
   "cell_type": "code",
   "execution_count": 88,
   "metadata": {},
   "outputs": [
    {
     "name": "stdout",
     "output_type": "stream",
     "text": [
      " 1    1844\n",
      "-1    1542\n",
      " 0     765\n",
      "Name: sentiment, dtype: int64\n"
     ]
    },
    {
     "data": {
      "image/png": "[encoded data removed]",
      "text/plain": [
       "<Figure size 432x288 with 1 Axes>"
      ]
     },
     "metadata": {
      "image/png": {
       "height": 260,
       "width": 400
      },
      "needs_background": "light"
     },
     "output_type": "display_data"
    }
   ],
   "source": [
    "sentiment_distribution(test)"
   ]
  },
  {
   "cell_type": "code",
   "execution_count": 89,
   "metadata": {},
   "outputs": [],
   "source": [
    "# the DFs in the correct .xml.seg format, based around ACL14 and SemEval14\n",
    "# TEXT\n",
    "# TARGET\n",
    "# SENTIMENT\n",
    "\n",
    "def _write(f, data):\n",
    "    f.write(data)\n",
    "    f.write(\"\\n\")\n",
    "    \n",
    "def save_row(f, row):\n",
    "    text = row['text']\n",
    "    sentiment = str(row['sentiment'])\n",
    "    target = row['name']\n",
    "\n",
    "    _write(f, text)\n",
    "    _write(f, target)\n",
    "    _write(f, sentiment)\n"
   ]
  },
  {
   "cell_type": "code",
   "execution_count": 90,
   "metadata": {},
   "outputs": [],
   "source": [
    "save_folder = \"STEP 3 - ABSA-format\"\n",
    "save_path = os.path.join(os.getcwd(), save_folder)\n"
   ]
  },
  {
   "cell_type": "code",
   "execution_count": 91,
   "metadata": {},
   "outputs": [],
   "source": [
    "train_path = os.path.join(save_path, \"{}_distant_train.litesent\".format(\"entities\"))\n",
    "with open(train_path, 'w', encoding=\"utf8\") as f:\n",
    "    [save_row(f, row) for idx, row in train.iterrows()]"
   ]
  },
  {
   "cell_type": "code",
   "execution_count": 92,
   "metadata": {},
   "outputs": [],
   "source": [
    "test_path = os.path.join(save_path, \"{}_distant_test.litesent\".format(\"entities\"))\n",
    "with open(test_path, 'w', encoding=\"utf8\") as f:\n",
    "    [save_row(f, row) for idx, row in test.iterrows()]"
   ]
  },
  {
   "cell_type": "code",
   "execution_count": 88,
   "metadata": {},
   "outputs": [],
   "source": [
    "both = pd.concat([train, test])"
   ]
  },
  {
   "cell_type": "code",
   "execution_count": 89,
   "metadata": {},
   "outputs": [],
   "source": [
    "both_path = os.path.join(save_path, \"distant_supervision_big.seg\")\n",
    "with open(both_path, 'w', encoding=\"utf8\") as f:\n",
    "    [save_row(f, row) for idx, row in both.iterrows()]"
   ]
  },
  {
   "cell_type": "markdown",
   "metadata": {},
   "source": [
    "# Save entire files, no splitting"
   ]
  },
  {
   "cell_type": "code",
   "execution_count": 29,
   "metadata": {
    "scrolled": false
   },
   "outputs": [],
   "source": [
    "for topicfile in os.listdir(path):\n",
    "    if not \"entities\" in topicfile:\n",
    "        continue\n",
    "\n",
    "    topic_path = os.path.join(path, topicfile)\n",
    "    topic_df = pd.read_csv(topic_path)\n",
    "    topic_df = format_parentheses(topic_df)\n",
    "    \n",
    "    topicname = topicfile.split(\"_\")[0]\n",
    "    \n",
    "    _path = os.path.join(save_path, \"{}_distant.litesent\".format(topicname))\n",
    "    \n",
    "    with open(_path, 'w', encoding=\"utf8\") as f:\n",
    "        [save_row(f, row) for idx, row in topic_df.iterrows()]"
   ]
  },
  {
   "cell_type": "markdown",
   "metadata": {},
   "source": [
    "# Sample randomly and save it"
   ]
  },
  {
   "cell_type": "code",
   "execution_count": 32,
   "metadata": {},
   "outputs": [],
   "source": [
    "_path = os.path.join(save_path, \"{}_distant.litesent\".format(\"100entities\"))\n",
    "\n",
    "_entity_df = pd.read_csv(os.path.join(path, \"entities.csv\"))\n",
    "_entity_df = format_parentheses(_entity_df)\n",
    "sample = _entity_df.sample(n=100)\n",
    "\n",
    "with open(_path, 'w', encoding=\"utf8\") as f:\n",
    "    [save_row(f, row) for idx, row in sample.iterrows()]"
   ]
  },
  {
   "cell_type": "markdown",
   "metadata": {},
   "source": [
    "# Save the files\n",
    "## Iterate all files and generate train/test splits"
   ]
  },
  {
   "cell_type": "code",
   "execution_count": 114,
   "metadata": {},
   "outputs": [
    {
     "name": "stdout",
     "output_type": "stream",
     "text": [
      "Original shape: (5346, 11)\n",
      "keeping text lengths within 80% of the distribution\n",
      "min: 46.0, max: 673.9999999999891\n",
      "Dropping 215 rows\n",
      "New shape: (5131, 11)\n",
      "Original shape: (19758, 11)\n",
      "keeping text lengths within 80% of the distribution\n",
      "min: 45.0, max: 603.8600000000006\n",
      "Dropping 811 rows\n",
      "New shape: (18947, 11)\n",
      "Original shape: (5922, 11)\n",
      "keeping text lengths within 80% of the distribution\n",
      "min: 44.0, max: 609.5799999999999\n",
      "Dropping 243 rows\n",
      "New shape: (5679, 11)\n",
      "Original shape: (3948, 11)\n",
      "keeping text lengths within 80% of the distribution\n",
      "min: 46.0, max: 544.1199999999999\n",
      "Dropping 160 rows\n",
      "New shape: (3788, 11)\n",
      "Original shape: (4542, 11)\n",
      "keeping text lengths within 80% of the distribution\n",
      "min: 43.0, max: 581.0\n",
      "Dropping 184 rows\n",
      "New shape: (4358, 11)\n"
     ]
    }
   ],
   "source": [
    "for topicfile in os.listdir(path):\n",
    "    topic_path = os.path.join(path, topicfile)\n",
    "    topic_df = pd.read_csv(topic_path)\n",
    "    topic_df = add_text_length(topic_df)\n",
    "    topic_df = shorten_texts(topic_df)\n",
    "    \n",
    "    train, test = train_test_split(topic_df, test_size=0.1, random_state=4242, stratify=topic_df[[\"sentiment\"]])\n",
    "    \n",
    "    topicname = topicfile.split(\"_\")[0]\n",
    "    \n",
    "    train_path = os.path.join(save_path, \"{}_distant_train.litesent\".format(topicname))\n",
    "    test_path = os.path.join(save_path, \"{}_distant_test.litesent\".format(topicname))\n",
    "    \n",
    "    with open(train_path, 'w', encoding=\"utf8\") as f:\n",
    "        [save_row(f, row) for idx, row in train.iterrows()]\n",
    "    with open(test_path, 'w', encoding=\"utf8\") as f:\n",
    "        [save_row(f, row) for idx, row in test.iterrows()]\n",
    "        \n",
    "    if topicfile == \"entities.csv\":\n",
    "        both = pd.concat([train, test])\n",
    "        both_path = os.path.join(save_path, \"distant_all_data.litesent\")\n",
    "        with open(both_path, 'w', encoding=\"utf8\") as f:\n",
    "            [save_row(f, row) for idx, row in both.iterrows()]"
   ]
  },
  {
   "cell_type": "code",
   "execution_count": null,
   "metadata": {},
   "outputs": [],
   "source": []
  }
 ],
 "metadata": {
  "kernelspec": {
   "display_name": "Python 3",
   "language": "python",
   "name": "python3"
  },
  "language_info": {
   "codemirror_mode": {
    "name": "ipython",
    "version": 3
   },
   "file_extension": ".py",
   "mimetype": "text/x-python",
   "name": "python",
   "nbconvert_exporter": "python",
   "pygments_lexer": "ipython3",
   "version": "3.7.6"
  }
 },
 "nbformat": 4,
 "nbformat_minor": 4
}
