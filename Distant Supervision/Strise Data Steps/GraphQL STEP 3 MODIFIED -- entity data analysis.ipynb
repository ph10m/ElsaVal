{
 "cells": [
  {
   "cell_type": "code",
   "execution_count": 72,
   "metadata": {},
   "outputs": [],
   "source": [
    "import pandas as pd\n",
    "import numpy as np\n",
    "import os\n",
    "import re\n",
    "%matplotlib inline\n",
    "import matplotlib.pyplot as plt"
   ]
  },
  {
   "cell_type": "code",
   "execution_count": 73,
   "metadata": {},
   "outputs": [],
   "source": [
    "MASK = \"$T$\""
   ]
  },
  {
   "cell_type": "code",
   "execution_count": 74,
   "metadata": {},
   "outputs": [
    {
     "data": {
      "text/plain": [
       "'C:\\\\Users\\\\Tollef\\\\Documents\\\\GitHub\\\\masterNEW\\\\REPO\\\\strise\\\\STEP 2 - CSV_WITH_SENTIMENT'"
      ]
     },
     "execution_count": 74,
     "metadata": {},
     "output_type": "execute_result"
    }
   ],
   "source": [
    "main_folder = os.path.dirname(os.getcwd())\n",
    "path = os.path.join(main_folder, \"strise\", \"STEP 2 - CSV_WITH_SENTIMENT\")\n",
    "path"
   ]
  },
  {
   "cell_type": "code",
   "execution_count": 77,
   "metadata": {},
   "outputs": [
    {
     "data": {
      "text/plain": [
       "(59199, 10)"
      ]
     },
     "execution_count": 77,
     "metadata": {},
     "output_type": "execute_result"
    }
   ],
   "source": [
    "ent_df = pd.read_csv(os.path.join(path, \"entities.csv\"))\n",
    "ent_df.head()\n",
    "ent_df.shape"
   ]
  },
  {
   "cell_type": "markdown",
   "metadata": {},
   "source": [
    "## Plotting"
   ]
  },
  {
   "cell_type": "code",
   "execution_count": 78,
   "metadata": {},
   "outputs": [],
   "source": [
    "def hist_plot(df, col, bins=500):\n",
    "    _ = plt.hist(df[col], bins=bins)"
   ]
  },
  {
   "cell_type": "markdown",
   "metadata": {},
   "source": [
    "## Feature management\n",
    "\n",
    "- Text length\n",
    "- Sentiment"
   ]
  },
  {
   "cell_type": "markdown",
   "metadata": {},
   "source": [
    "### Text length"
   ]
  },
  {
   "cell_type": "code",
   "execution_count": 79,
   "metadata": {},
   "outputs": [],
   "source": [
    "def calc_text_length(row):\n",
    "    row['text_length'] = len(row['text'])\n",
    "    return row\n",
    "\n",
    "# add text length as a column\n",
    "def add_text_length(df):\n",
    "    df[\"text_length\"] = np.nan\n",
    "    return df.apply(lambda row: calc_text_length(row), axis=1)\n",
    "\n",
    "ent_df = add_text_length(ent_df)"
   ]
  },
  {
   "cell_type": "code",
   "execution_count": 80,
   "metadata": {},
   "outputs": [
    {
     "data": {
      "image/png": "[encoded data removed]",
      "text/plain": [
       "<Figure size 432x288 with 1 Axes>"
      ]
     },
     "metadata": {
      "needs_background": "light"
     },
     "output_type": "display_data"
    }
   ],
   "source": [
    "hist_plot(ent_df, \"text_length\", bins = 500)"
   ]
  },
  {
   "cell_type": "code",
   "execution_count": 81,
   "metadata": {},
   "outputs": [
    {
     "name": "stdout",
     "output_type": "stream",
     "text": [
      "Original shape: (59199, 11)\n",
      "keeping text lengths within 80% of the distribution\n",
      "min: 87.0, max: 319.0\n",
      "Dropping 11960 rows\n",
      "New shape: (47239, 11)\n"
     ]
    },
    {
     "data": {
      "image/png": "[encoded data removed]",
      "text/plain": [
       "<Figure size 432x288 with 1 Axes>"
      ]
     },
     "metadata": {
      "needs_background": "light"
     },
     "output_type": "display_data"
    }
   ],
   "source": [
    "def shorten_texts(df):\n",
    "    print(\"Original shape:\", df.shape)\n",
    "    q_min, q_max = (df['text_length'].dropna().quantile([0.1, 0.9]))\n",
    "    print('keeping text lengths within 80% of the distribution')\n",
    "    print('min: {}, max: {}'.format(q_min, q_max))\n",
    "    shortened_texts = df[(df.text_length > q_min) & (df.text_length < q_max)]\n",
    "    print('Dropping {} rows'.format(df.shape[0] - shortened_texts.shape[0]))\n",
    "    df = shortened_texts\n",
    "    print(\"New shape:\", df.shape)\n",
    "    return df\n",
    "\n",
    "ent_df = shorten_texts(ent_df)\n",
    "hist_plot(ent_df, \"text_length\", bins = 200)"
   ]
  },
  {
   "cell_type": "markdown",
   "metadata": {},
   "source": [
    "### Sentiment\n",
    "Findings show that the labeled dataset is _extremely_ balanced"
   ]
  },
  {
   "cell_type": "code",
   "execution_count": 82,
   "metadata": {},
   "outputs": [],
   "source": [
    "sent_vals = ent_df.sentiment.unique()\n",
    "sent_range = [min(sent_vals), max(sent_vals)]"
   ]
  },
  {
   "cell_type": "code",
   "execution_count": 83,
   "metadata": {},
   "outputs": [
    {
     "name": "stdout",
     "output_type": "stream",
     "text": [
      " 0    16417\n",
      " 1    16371\n",
      "-1    14451\n",
      "Name: sentiment, dtype: int64\n"
     ]
    },
    {
     "data": {
      "image/png": "[encoded data removed]",
      "text/plain": [
       "<Figure size 432x288 with 1 Axes>"
      ]
     },
     "metadata": {
      "needs_background": "light"
     },
     "output_type": "display_data"
    }
   ],
   "source": [
    "def sentiment_distribution(df):\n",
    "    dist = df.sentiment.value_counts()\n",
    "    print(dist)\n",
    "    n, bins, sentiments = plt.hist(df.sentiment, range=sent_range, bins=3)\n",
    "    NEG = 'r'\n",
    "    NEU = 'b'\n",
    "    POS = 'g'\n",
    "    sentiments[0].set_fc(NEG)\n",
    "    sentiments[1].set_fc(NEU)\n",
    "    sentiments[2].set_fc(POS)\n",
    "\n",
    "sentiment_distribution(ent_df)"
   ]
  },
  {
   "cell_type": "code",
   "execution_count": 92,
   "metadata": {},
   "outputs": [],
   "source": [
    "def get_opinion_extremes(df, sent, top=10):\n",
    "    df = df[df.sentiment==sent].sort_values(by='sentiment_score', ascending=False)[:10]\n",
    "    for n, v in zip(df.name.values, df.text.values):\n",
    "        print(v)\n",
    "        print(\"---\", n)\n",
    "        print()"
   ]
  },
  {
   "cell_type": "code",
   "execution_count": 93,
   "metadata": {},
   "outputs": [
    {
     "name": "stdout",
     "output_type": "stream",
     "text": [
      "After all of the IOTA infrastructure is set in place (JINN ternary processors and an IOTA related AI), it will make no sense to $T$ into 3.\n",
      "--- Go\n",
      "\n",
      "He wrote that the network was on the brink of technical $T$ The mechanisms that should have prevented this outcome have broken down, and as a result no longer much reason to think Bitcoin can actually be better than the existing financial system.\n",
      "--- societal collapse\n",
      "\n",
      "How confident is it that the $T$ won't be 2.77 per cent or 1.85 per cent Given that historical analyses of such forecasts find they're often off by a magnitude of one to two percentage points, the second and especially third digits look pretty meaningless.\n",
      "--- prediction\n",
      "\n",
      "All that piling up has resulted in ROL tangible book value per $T$ turning negative, severely so at -$0.44.\n",
      "--- stock\n",
      "\n",
      "Furthermore, let's compare Bremelanotide's safety profile to that of its competitor, Addyi Legitimate Concern Vyleesi May Fail Because Addyi Was a Flop Addyi was a $T$ developed by Sprout Pharmaceuticals in 2015 as the first ever treatment for female HSDD.\n",
      "--- medication\n",
      "\n",
      "Therefore, if we continue to use $T$ to formulate economic plans and try to solve political problems caused by a revision of Hong Kong's regulations, it will be difficult to succeed.\n",
      "--- gross domestic product\n",
      "\n",
      "Where are we The analogies are striking, but the US government or its $T$ bodies actions are lagging.\n",
      "--- regulation\n",
      "\n",
      "Furthermore, let's compare $T$ safety profile to that of its competitor, Addyi Legitimate Concern Vyleesi May Fail Because Addyi Was a Flop Addyi was a drug developed by Sprout Pharmaceuticals in 2015 as the first ever treatment for female HSDD.\n",
      "--- bremelanotide\n",
      "\n",
      "Equities have tumbled amid a slump $T$ prices for cheaper stones, hit hard by too much supply and feeble demand.\n",
      "--- India\n",
      "\n",
      "Why would you dump an equity $T$ weeks ago and then buy it back again now when you know categorically the world is in a far worse place than it was when you sold it I suspect there are three possible reasons First, there is a lack of alternatives.\n",
      "--- 2\n",
      "\n"
     ]
    }
   ],
   "source": [
    "get_opinion_extremes(ent_df, -1)"
   ]
  },
  {
   "cell_type": "code",
   "execution_count": 31,
   "metadata": {},
   "outputs": [
    {
     "name": "stdout",
     "output_type": "stream",
     "text": [
      "['2 Diosdado Cabello, the elder brother of late $T$ Hugo Chavez, and 16 firms in Venezuela.', 'The manufacturers of pole vault equipment are focusing on developing poles made of $T$ (Glass Fiber Reinforced Polymer) composites.', 'Birmingham $T$ Bob Blackburn, but that all changed when presidential candidate Robert Kennedy was shot 50 years ago.', \"Blackburn's Baggies reports became near legendary among fans - and he was such a part of the club that the reporter appeared in a 1966 $T$ Argus cartoon.\", 'The Black Country reporter became such an ever-present at LA $T$ conferences that one US magazine did a story on him', 'The Black Country reporter became such an ever-present at $T$ press conferences that one US magazine did a story on him', \"On it, Keith writes The 'Blackburn Blackburn' byline was a familiar $T$ to readers of the Birmingham Mail, Sandwell Evening Mail, .\", 'And remember - these were days before continents were bridged by simply pressing the send $T$ on a laptop.', 'From covering cases of $T$ and affray on Sandwell streets, Blackburn was at the sharp edge of a story that would rock the world.', 'From covering cases of drunkenness and affray on Sandwell streets, Blackburn was at the sharp edge of a story that would $T$ the world.']\n",
      "2 Diosdado Cabello, the elder brother of late $T$ Hugo Chavez, and 16 firms in Venezuela.\n",
      "The manufacturers of pole vault equipment are focusing on developing poles made of $T$ (Glass Fiber Reinforced Polymer) composites.\n",
      "Birmingham $T$ Bob Blackburn, but that all changed when presidential candidate Robert Kennedy was shot 50 years ago.\n",
      "Blackburn's Baggies reports became near legendary among fans - and he was such a part of the club that the reporter appeared in a 1966 $T$ Argus cartoon.\n",
      "The Black Country reporter became such an ever-present at LA $T$ conferences that one US magazine did a story on him\n",
      "The Black Country reporter became such an ever-present at $T$ press conferences that one US magazine did a story on him\n",
      "On it, Keith writes The 'Blackburn Blackburn' byline was a familiar $T$ to readers of the Birmingham Mail, Sandwell Evening Mail, .\n",
      "And remember - these were days before continents were bridged by simply pressing the send $T$ on a laptop.\n",
      "From covering cases of $T$ and affray on Sandwell streets, Blackburn was at the sharp edge of a story that would rock the world.\n",
      "From covering cases of drunkenness and affray on Sandwell streets, Blackburn was at the sharp edge of a story that would $T$ the world.\n"
     ]
    }
   ],
   "source": [
    "get_opinion_extremes(ent_df, 0)"
   ]
  },
  {
   "cell_type": "code",
   "execution_count": 32,
   "metadata": {},
   "outputs": [
    {
     "name": "stdout",
     "output_type": "stream",
     "text": [
      "['I have seen the benefits of this way of thinking in my own life and am very passionate about helping $T$ see the value of gentleness with their bodies, and to help them foster balance.', 'Apart from the established markets such as Canada, Japan, Italy, the U.K., Ireland, Switzerland and South Korea, the emerging markets like Brazil, $T$ Indonesia and Turkey have been delivering solid performances.', 'The $T$ we provide is quality, consistent health products that we know are effective in improving lives.', 'Overall, I am very pleased with these results as they increase the $T$ of the asset and are important to our growth strategy.', 'And they have plenty to choose from, with Apple, Samsung and $T$ all bringing out some fantastic options.', \"It's a neat $T$ It's an accomplishment, Huseman said, of the relatives who came before him and managed to keep it going through economic highs and lows like the Great Depression.\", '$T$ has demonstrated the power of Chinese people to the world with what it has accomplished during the past 40 years of reform and opening-up.', 'Those giant leaps in technology make it one of the most exciting times ever to work in $T$ For big companies with plants like those included in the World Economic Forum Global Lighthouse Network of model Industry 4.0 facilities, it a brave new world in the very best of ways.', 'Rewarding performance I think the face of the sport goes to the $T$ who are putting up the performances, he told a press conference.', \"He's a dynamic, innovative thinker who has a wealth of experience and knowledge in the world of global $T$ branding.\"]\n",
      "I have seen the benefits of this way of thinking in my own life and am very passionate about helping $T$ see the value of gentleness with their bodies, and to help them foster balance.\n",
      "Apart from the established markets such as Canada, Japan, Italy, the U.K., Ireland, Switzerland and South Korea, the emerging markets like Brazil, $T$ Indonesia and Turkey have been delivering solid performances.\n",
      "The $T$ we provide is quality, consistent health products that we know are effective in improving lives.\n",
      "Overall, I am very pleased with these results as they increase the $T$ of the asset and are important to our growth strategy.\n",
      "And they have plenty to choose from, with Apple, Samsung and $T$ all bringing out some fantastic options.\n",
      "It's a neat $T$ It's an accomplishment, Huseman said, of the relatives who came before him and managed to keep it going through economic highs and lows like the Great Depression.\n",
      "$T$ has demonstrated the power of Chinese people to the world with what it has accomplished during the past 40 years of reform and opening-up.\n",
      "Those giant leaps in technology make it one of the most exciting times ever to work in $T$ For big companies with plants like those included in the World Economic Forum Global Lighthouse Network of model Industry 4.0 facilities, it a brave new world in the very best of ways.\n",
      "Rewarding performance I think the face of the sport goes to the $T$ who are putting up the performances, he told a press conference.\n",
      "He's a dynamic, innovative thinker who has a wealth of experience and knowledge in the world of global $T$ branding.\n"
     ]
    }
   ],
   "source": [
    "get_opinion_extremes(ent_df, 1)"
   ]
  },
  {
   "cell_type": "code",
   "execution_count": 94,
   "metadata": {},
   "outputs": [],
   "source": [
    "from sklearn.model_selection import train_test_split"
   ]
  },
  {
   "cell_type": "code",
   "execution_count": 95,
   "metadata": {},
   "outputs": [],
   "source": [
    "train, test = train_test_split(ent_df, test_size=0.1, random_state=1337, stratify=ent_df[[\"sentiment\"]])"
   ]
  },
  {
   "cell_type": "code",
   "execution_count": 96,
   "metadata": {},
   "outputs": [
    {
     "name": "stdout",
     "output_type": "stream",
     "text": [
      " 0    14775\n",
      " 1    14734\n",
      "-1    13006\n",
      "Name: sentiment, dtype: int64\n"
     ]
    },
    {
     "data": {
      "image/png": "[encoded data removed]",
      "text/plain": [
       "<Figure size 432x288 with 1 Axes>"
      ]
     },
     "metadata": {
      "needs_background": "light"
     },
     "output_type": "display_data"
    }
   ],
   "source": [
    "sentiment_distribution(train)"
   ]
  },
  {
   "cell_type": "code",
   "execution_count": 97,
   "metadata": {},
   "outputs": [
    {
     "name": "stdout",
     "output_type": "stream",
     "text": [
      " 0    1642\n",
      " 1    1637\n",
      "-1    1445\n",
      "Name: sentiment, dtype: int64\n"
     ]
    },
    {
     "data": {
      "image/png": "[encoded data removed]",
      "text/plain": [
       "<Figure size 432x288 with 1 Axes>"
      ]
     },
     "metadata": {
      "needs_background": "light"
     },
     "output_type": "display_data"
    }
   ],
   "source": [
    "sentiment_distribution(test)"
   ]
  },
  {
   "cell_type": "code",
   "execution_count": 98,
   "metadata": {},
   "outputs": [
    {
     "data": {
      "text/html": [
       "<div>\n",
       "<style scoped>\n",
       "    .dataframe tbody tr th:only-of-type {\n",
       "        vertical-align: middle;\n",
       "    }\n",
       "\n",
       "    .dataframe tbody tr th {\n",
       "        vertical-align: top;\n",
       "    }\n",
       "\n",
       "    .dataframe thead th {\n",
       "        text-align: right;\n",
       "    }\n",
       "</style>\n",
       "<table border=\"1\" class=\"dataframe\">\n",
       "  <thead>\n",
       "    <tr style=\"text-align: right;\">\n",
       "      <th></th>\n",
       "      <th>Unnamed: 0</th>\n",
       "      <th>id</th>\n",
       "      <th>entity_id</th>\n",
       "      <th>name</th>\n",
       "      <th>description</th>\n",
       "      <th>text</th>\n",
       "      <th>references</th>\n",
       "      <th>offset</th>\n",
       "      <th>sentiment</th>\n",
       "      <th>sentiment_score</th>\n",
       "      <th>text_length</th>\n",
       "    </tr>\n",
       "  </thead>\n",
       "  <tbody>\n",
       "    <tr>\n",
       "      <th>56121</th>\n",
       "      <td>0</td>\n",
       "      <td>IjY1NzU1Nzg4MGYxNTdjZjQwMzFhYjQzMThjZjRlODAzNT...</td>\n",
       "      <td>Q577</td>\n",
       "      <td>year</td>\n",
       "      <td>orbital period of the Earth around the Sun</td>\n",
       "      <td>-- Additional Published Data Demonstrate Poten...</td>\n",
       "      <td>annum,a,anno</td>\n",
       "      <td>1104</td>\n",
       "      <td>1</td>\n",
       "      <td>0.9979</td>\n",
       "      <td>314</td>\n",
       "    </tr>\n",
       "    <tr>\n",
       "      <th>39356</th>\n",
       "      <td>3</td>\n",
       "      <td>ImRkMDkzYzYwNmI1YzQ4OGNhMTU3ZGU2MGZkM2E2OTEwMD...</td>\n",
       "      <td>Q41323</td>\n",
       "      <td>American football</td>\n",
       "      <td>a form of team game played with an oval ball o...</td>\n",
       "      <td>The Star is counting down the 11 most valuable...</td>\n",
       "      <td>American rules football,🏈,football,gridiron fo...</td>\n",
       "      <td>71</td>\n",
       "      <td>1</td>\n",
       "      <td>0.9810</td>\n",
       "      <td>105</td>\n",
       "    </tr>\n",
       "    <tr>\n",
       "      <th>44893</th>\n",
       "      <td>14</td>\n",
       "      <td>ImJkM2RlYzBlN2MwYTU5ZmQzNGZiOWU0NmZjZGQzMzhlOG...</td>\n",
       "      <td>Q12638</td>\n",
       "      <td>gross domestic product</td>\n",
       "      <td>market value of goods and services produced wi...</td>\n",
       "      <td>Stepan Kubiv stressed the real $T$ in 2017 com...</td>\n",
       "      <td>GDP</td>\n",
       "      <td>2215</td>\n",
       "      <td>0</td>\n",
       "      <td>0.6910</td>\n",
       "      <td>150</td>\n",
       "    </tr>\n",
       "    <tr>\n",
       "      <th>22474</th>\n",
       "      <td>9</td>\n",
       "      <td>ImVmZWJiMDAwYWIwMzdmZTdjMDFmNjI3ZWQ4MDNmNWY2Nm...</td>\n",
       "      <td>Q52389</td>\n",
       "      <td>tariff</td>\n",
       "      <td>tax on the import and export of goods</td>\n",
       "      <td>And even though U.S. President Donald Trump su...</td>\n",
       "      <td>tariffs,customs duty,Tax, tariff and trade,tar...</td>\n",
       "      <td>119</td>\n",
       "      <td>0</td>\n",
       "      <td>1.0000</td>\n",
       "      <td>194</td>\n",
       "    </tr>\n",
       "    <tr>\n",
       "      <th>8779</th>\n",
       "      <td>9</td>\n",
       "      <td>IjhmZGEyMDNiMzJlYjUxZTM5NTlhZjQ1ZGNiNWM0YjYyND...</td>\n",
       "      <td>Q668</td>\n",
       "      <td>India</td>\n",
       "      <td>federal republic in South Asia</td>\n",
       "      <td>Loan melas are an extension of social banking,...</td>\n",
       "      <td>🇮🇳,Republic of India,in,IN,Bharat,IND,Hindusta...</td>\n",
       "      <td>1589</td>\n",
       "      <td>0</td>\n",
       "      <td>1.0000</td>\n",
       "      <td>158</td>\n",
       "    </tr>\n",
       "    <tr>\n",
       "      <th>...</th>\n",
       "      <td>...</td>\n",
       "      <td>...</td>\n",
       "      <td>...</td>\n",
       "      <td>...</td>\n",
       "      <td>...</td>\n",
       "      <td>...</td>\n",
       "      <td>...</td>\n",
       "      <td>...</td>\n",
       "      <td>...</td>\n",
       "      <td>...</td>\n",
       "      <td>...</td>\n",
       "    </tr>\n",
       "    <tr>\n",
       "      <th>53515</th>\n",
       "      <td>0</td>\n",
       "      <td>IjdhYjA1ODViMGYwMDMzMmRiYTA0ZTdlN2NiNjJiZjA2M2...</td>\n",
       "      <td>Q185142</td>\n",
       "      <td>initial public offering</td>\n",
       "      <td>type of public offering</td>\n",
       "      <td>Jackal Pan Getty With the $T$ paused for now, ...</td>\n",
       "      <td>IPO,going public</td>\n",
       "      <td>157</td>\n",
       "      <td>0</td>\n",
       "      <td>1.0000</td>\n",
       "      <td>166</td>\n",
       "    </tr>\n",
       "    <tr>\n",
       "      <th>31835</th>\n",
       "      <td>42</td>\n",
       "      <td>ImEyN2RjZjI3ZThlOGY0NzU5YWM4NDI0MTViYjM5OGU2Nz...</td>\n",
       "      <td>Q901312</td>\n",
       "      <td>Greasemonkey</td>\n",
       "      <td>Mozilla Firefox extension</td>\n",
       "      <td>Nutanix has upgraded the quality of its revenu...</td>\n",
       "      <td>GreaseMonkey,userscript,user script,GM</td>\n",
       "      <td>765</td>\n",
       "      <td>0</td>\n",
       "      <td>1.0000</td>\n",
       "      <td>137</td>\n",
       "    </tr>\n",
       "    <tr>\n",
       "      <th>55829</th>\n",
       "      <td>30</td>\n",
       "      <td>Ijg0Y2JhNzc4MmU2ZTVhN2I5ZmM5MzM3NmRmODQ1OTRhM2...</td>\n",
       "      <td>Q191145</td>\n",
       "      <td>scaling</td>\n",
       "      <td>geometric transformation that enlarges (increa...</td>\n",
       "      <td>The Competitive Strategic Window helps the ven...</td>\n",
       "      <td>dilation,growth,enlargement,similarity,resizin...</td>\n",
       "      <td>2201</td>\n",
       "      <td>1</td>\n",
       "      <td>0.9870</td>\n",
       "      <td>147</td>\n",
       "    </tr>\n",
       "    <tr>\n",
       "      <th>17777</th>\n",
       "      <td>18</td>\n",
       "      <td>ImJmYzcwYjYxOGJjOGJjMzg0MzgxMjk3NjU5NTg2MDgwNj...</td>\n",
       "      <td>Q907655</td>\n",
       "      <td>Iraqi Republic Railways</td>\n",
       "      <td>national railway operator in Iraq</td>\n",
       "      <td>Based on the Company's 2017 PEA, economics of ...</td>\n",
       "      <td>Iraqi State Railways,ISR,IRR</td>\n",
       "      <td>2786</td>\n",
       "      <td>1</td>\n",
       "      <td>0.9996</td>\n",
       "      <td>256</td>\n",
       "    </tr>\n",
       "    <tr>\n",
       "      <th>54850</th>\n",
       "      <td>55</td>\n",
       "      <td>ImNlNmFkNzg1YjJmYjliOTUzZjlkZGNjMzk2NWY1MjM2Nj...</td>\n",
       "      <td>Q75</td>\n",
       "      <td>Internet</td>\n",
       "      <td>global system of connected computer networks</td>\n",
       "      <td>And it's not only tech, but also some ideas, f...</td>\n",
       "      <td>internet,the Net,Interweb,Net,the Internet</td>\n",
       "      <td>4734</td>\n",
       "      <td>0</td>\n",
       "      <td>1.0000</td>\n",
       "      <td>217</td>\n",
       "    </tr>\n",
       "  </tbody>\n",
       "</table>\n",
       "<p>4724 rows × 11 columns</p>\n",
       "</div>"
      ],
      "text/plain": [
       "       Unnamed: 0                                                 id  \\\n",
       "56121           0  IjY1NzU1Nzg4MGYxNTdjZjQwMzFhYjQzMThjZjRlODAzNT...   \n",
       "39356           3  ImRkMDkzYzYwNmI1YzQ4OGNhMTU3ZGU2MGZkM2E2OTEwMD...   \n",
       "44893          14  ImJkM2RlYzBlN2MwYTU5ZmQzNGZiOWU0NmZjZGQzMzhlOG...   \n",
       "22474           9  ImVmZWJiMDAwYWIwMzdmZTdjMDFmNjI3ZWQ4MDNmNWY2Nm...   \n",
       "8779            9  IjhmZGEyMDNiMzJlYjUxZTM5NTlhZjQ1ZGNiNWM0YjYyND...   \n",
       "...           ...                                                ...   \n",
       "53515           0  IjdhYjA1ODViMGYwMDMzMmRiYTA0ZTdlN2NiNjJiZjA2M2...   \n",
       "31835          42  ImEyN2RjZjI3ZThlOGY0NzU5YWM4NDI0MTViYjM5OGU2Nz...   \n",
       "55829          30  Ijg0Y2JhNzc4MmU2ZTVhN2I5ZmM5MzM3NmRmODQ1OTRhM2...   \n",
       "17777          18  ImJmYzcwYjYxOGJjOGJjMzg0MzgxMjk3NjU5NTg2MDgwNj...   \n",
       "54850          55  ImNlNmFkNzg1YjJmYjliOTUzZjlkZGNjMzk2NWY1MjM2Nj...   \n",
       "\n",
       "      entity_id                     name  \\\n",
       "56121      Q577                     year   \n",
       "39356    Q41323        American football   \n",
       "44893    Q12638   gross domestic product   \n",
       "22474    Q52389                   tariff   \n",
       "8779       Q668                    India   \n",
       "...         ...                      ...   \n",
       "53515   Q185142  initial public offering   \n",
       "31835   Q901312             Greasemonkey   \n",
       "55829   Q191145                  scaling   \n",
       "17777   Q907655  Iraqi Republic Railways   \n",
       "54850       Q75                 Internet   \n",
       "\n",
       "                                             description  \\\n",
       "56121         orbital period of the Earth around the Sun   \n",
       "39356  a form of team game played with an oval ball o...   \n",
       "44893  market value of goods and services produced wi...   \n",
       "22474              tax on the import and export of goods   \n",
       "8779                      federal republic in South Asia   \n",
       "...                                                  ...   \n",
       "53515                            type of public offering   \n",
       "31835                          Mozilla Firefox extension   \n",
       "55829  geometric transformation that enlarges (increa...   \n",
       "17777                  national railway operator in Iraq   \n",
       "54850       global system of connected computer networks   \n",
       "\n",
       "                                                    text  \\\n",
       "56121  -- Additional Published Data Demonstrate Poten...   \n",
       "39356  The Star is counting down the 11 most valuable...   \n",
       "44893  Stepan Kubiv stressed the real $T$ in 2017 com...   \n",
       "22474  And even though U.S. President Donald Trump su...   \n",
       "8779   Loan melas are an extension of social banking,...   \n",
       "...                                                  ...   \n",
       "53515  Jackal Pan Getty With the $T$ paused for now, ...   \n",
       "31835  Nutanix has upgraded the quality of its revenu...   \n",
       "55829  The Competitive Strategic Window helps the ven...   \n",
       "17777  Based on the Company's 2017 PEA, economics of ...   \n",
       "54850  And it's not only tech, but also some ideas, f...   \n",
       "\n",
       "                                              references  offset  sentiment  \\\n",
       "56121                                       annum,a,anno    1104          1   \n",
       "39356  American rules football,🏈,football,gridiron fo...      71          1   \n",
       "44893                                                GDP    2215          0   \n",
       "22474  tariffs,customs duty,Tax, tariff and trade,tar...     119          0   \n",
       "8779   🇮🇳,Republic of India,in,IN,Bharat,IND,Hindusta...    1589          0   \n",
       "...                                                  ...     ...        ...   \n",
       "53515                                   IPO,going public     157          0   \n",
       "31835             GreaseMonkey,userscript,user script,GM     765          0   \n",
       "55829  dilation,growth,enlargement,similarity,resizin...    2201          1   \n",
       "17777                       Iraqi State Railways,ISR,IRR    2786          1   \n",
       "54850         internet,the Net,Interweb,Net,the Internet    4734          0   \n",
       "\n",
       "       sentiment_score  text_length  \n",
       "56121           0.9979          314  \n",
       "39356           0.9810          105  \n",
       "44893           0.6910          150  \n",
       "22474           1.0000          194  \n",
       "8779            1.0000          158  \n",
       "...                ...          ...  \n",
       "53515           1.0000          166  \n",
       "31835           1.0000          137  \n",
       "55829           0.9870          147  \n",
       "17777           0.9996          256  \n",
       "54850           1.0000          217  \n",
       "\n",
       "[4724 rows x 11 columns]"
      ]
     },
     "execution_count": 98,
     "metadata": {},
     "output_type": "execute_result"
    }
   ],
   "source": [
    "test"
   ]
  },
  {
   "cell_type": "code",
   "execution_count": 99,
   "metadata": {},
   "outputs": [],
   "source": [
    "# the DFs in the correct .xml.seg format, based around ACL14 and SemEval14\n",
    "# TEXT\n",
    "# TARGET\n",
    "# SENTIMENT\n",
    "\n",
    "def _write(f, data):\n",
    "    f.write(data)\n",
    "    f.write(\"\\n\")\n",
    "    \n",
    "def save_row(f, row):\n",
    "    text = row['text']\n",
    "    sentiment = str(row['sentiment'])\n",
    "    target = row['name']\n",
    "\n",
    "    _write(f, text)\n",
    "    _write(f, target)\n",
    "    _write(f, sentiment)\n"
   ]
  },
  {
   "cell_type": "code",
   "execution_count": 100,
   "metadata": {},
   "outputs": [],
   "source": [
    "save_folder = \"STEP 3 - ABSA-format\"\n",
    "save_path = os.path.join(os.getcwd(), save_folder)\n",
    "\n",
    "train_path = os.path.join(save_path, \"distant_supervision_train.seg\")\n",
    "test_path = os.path.join(save_path, \"distant_supervision_test.seg\")"
   ]
  },
  {
   "cell_type": "code",
   "execution_count": 101,
   "metadata": {},
   "outputs": [],
   "source": [
    "with open(train_path, 'w', encoding=\"utf8\") as f:\n",
    "    [save_row(f, row) for idx, row in train.iterrows()]"
   ]
  },
  {
   "cell_type": "code",
   "execution_count": 102,
   "metadata": {},
   "outputs": [],
   "source": [
    "with open(test_path, 'w', encoding=\"utf8\") as f:\n",
    "    [save_row(f, row) for idx, row in test.iterrows()]"
   ]
  },
  {
   "cell_type": "code",
   "execution_count": 106,
   "metadata": {},
   "outputs": [],
   "source": [
    "both = pd.concat([train, test])"
   ]
  },
  {
   "cell_type": "code",
   "execution_count": 109,
   "metadata": {},
   "outputs": [],
   "source": [
    "both_path = os.path.join(save_path, \"distant_supervision_big.seg\")\n",
    "with open(both_path, 'w', encoding=\"utf8\") as f:\n",
    "    [save_row(f, row) for idx, row in both.iterrows()]"
   ]
  },
  {
   "cell_type": "code",
   "execution_count": null,
   "metadata": {},
   "outputs": [],
   "source": []
  }
 ],
 "metadata": {
  "kernelspec": {
   "display_name": "Python 3",
   "language": "python",
   "name": "python3"
  },
  "language_info": {
   "codemirror_mode": {
    "name": "ipython",
    "version": 3
   },
   "file_extension": ".py",
   "mimetype": "text/x-python",
   "name": "python",
   "nbconvert_exporter": "python",
   "pygments_lexer": "ipython3",
   "version": "3.7.6"
  }
 },
 "nbformat": 4,
 "nbformat_minor": 4
}
