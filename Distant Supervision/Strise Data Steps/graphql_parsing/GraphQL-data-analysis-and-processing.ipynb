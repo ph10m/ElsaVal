{
 "cells": [
  {
   "cell_type": "code",
   "execution_count": 161,
   "metadata": {},
   "outputs": [],
   "source": [
    "import pandas as pd\n",
    "import numpy as np\n",
    "import os\n",
    "import re\n",
    "%matplotlib inline\n",
    "import matplotlib.pyplot as plt"
   ]
  },
  {
   "cell_type": "code",
   "execution_count": 162,
   "metadata": {},
   "outputs": [],
   "source": [
    "from spacy import prefer_gpu\n",
    "from spacy import load as spacyload\n",
    "from spacy.lang.char_classes import ALPHA, ALPHA_LOWER, ALPHA_UPPER\n",
    "from spacy.lang.char_classes import CONCAT_QUOTES, LIST_ELLIPSES, LIST_ICONS, HYPHENS\n",
    "from spacy.symbols import ORTH\n",
    "from spacy.util import compile_infix_regex"
   ]
  },
  {
   "cell_type": "code",
   "execution_count": 163,
   "metadata": {},
   "outputs": [],
   "source": [
    "prefer_gpu()\n",
    "spacy_size = \"md\"\n",
    "spacy_model = \"en_core_web_{}\".format(spacy_size)\n",
    "nlp = spacyload(spacy_model)"
   ]
  },
  {
   "cell_type": "code",
   "execution_count": 256,
   "metadata": {},
   "outputs": [],
   "source": [
    "# https://spacy.io/usage/linguistic-features\n",
    "infixes = (\n",
    "    LIST_ELLIPSES\n",
    "    + LIST_ICONS\n",
    "    + [\n",
    "        r\"(?<=[0-9])[+\\-\\*^](?=[0-9-])\",\n",
    "        r\"(?<=[{al}{q}])\\.(?=[{au}{q}])\".format(\n",
    "            al=ALPHA_LOWER, au=ALPHA_UPPER, q=CONCAT_QUOTES\n",
    "        ),\n",
    "        r\"(?<=[{a}]),(?=[{a}])\".format(a=ALPHA),\n",
    "        # r\"(?<=[{a}])(?:{h})(?=[{a}])\".format(a=ALPHA, h=HYPHENS),\n",
    "        r\"(?<=[{a}0-9])[:<>=/](?=[{a}])\".format(a=ALPHA),\n",
    "    ]\n",
    ")\n",
    "\n",
    "\n",
    "infix_re = compile_infix_regex(infixes)\n",
    "nlp.tokenizer.infix_finditer = infix_re.finditer\n",
    "\n",
    "# avoid tokenizing mask\n",
    "MASK = \"$T$\"\n",
    "special_case = [{ORTH: MASK}]\n",
    "nlp.tokenizer.add_special_case(MASK, special_case)\n"
   ]
  },
  {
   "cell_type": "code",
   "execution_count": 257,
   "metadata": {},
   "outputs": [],
   "source": [
    "path = os.path.join(os.getcwd(), \"graphql-topic-downloads\", \"all_entities.csv\")"
   ]
  },
  {
   "cell_type": "code",
   "execution_count": 258,
   "metadata": {},
   "outputs": [
    {
     "data": {
      "text/plain": [
       "(50412, 11)"
      ]
     },
     "execution_count": 258,
     "metadata": {},
     "output_type": "execute_result"
    }
   ],
   "source": [
    "df = pd.read_csv(path)\n",
    "df.shape"
   ]
  },
  {
   "cell_type": "code",
   "execution_count": 259,
   "metadata": {},
   "outputs": [
    {
     "data": {
      "text/plain": [
       "(43706, 11)"
      ]
     },
     "execution_count": 259,
     "metadata": {},
     "output_type": "execute_result"
    }
   ],
   "source": [
    "df.drop_duplicates(subset=\"text\", inplace=True)\n",
    "df.shape"
   ]
  },
  {
   "cell_type": "code",
   "execution_count": 260,
   "metadata": {},
   "outputs": [],
   "source": [
    "# add text length as a column\n",
    "df['text_length'] = np.nan\n",
    "\n",
    "def add_text_length(row):\n",
    "    row['text_length'] = len(row['text'])\n",
    "    return row\n",
    "    \n",
    "df = df.apply(lambda row: add_text_length(row), axis=1)"
   ]
  },
  {
   "cell_type": "code",
   "execution_count": 261,
   "metadata": {
    "scrolled": true
   },
   "outputs": [
    {
     "name": "stdout",
     "output_type": "stream",
     "text": [
      "keeping text lengths within 80% of the distribution\n",
      "min: 56.0, max: 258.0\n",
      "Dropping 8770 rows\n"
     ]
    },
    {
     "data": {
      "text/plain": [
       "(43706, 12)"
      ]
     },
     "execution_count": 261,
     "metadata": {},
     "output_type": "execute_result"
    }
   ],
   "source": [
    "q_min, q_max = (df['text_length'].dropna().quantile([0.1, 0.9]))\n",
    "print('keeping text lengths within 80% of the distribution')\n",
    "print('min: {}, max: {}'.format(q_min, q_max))\n",
    "shortened_texts = df[(df.text_length > q_min) & (df.text_length < q_max)]\n",
    "\n",
    "print('Dropping {} rows'.format(df.shape[0] - shortened_texts.shape[0]))\n",
    "df.shape"
   ]
  },
  {
   "cell_type": "code",
   "execution_count": 262,
   "metadata": {
    "scrolled": true
   },
   "outputs": [
    {
     "data": {
      "image/png": "[encoded data removed]",
      "text/plain": [
       "<Figure size 432x288 with 1 Axes>"
      ]
     },
     "metadata": {
      "needs_background": "light"
     },
     "output_type": "display_data"
    }
   ],
   "source": [
    "_ = plt.hist(df['text_length'], bins=500)"
   ]
  },
  {
   "cell_type": "code",
   "execution_count": 263,
   "metadata": {},
   "outputs": [
    {
     "data": {
      "text/plain": [
       "(34936, 12)"
      ]
     },
     "execution_count": 263,
     "metadata": {},
     "output_type": "execute_result"
    }
   ],
   "source": [
    "df = shortened_texts\n",
    "df.shape"
   ]
  },
  {
   "cell_type": "code",
   "execution_count": 264,
   "metadata": {
    "scrolled": true
   },
   "outputs": [
    {
     "data": {
      "image/png": "[encoded data removed]",
      "text/plain": [
       "<Figure size 432x288 with 1 Axes>"
      ]
     },
     "metadata": {
      "needs_background": "light"
     },
     "output_type": "display_data"
    }
   ],
   "source": [
    "_ = plt.hist(df['text_length'], bins=200)"
   ]
  },
  {
   "cell_type": "code",
   "execution_count": 265,
   "metadata": {},
   "outputs": [],
   "source": [
    "def erase_newlines(row):\n",
    "    row['text'] = re.sub(r\"(\\n+)\", \" \", row['text'])\n",
    "    return row\n",
    "\n",
    "# plenty of newspapers use the proper left/right double quotation marks instead of \", remove.\n",
    "def erase_quotes(row):\n",
    "    row['text'] = re.sub(r\"([“”])\", \"\", row['text'])\n",
    "    return row\n",
    "\n",
    "# remove prefix symbols, such as \"???????!\" becomes \"!\" and \"..............\" becomes \".\"\n",
    "# should not be present in these texts, but one might find duplicates in certain newspapers.\n",
    "def replace_puncts(row):\n",
    "    row['text'] = re.sub(r'[\\?\\.\\!]+(?=[\\?\\.\\!])', '', row['text'])\n",
    "    return row\n",
    "\n",
    "def space_tokens(row):\n",
    "    try:\n",
    "        spacydoc = nlp(row['text'])\n",
    "        tokens = [t.text for t in spacydoc]\n",
    "        row['text'] = ' '.join(tokens)\n",
    "    except ValueError:\n",
    "        print(row)\n",
    "    return row\n",
    "\n",
    "# replace brackets by LRB (left round bracket) and RRB, to conform with the format of .xml.seg\n",
    "def replace_brackets(row):\n",
    "    row['text'] = re.sub(r\"([(])\", '-LRB-', row['text'])\n",
    "    row['text'] = re.sub(r\"([)])\", '-RRB-', row['text'])\n",
    "    return row\n",
    "\n",
    "\n",
    "\n",
    "def clean(row):\n",
    "    row = erase_newlines(row)\n",
    "    row = erase_quotes(row)\n",
    "    row = replace_puncts(row)\n",
    "    row = space_tokens(row)\n",
    "    row = replace_brackets(row)  # do this after tokenization to ensure proper spacing\n",
    "    # more funcs to come\n",
    "    return row\n",
    "\n",
    "df = df.apply(lambda row: clean(row), axis=1)"
   ]
  },
  {
   "cell_type": "code",
   "execution_count": 266,
   "metadata": {},
   "outputs": [],
   "source": [
    "def get_extremes_texts(df, sent, top=10):\n",
    "    df = df[df.sentiment==sent].sort_values(by='sentiment_score', ascending=False)[:10]\n",
    "    return df['text'].values"
   ]
  },
  {
   "cell_type": "code",
   "execution_count": 267,
   "metadata": {},
   "outputs": [
    {
     "data": {
      "text/plain": [
       "array(['How dull it is to pause , to make an end , To $T$ unburnish’d , not to shine in use !',\n",
       "       'Too shallow an angle , and the $T$ skips off the atmosphere .',\n",
       "       'And the information the $T$ eventually releases is expected to be far less comprehensive than originally described',\n",
       "       'The mechanisms that should have prevented this outcome have broken down , and as a result there ’s no longer much reason to think $T$ can actually be better than the existing financial system .',\n",
       "       'Finally , it might simply be that labor is so cheap , $T$ simply is n’t economically attractive .',\n",
       "       'But Bitcoin was built on a $T$ that ignored price stability , and so as a medium of exchange , it suffers .',\n",
       "       'They ’re either remote , somewhere in the North Sea or the Gulf of $T$ , or you ’ll ruin the production environment .',\n",
       "       'fiscal $T$ — slashing government spending in an attempt to balance the budget — is a really bad idea in a depressed economy .',\n",
       "       'It ’s bad , very bad , the 43-year-old told $T$ after becoming the oldest man to win a medal at any event in world championship history .',\n",
       "       'It ’s a slogan , a buzzy $T$ that has no scientific or economic foundation .'],\n",
       "      dtype=object)"
      ]
     },
     "execution_count": 267,
     "metadata": {},
     "output_type": "execute_result"
    }
   ],
   "source": [
    "neg_texts = get_extremes_texts(df, -1)\n",
    "neg_texts"
   ]
  },
  {
   "cell_type": "code",
   "execution_count": 268,
   "metadata": {
    "scrolled": true
   },
   "outputs": [
    {
     "data": {
      "text/plain": [
       "array(['Just looking up at the stars , it ’s a wonderful thing you can do ; anyone can do it , especially people who live outside the $T$ , she said .',\n",
       "       '\" It \\'s a good , high-visibility opportunity , \" said James P. McCarvill , executive director of the $T$ Convention Center Authority , the state agency that runs the convention center , the Dunkin\\'Donuts Center arena and the Vets auditorium .',\n",
       "       'In principle , these are exciting and welcome developments , especially if they bring broadband internet to the whole of $T$ and other parts of the developing world .',\n",
       "       'Daniel Seal , Founder and CEO of $T$ , said : \" It is fantastic to be able to confirm these speakers from each one of these amazing companies .',\n",
       "       'Look even closer and you will see the fantastic build quality and top-notch quality of materials which have been used throughout the $ T$.',\n",
       "       'Will Smith and $T$ offering the vocals for lead characters and that is certainly something that is enjoyable .',\n",
       "       'Daniel Seal , Founder and $T$ of Unbound , said : \" It is fantastic to be able to confirm these speakers from each one of these amazing companies .',\n",
       "       'For us in $T$ , these are and will remain essential and vibrant values .',\n",
       "       '\" I have to say thank you to the $T$ community , which is always great with me .',\n",
       "       'Although the Belmond is more elegant than our usual accommodations -LRB- my wife and I gravitate toward more contemporary hotels -RRB- , our $T$ experience was wonderful in all respects .'],\n",
       "      dtype=object)"
      ]
     },
     "execution_count": 268,
     "metadata": {},
     "output_type": "execute_result"
    }
   ],
   "source": [
    "pos_texts = get_extremes_texts(df, 1)\n",
    "pos_texts"
   ]
  },
  {
   "cell_type": "code",
   "execution_count": 269,
   "metadata": {
    "scrolled": true
   },
   "outputs": [
    {
     "data": {
      "image/png": "[encoded data removed]",
      "text/plain": [
       "<Figure size 432x288 with 1 Axes>"
      ]
     },
     "metadata": {
      "needs_background": "light"
     },
     "output_type": "display_data"
    }
   ],
   "source": [
    "_ = plt.hist(df['sentiment'])"
   ]
  },
  {
   "cell_type": "code",
   "execution_count": 270,
   "metadata": {},
   "outputs": [
    {
     "data": {
      "text/plain": [
       "(34045, 12)"
      ]
     },
     "execution_count": 270,
     "metadata": {},
     "output_type": "execute_result"
    }
   ],
   "source": [
    "df.sort_values(by='sentiment_score', ascending=True)[:10]\n",
    "neutral = df[df.sentiment_score < 0.6].index\n",
    "df = df.drop(neutral)  # we want the model to learn from highly sentimental data\n",
    "df.shape"
   ]
  },
  {
   "cell_type": "code",
   "execution_count": 271,
   "metadata": {},
   "outputs": [],
   "source": [
    "# box plot of sentiment by topic"
   ]
  },
  {
   "cell_type": "code",
   "execution_count": 272,
   "metadata": {},
   "outputs": [],
   "source": [
    "# plots of words (e.g. unigrams, bigrams, trigrams) of occurrences in positive/negative texts"
   ]
  },
  {
   "cell_type": "code",
   "execution_count": 273,
   "metadata": {},
   "outputs": [],
   "source": [
    "# prepare to split the filtered csv\n",
    "def train_test_split(df):\n",
    "    # splits into a 80% train, 20% holdout test set\n",
    "    mask = np.random.rand(len(df)) < 0.8\n",
    "    train = df[mask]\n",
    "    test = df[~mask]\n",
    "    return train, test"
   ]
  },
  {
   "cell_type": "code",
   "execution_count": 274,
   "metadata": {},
   "outputs": [],
   "source": [
    "# reduce columns before storing for annotation\n",
    "df.drop(columns=['Unnamed: 0', 'score', 'score_within_variance', 'extractors', 'text_length'], inplace=True)"
   ]
  },
  {
   "cell_type": "code",
   "execution_count": 275,
   "metadata": {},
   "outputs": [],
   "source": [
    "train, test = train_test_split(df)"
   ]
  },
  {
   "cell_type": "code",
   "execution_count": 276,
   "metadata": {},
   "outputs": [
    {
     "data": {
      "text/html": [
       "<div>\n",
       "<style scoped>\n",
       "    .dataframe tbody tr th:only-of-type {\n",
       "        vertical-align: middle;\n",
       "    }\n",
       "\n",
       "    .dataframe tbody tr th {\n",
       "        vertical-align: top;\n",
       "    }\n",
       "\n",
       "    .dataframe thead th {\n",
       "        text-align: right;\n",
       "    }\n",
       "</style>\n",
       "<table border=\"1\" class=\"dataframe\">\n",
       "  <thead>\n",
       "    <tr style=\"text-align: right;\">\n",
       "      <th></th>\n",
       "      <th>id</th>\n",
       "      <th>entity_id</th>\n",
       "      <th>name</th>\n",
       "      <th>text</th>\n",
       "      <th>sentiment</th>\n",
       "      <th>to_discard</th>\n",
       "      <th>sentiment_score</th>\n",
       "    </tr>\n",
       "  </thead>\n",
       "  <tbody>\n",
       "    <tr>\n",
       "      <td>1</td>\n",
       "      <td>IjY5YWQ5MzE5YzA2ZTFhMTVkYjY2MDk5YjMyM2MyZGNhMT...</td>\n",
       "      <td>Q5469880</td>\n",
       "      <td>['Form 10-K']</td>\n",
       "      <td>Other risks , uncertainties , and factors that...</td>\n",
       "      <td>-1</td>\n",
       "      <td>False</td>\n",
       "      <td>0.994886</td>\n",
       "    </tr>\n",
       "    <tr>\n",
       "      <td>2</td>\n",
       "      <td>IjY5YWQ5MzE5YzA2ZTFhMTVkYjY2MDk5YjMyM2MyZGNhMT...</td>\n",
       "      <td>Q1148747</td>\n",
       "      <td>['payment']</td>\n",
       "      <td>Examples of forward-looking statements in this...</td>\n",
       "      <td>-1</td>\n",
       "      <td>False</td>\n",
       "      <td>0.858857</td>\n",
       "    </tr>\n",
       "    <tr>\n",
       "      <td>3</td>\n",
       "      <td>IjY5YWQ5MzE5YzA2ZTFhMTVkYjY2MDk5YjMyM2MyZGNhMT...</td>\n",
       "      <td>Q1196314</td>\n",
       "      <td>['stock']</td>\n",
       "      <td>Ellington Financial Inc. -LRB- NYSE : EFC -RRB...</td>\n",
       "      <td>-1</td>\n",
       "      <td>False</td>\n",
       "      <td>0.973849</td>\n",
       "    </tr>\n",
       "    <tr>\n",
       "      <td>5</td>\n",
       "      <td>IjY5YWQ5MzE5YzA2ZTFhMTVkYjY2MDk5YjMyM2MyZGNhMT...</td>\n",
       "      <td>Q1196314</td>\n",
       "      <td>['stock']</td>\n",
       "      <td>This estimate includes the effect of the previ...</td>\n",
       "      <td>-1</td>\n",
       "      <td>False</td>\n",
       "      <td>0.987645</td>\n",
       "    </tr>\n",
       "    <tr>\n",
       "      <td>6</td>\n",
       "      <td>IjY5YWQ5MzE5YzA2ZTFhMTVkYjY2MDk5YjMyM2MyZGNhMT...</td>\n",
       "      <td>Q1196314</td>\n",
       "      <td>['stock']</td>\n",
       "      <td>Estimated book value per $T$ is subject to cha...</td>\n",
       "      <td>-1</td>\n",
       "      <td>False</td>\n",
       "      <td>0.996859</td>\n",
       "    </tr>\n",
       "    <tr>\n",
       "      <td>...</td>\n",
       "      <td>...</td>\n",
       "      <td>...</td>\n",
       "      <td>...</td>\n",
       "      <td>...</td>\n",
       "      <td>...</td>\n",
       "      <td>...</td>\n",
       "      <td>...</td>\n",
       "    </tr>\n",
       "    <tr>\n",
       "      <td>50407</td>\n",
       "      <td>IjM0NWI4MmMzZTJlODZmOThlYzUwMGJiMjc1NDUzZTUyNW...</td>\n",
       "      <td>Q2840</td>\n",
       "      <td>['influenza']</td>\n",
       "      <td>With the advent of the winter season and chang...</td>\n",
       "      <td>-1</td>\n",
       "      <td>False</td>\n",
       "      <td>0.992624</td>\n",
       "    </tr>\n",
       "    <tr>\n",
       "      <td>50408</td>\n",
       "      <td>IjM0NWI4MmMzZTJlODZmOThlYzUwMGJiMjc1NDUzZTUyNW...</td>\n",
       "      <td>Q2840</td>\n",
       "      <td>['influenza']</td>\n",
       "      <td>Unfortunately , as the complaints have been , ...</td>\n",
       "      <td>-1</td>\n",
       "      <td>False</td>\n",
       "      <td>0.999732</td>\n",
       "    </tr>\n",
       "    <tr>\n",
       "      <td>50409</td>\n",
       "      <td>IjM0NWI4MmMzZTJlODZmOThlYzUwMGJiMjc1NDUzZTUyNW...</td>\n",
       "      <td>Q2840</td>\n",
       "      <td>['influenza']</td>\n",
       "      <td>Despite concerns about growing bacterial resis...</td>\n",
       "      <td>-1</td>\n",
       "      <td>False</td>\n",
       "      <td>0.987625</td>\n",
       "    </tr>\n",
       "    <tr>\n",
       "      <td>50410</td>\n",
       "      <td>IjM0NWI4MmMzZTJlODZmOThlYzUwMGJiMjc1NDUzZTUyNW...</td>\n",
       "      <td>Q11000047</td>\n",
       "      <td>['health system']</td>\n",
       "      <td>This is a crime against the science , the pati...</td>\n",
       "      <td>-1</td>\n",
       "      <td>False</td>\n",
       "      <td>0.996854</td>\n",
       "    </tr>\n",
       "    <tr>\n",
       "      <td>50411</td>\n",
       "      <td>IjM0NWI4MmMzZTJlODZmOThlYzUwMGJiMjc1NDUzZTUyNW...</td>\n",
       "      <td>Q134768</td>\n",
       "      <td>['cocktail']</td>\n",
       "      <td>Personally , I have observed that in many priv...</td>\n",
       "      <td>-1</td>\n",
       "      <td>False</td>\n",
       "      <td>0.986407</td>\n",
       "    </tr>\n",
       "  </tbody>\n",
       "</table>\n",
       "<p>27321 rows × 7 columns</p>\n",
       "</div>"
      ],
      "text/plain": [
       "                                                      id  entity_id  \\\n",
       "1      IjY5YWQ5MzE5YzA2ZTFhMTVkYjY2MDk5YjMyM2MyZGNhMT...   Q5469880   \n",
       "2      IjY5YWQ5MzE5YzA2ZTFhMTVkYjY2MDk5YjMyM2MyZGNhMT...   Q1148747   \n",
       "3      IjY5YWQ5MzE5YzA2ZTFhMTVkYjY2MDk5YjMyM2MyZGNhMT...   Q1196314   \n",
       "5      IjY5YWQ5MzE5YzA2ZTFhMTVkYjY2MDk5YjMyM2MyZGNhMT...   Q1196314   \n",
       "6      IjY5YWQ5MzE5YzA2ZTFhMTVkYjY2MDk5YjMyM2MyZGNhMT...   Q1196314   \n",
       "...                                                  ...        ...   \n",
       "50407  IjM0NWI4MmMzZTJlODZmOThlYzUwMGJiMjc1NDUzZTUyNW...      Q2840   \n",
       "50408  IjM0NWI4MmMzZTJlODZmOThlYzUwMGJiMjc1NDUzZTUyNW...      Q2840   \n",
       "50409  IjM0NWI4MmMzZTJlODZmOThlYzUwMGJiMjc1NDUzZTUyNW...      Q2840   \n",
       "50410  IjM0NWI4MmMzZTJlODZmOThlYzUwMGJiMjc1NDUzZTUyNW...  Q11000047   \n",
       "50411  IjM0NWI4MmMzZTJlODZmOThlYzUwMGJiMjc1NDUzZTUyNW...    Q134768   \n",
       "\n",
       "                    name                                               text  \\\n",
       "1          ['Form 10-K']  Other risks , uncertainties , and factors that...   \n",
       "2            ['payment']  Examples of forward-looking statements in this...   \n",
       "3              ['stock']  Ellington Financial Inc. -LRB- NYSE : EFC -RRB...   \n",
       "5              ['stock']  This estimate includes the effect of the previ...   \n",
       "6              ['stock']  Estimated book value per $T$ is subject to cha...   \n",
       "...                  ...                                                ...   \n",
       "50407      ['influenza']  With the advent of the winter season and chang...   \n",
       "50408      ['influenza']  Unfortunately , as the complaints have been , ...   \n",
       "50409      ['influenza']  Despite concerns about growing bacterial resis...   \n",
       "50410  ['health system']  This is a crime against the science , the pati...   \n",
       "50411       ['cocktail']  Personally , I have observed that in many priv...   \n",
       "\n",
       "       sentiment  to_discard  sentiment_score  \n",
       "1             -1       False         0.994886  \n",
       "2             -1       False         0.858857  \n",
       "3             -1       False         0.973849  \n",
       "5             -1       False         0.987645  \n",
       "6             -1       False         0.996859  \n",
       "...          ...         ...              ...  \n",
       "50407         -1       False         0.992624  \n",
       "50408         -1       False         0.999732  \n",
       "50409         -1       False         0.987625  \n",
       "50410         -1       False         0.996854  \n",
       "50411         -1       False         0.986407  \n",
       "\n",
       "[27321 rows x 7 columns]"
      ]
     },
     "execution_count": 276,
     "metadata": {},
     "output_type": "execute_result"
    }
   ],
   "source": [
    "train"
   ]
  },
  {
   "cell_type": "code",
   "execution_count": 277,
   "metadata": {},
   "outputs": [
    {
     "data": {
      "text/html": [
       "<div>\n",
       "<style scoped>\n",
       "    .dataframe tbody tr th:only-of-type {\n",
       "        vertical-align: middle;\n",
       "    }\n",
       "\n",
       "    .dataframe tbody tr th {\n",
       "        vertical-align: top;\n",
       "    }\n",
       "\n",
       "    .dataframe thead th {\n",
       "        text-align: right;\n",
       "    }\n",
       "</style>\n",
       "<table border=\"1\" class=\"dataframe\">\n",
       "  <thead>\n",
       "    <tr style=\"text-align: right;\">\n",
       "      <th></th>\n",
       "      <th>id</th>\n",
       "      <th>entity_id</th>\n",
       "      <th>name</th>\n",
       "      <th>text</th>\n",
       "      <th>sentiment</th>\n",
       "      <th>to_discard</th>\n",
       "      <th>sentiment_score</th>\n",
       "    </tr>\n",
       "  </thead>\n",
       "  <tbody>\n",
       "    <tr>\n",
       "      <td>4</td>\n",
       "      <td>IjY5YWQ5MzE5YzA2ZTFhMTVkYjY2MDk5YjMyM2MyZGNhMT...</td>\n",
       "      <td>Q1196314</td>\n",
       "      <td>['stock']</td>\n",
       "      <td>The Company also announced its estimated book ...</td>\n",
       "      <td>-1</td>\n",
       "      <td>False</td>\n",
       "      <td>0.986583</td>\n",
       "    </tr>\n",
       "    <tr>\n",
       "      <td>16</td>\n",
       "      <td>ImEwODg5NDNhODE5MTdlMzAxODFmNWZmZDEzMjgwYzNkNG...</td>\n",
       "      <td>Q22656</td>\n",
       "      <td>['petroleum']</td>\n",
       "      <td>The government more than doubled the rate of $...</td>\n",
       "      <td>1</td>\n",
       "      <td>False</td>\n",
       "      <td>0.693375</td>\n",
       "    </tr>\n",
       "    <tr>\n",
       "      <td>21</td>\n",
       "      <td>ImEwODg5NDNhODE5MTdlMzAxODFmNWZmZDEzMjgwYzNkNG...</td>\n",
       "      <td>Q8161</td>\n",
       "      <td>['tax']</td>\n",
       "      <td>Government revenue would rise if petroleum pri...</td>\n",
       "      <td>-1</td>\n",
       "      <td>False</td>\n",
       "      <td>0.994018</td>\n",
       "    </tr>\n",
       "    <tr>\n",
       "      <td>24</td>\n",
       "      <td>ImEwODg5NDNhODE5MTdlMzAxODFmNWZmZDEzMjgwYzNkNG...</td>\n",
       "      <td>Q8161</td>\n",
       "      <td>['tax']</td>\n",
       "      <td>The component of sales $T$ -LRB- 17 percent -R...</td>\n",
       "      <td>-1</td>\n",
       "      <td>False</td>\n",
       "      <td>0.982144</td>\n",
       "    </tr>\n",
       "    <tr>\n",
       "      <td>25</td>\n",
       "      <td>ImEwODg5NDNhODE5MTdlMzAxODFmNWZmZDEzMjgwYzNkNG...</td>\n",
       "      <td>Q8161</td>\n",
       "      <td>['tax']</td>\n",
       "      <td>Without estimating the exact figure , he added...</td>\n",
       "      <td>-1</td>\n",
       "      <td>False</td>\n",
       "      <td>0.996402</td>\n",
       "    </tr>\n",
       "    <tr>\n",
       "      <td>...</td>\n",
       "      <td>...</td>\n",
       "      <td>...</td>\n",
       "      <td>...</td>\n",
       "      <td>...</td>\n",
       "      <td>...</td>\n",
       "      <td>...</td>\n",
       "      <td>...</td>\n",
       "    </tr>\n",
       "    <tr>\n",
       "      <td>50337</td>\n",
       "      <td>IjUxMTYzYWY3YWNjZmFmMjkwMzI5NmMzZmYxY2YzNThkM2...</td>\n",
       "      <td>Q204711</td>\n",
       "      <td>['Food and Drug Administration']</td>\n",
       "      <td>Based on earlier reported interim data from L-...</td>\n",
       "      <td>-1</td>\n",
       "      <td>False</td>\n",
       "      <td>0.994973</td>\n",
       "    </tr>\n",
       "    <tr>\n",
       "      <td>50370</td>\n",
       "      <td>IjUxMTYzYWY3YWNjZmFmMjkwMzI5NmMzZmYxY2YzNThkM2...</td>\n",
       "      <td>Q1022</td>\n",
       "      <td>['Stuttgart']</td>\n",
       "      <td>Regulated Market in Frankfurt -LRB- Prime Stan...</td>\n",
       "      <td>-1</td>\n",
       "      <td>False</td>\n",
       "      <td>0.961714</td>\n",
       "    </tr>\n",
       "    <tr>\n",
       "      <td>50386</td>\n",
       "      <td>IjUxMTYzYWY3YWNjZmFmMjkwMzI5NmMzZmYxY2YzNThkM2...</td>\n",
       "      <td>Q768501</td>\n",
       "      <td>['MorphoSys']</td>\n",
       "      <td>The study compares real-world response data of...</td>\n",
       "      <td>-1</td>\n",
       "      <td>False</td>\n",
       "      <td>0.880451</td>\n",
       "    </tr>\n",
       "    <tr>\n",
       "      <td>50402</td>\n",
       "      <td>IjM0NWI4MmMzZTJlODZmOThlYzUwMGJiMjc1NDUzZTUyNW...</td>\n",
       "      <td>Q101991</td>\n",
       "      <td>['inflammation']</td>\n",
       "      <td>It is well known that steroid can briefly redu...</td>\n",
       "      <td>-1</td>\n",
       "      <td>False</td>\n",
       "      <td>0.996437</td>\n",
       "    </tr>\n",
       "    <tr>\n",
       "      <td>50403</td>\n",
       "      <td>IjM0NWI4MmMzZTJlODZmOThlYzUwMGJiMjc1NDUzZTUyNW...</td>\n",
       "      <td>Q12125</td>\n",
       "      <td>['common cold']</td>\n",
       "      <td>Unfortunately , as the complaints have been , ...</td>\n",
       "      <td>-1</td>\n",
       "      <td>False</td>\n",
       "      <td>0.999756</td>\n",
       "    </tr>\n",
       "  </tbody>\n",
       "</table>\n",
       "<p>6724 rows × 7 columns</p>\n",
       "</div>"
      ],
      "text/plain": [
       "                                                      id entity_id  \\\n",
       "4      IjY5YWQ5MzE5YzA2ZTFhMTVkYjY2MDk5YjMyM2MyZGNhMT...  Q1196314   \n",
       "16     ImEwODg5NDNhODE5MTdlMzAxODFmNWZmZDEzMjgwYzNkNG...    Q22656   \n",
       "21     ImEwODg5NDNhODE5MTdlMzAxODFmNWZmZDEzMjgwYzNkNG...     Q8161   \n",
       "24     ImEwODg5NDNhODE5MTdlMzAxODFmNWZmZDEzMjgwYzNkNG...     Q8161   \n",
       "25     ImEwODg5NDNhODE5MTdlMzAxODFmNWZmZDEzMjgwYzNkNG...     Q8161   \n",
       "...                                                  ...       ...   \n",
       "50337  IjUxMTYzYWY3YWNjZmFmMjkwMzI5NmMzZmYxY2YzNThkM2...   Q204711   \n",
       "50370  IjUxMTYzYWY3YWNjZmFmMjkwMzI5NmMzZmYxY2YzNThkM2...     Q1022   \n",
       "50386  IjUxMTYzYWY3YWNjZmFmMjkwMzI5NmMzZmYxY2YzNThkM2...   Q768501   \n",
       "50402  IjM0NWI4MmMzZTJlODZmOThlYzUwMGJiMjc1NDUzZTUyNW...   Q101991   \n",
       "50403  IjM0NWI4MmMzZTJlODZmOThlYzUwMGJiMjc1NDUzZTUyNW...    Q12125   \n",
       "\n",
       "                                   name  \\\n",
       "4                             ['stock']   \n",
       "16                        ['petroleum']   \n",
       "21                              ['tax']   \n",
       "24                              ['tax']   \n",
       "25                              ['tax']   \n",
       "...                                 ...   \n",
       "50337  ['Food and Drug Administration']   \n",
       "50370                     ['Stuttgart']   \n",
       "50386                     ['MorphoSys']   \n",
       "50402                  ['inflammation']   \n",
       "50403                   ['common cold']   \n",
       "\n",
       "                                                    text  sentiment  \\\n",
       "4      The Company also announced its estimated book ...         -1   \n",
       "16     The government more than doubled the rate of $...          1   \n",
       "21     Government revenue would rise if petroleum pri...         -1   \n",
       "24     The component of sales $T$ -LRB- 17 percent -R...         -1   \n",
       "25     Without estimating the exact figure , he added...         -1   \n",
       "...                                                  ...        ...   \n",
       "50337  Based on earlier reported interim data from L-...         -1   \n",
       "50370  Regulated Market in Frankfurt -LRB- Prime Stan...         -1   \n",
       "50386  The study compares real-world response data of...         -1   \n",
       "50402  It is well known that steroid can briefly redu...         -1   \n",
       "50403  Unfortunately , as the complaints have been , ...         -1   \n",
       "\n",
       "       to_discard  sentiment_score  \n",
       "4           False         0.986583  \n",
       "16          False         0.693375  \n",
       "21          False         0.994018  \n",
       "24          False         0.982144  \n",
       "25          False         0.996402  \n",
       "...           ...              ...  \n",
       "50337       False         0.994973  \n",
       "50370       False         0.961714  \n",
       "50386       False         0.880451  \n",
       "50402       False         0.996437  \n",
       "50403       False         0.999756  \n",
       "\n",
       "[6724 rows x 7 columns]"
      ]
     },
     "execution_count": 277,
     "metadata": {},
     "output_type": "execute_result"
    }
   ],
   "source": [
    "test"
   ]
  },
  {
   "cell_type": "code",
   "execution_count": 278,
   "metadata": {},
   "outputs": [],
   "source": [
    "# the DFs in the correct .xml.seg format, based around ACL14 and SemEval14\n",
    "# TEXT\n",
    "# TARGET\n",
    "# SENTIMENT\n",
    "\n",
    "def _write(f, data):\n",
    "    f.write(data)\n",
    "    f.write(\"\\n\")\n",
    "    \n",
    "def save_row(f, row):\n",
    "    text = row['text']\n",
    "    sentiment = str(row['sentiment'])\n",
    "    target = eval(row['name'])[0]\n",
    "\n",
    "    _write(f, text)\n",
    "    _write(f, target)\n",
    "    _write(f, sentiment)\n"
   ]
  },
  {
   "cell_type": "code",
   "execution_count": 279,
   "metadata": {},
   "outputs": [],
   "source": [
    "save_train = os.path.join(os.getcwd(), \"graphql-topic-downloads\", \"filtered\", \"train.xml.seg\")\n",
    "with open(save_train, 'w', encoding=\"utf8\") as f:\n",
    "    [save_row(f, row) for idx, row in train.iterrows()]"
   ]
  },
  {
   "cell_type": "code",
   "execution_count": 280,
   "metadata": {},
   "outputs": [],
   "source": [
    "save_test = os.path.join(os.getcwd(), \"graphql-topic-downloads\", \"filtered\", \"test.xml.seg\")\n",
    "with open(save_test, 'w', encoding=\"utf8\") as f:\n",
    "    [save_row(f, row) for idx, row in test.iterrows()]"
   ]
  },
  {
   "cell_type": "code",
   "execution_count": null,
   "metadata": {},
   "outputs": [],
   "source": []
  },
  {
   "cell_type": "code",
   "execution_count": null,
   "metadata": {},
   "outputs": [],
   "source": []
  }
 ],
 "metadata": {
  "kernelspec": {
   "display_name": "Python 3",
   "language": "python",
   "name": "python3"
  },
  "language_info": {
   "codemirror_mode": {
    "name": "ipython",
    "version": 3
   },
   "file_extension": ".py",
   "mimetype": "text/x-python",
   "name": "python",
   "nbconvert_exporter": "python",
   "pygments_lexer": "ipython3",
   "version": "3.7.6"
  }
 },
 "nbformat": 4,
 "nbformat_minor": 4
}
