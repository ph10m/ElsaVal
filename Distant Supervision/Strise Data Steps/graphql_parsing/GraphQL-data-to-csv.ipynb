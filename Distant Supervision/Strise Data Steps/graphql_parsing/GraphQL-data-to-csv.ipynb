{
 "cells": [
  {
   "cell_type": "code",
   "execution_count": 1,
   "metadata": {},
   "outputs": [],
   "source": [
    "import pandas as pd\n",
    "import numpy as np\n",
    "import os"
   ]
  },
  {
   "cell_type": "code",
   "execution_count": 2,
   "metadata": {},
   "outputs": [
    {
     "name": "stderr",
     "output_type": "stream",
     "text": [
      "Downloading: 100%|███████████████████████████████████████████████████████████████████████████| 230/230 [00:00<00:00, 230kB/s]\n",
      "Couldn't reach server at 'https://s3.amazonaws.com/models.huggingface.co/bert/distilbert-base-uncased-finetuned-sst-2-english-modelcard.json' to download model card file.\n",
      "Creating an empty model card.\n"
     ]
    }
   ],
   "source": [
    "# initialize transformer pipeline for SA\n",
    "from transformers import pipeline\n",
    "\n",
    "sentiment = pipeline('sentiment-analysis')"
   ]
  },
  {
   "cell_type": "code",
   "execution_count": 3,
   "metadata": {},
   "outputs": [],
   "source": [
    "# initiate random seed\n",
    "np.random.seed(1337)"
   ]
  },
  {
   "cell_type": "code",
   "execution_count": 4,
   "metadata": {},
   "outputs": [],
   "source": [
    "def remove_multiple_masks(df):\n",
    "    col = 'too_many_masks'\n",
    "    df = df[df[col] == False]\n",
    "    return df.drop(columns=[col])\n"
   ]
  },
  {
   "cell_type": "code",
   "execution_count": 5,
   "metadata": {},
   "outputs": [],
   "source": [
    "def clean(df):\n",
    "    df = remove_multiple_masks(df)\n",
    "    # add more funcs as we go\n",
    "    return df"
   ]
  },
  {
   "cell_type": "code",
   "execution_count": 6,
   "metadata": {},
   "outputs": [],
   "source": [
    "def translate_sentiment(label):\n",
    "    if 'NEG' in label:\n",
    "        return -1\n",
    "    else:\n",
    "        return 1\n",
    "\n",
    "def calc_sentiment(row):\n",
    "    sentobj = sentiment(row['text'])[0]\n",
    "    row['sentiment_score'] = sentobj['score']\n",
    "    row['sentiment'] = translate_sentiment(sentobj['label'])\n",
    "    return row"
   ]
  },
  {
   "cell_type": "code",
   "execution_count": 7,
   "metadata": {},
   "outputs": [],
   "source": [
    "def make_path(root, folder):\n",
    "    path = os.path.join(root, folder)\n",
    "    if not os.path.exists(path):\n",
    "        os.mkdir(path)\n",
    "    return path"
   ]
  },
  {
   "cell_type": "code",
   "execution_count": 8,
   "metadata": {},
   "outputs": [
    {
     "data": {
      "text/plain": [
       "'C:\\\\Users\\\\Tollef\\\\Documents\\\\GitHub\\\\masterNEW\\\\REPO\\\\graphql\\\\downloads'"
      ]
     },
     "execution_count": 8,
     "metadata": {},
     "output_type": "execute_result"
    }
   ],
   "source": [
    "main_folder = os.path.dirname(os.getcwd())\n",
    "data_path = os.path.join(main_folder, \"graphql\", \"downloads\")\n",
    "data_path"
   ]
  },
  {
   "cell_type": "code",
   "execution_count": 9,
   "metadata": {},
   "outputs": [
    {
     "data": {
      "text/plain": [
       "'C:\\\\Users\\\\Tollef\\\\Documents\\\\GitHub\\\\masterNEW\\\\REPO\\\\dataset\\\\graphql-topic-downloads'"
      ]
     },
     "execution_count": 9,
     "metadata": {},
     "output_type": "execute_result"
    }
   ],
   "source": [
    "downloads = make_path(os.getcwd(), \"graphql-topic-downloads\")\n",
    "downloads"
   ]
  },
  {
   "cell_type": "code",
   "execution_count": 12,
   "metadata": {},
   "outputs": [
    {
     "name": "stdout",
     "output_type": "stream",
     "text": [
      "C:\\Users\\Tollef\\Documents\\GitHub\\masterNEW\\REPO\\dataset\\graphql-topic-downloads\\business\n",
      "C:\\Users\\Tollef\\Documents\\GitHub\\masterNEW\\REPO\\dataset\\graphql-topic-downloads\\politics\n",
      "C:\\Users\\Tollef\\Documents\\GitHub\\masterNEW\\REPO\\dataset\\graphql-topic-downloads\\sports\n",
      "C:\\Users\\Tollef\\Documents\\GitHub\\masterNEW\\REPO\\dataset\\graphql-topic-downloads\\tech\n",
      "Storing files in C:\\Users\\Tollef\\Documents\\GitHub\\masterNEW\\REPO\\dataset\\graphql-topic-downloads\n"
     ]
    }
   ],
   "source": [
    "all_topics_entity_dfs = []\n",
    "all_topics_texts_dfs = []\n",
    "\n",
    "for subdir, dirs, files in os.walk(data_path):\n",
    "    folder_name = os.path.split(subdir)[-1] if not dirs else None\n",
    "    if not folder_name:\n",
    "        continue\n",
    "    entity_path = os.path.join(subdir, \"entities.csv\")\n",
    "    text_path = os.path.join(subdir, \"texts.csv\")\n",
    "\n",
    "    entity_df = pd.read_csv(entity_path)\n",
    "    text_df = pd.read_csv(text_path)\n",
    "\n",
    "    # clean the entity file\n",
    "    entity_df = clean(entity_df)\n",
    "    \n",
    "    # remove columns not needed for annotation\n",
    "    # entity_df = entity_df.drop(columns=['entity_id', 'extractors', 'score', 'score_within_variance'])\n",
    "    # add columns to ready for prior sentiment analysis\n",
    "    entity_df['sentiment'] = np.nan\n",
    "    entity_df['sentiment_score'] = np.nan\n",
    "    # apply sentiment analysis from huggingface transformers distilbert\n",
    "    entity_df = entity_df.apply(lambda row: calc_sentiment(row), axis=1)\n",
    "\n",
    "    # store at a new location, within the dataset folder:      \n",
    "    dataset_loc = os.path.join(downloads, folder_name)\n",
    "    print(dataset_loc)\n",
    "\n",
    "    entity_df.to_csv(dataset_loc + \"-entities.csv\")\n",
    "    \n",
    "    all_topics_entity_dfs.append(entity_df)\n",
    "    all_topics_texts_dfs.append(text_df)\n",
    "    \n",
    "all_entities = pd.concat(all_topics_entity_dfs)\n",
    "all_texts = pd.concat(all_topics_texts_dfs)\n",
    "\n",
    "print('Storing files in {}'.format(downloads))\n",
    "all_entities.to_csv(os.path.join(downloads, \"all_entities.csv\"))\n",
    "all_texts.to_csv(os.path.join(downloads, \"TEXTS_LOOKUP_FILE.csv\"))"
   ]
  },
  {
   "cell_type": "code",
   "execution_count": null,
   "metadata": {},
   "outputs": [],
   "source": []
  }
 ],
 "metadata": {
  "kernelspec": {
   "display_name": "Python 3",
   "language": "python",
   "name": "python3"
  },
  "language_info": {
   "codemirror_mode": {
    "name": "ipython",
    "version": 3
   },
   "file_extension": ".py",
   "mimetype": "text/x-python",
   "name": "python",
   "nbconvert_exporter": "python",
   "pygments_lexer": "ipython3",
   "version": "3.7.6"
  }
 },
 "nbformat": 4,
 "nbformat_minor": 4
}
