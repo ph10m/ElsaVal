{
 "cells": [
  {
   "cell_type": "code",
   "execution_count": 1,
   "metadata": {},
   "outputs": [],
   "source": [
    "%load_ext autoreload\n",
    "%autoreload 2\n",
    "import pandas as pd\n",
    "import numpy as np\n",
    "import os\n",
    "import re"
   ]
  },
  {
   "cell_type": "code",
   "execution_count": 2,
   "metadata": {},
   "outputs": [],
   "source": [
    "from tqdm import tqdm"
   ]
  },
  {
   "cell_type": "code",
   "execution_count": 3,
   "metadata": {},
   "outputs": [
    {
     "name": "stdout",
     "output_type": "stream",
     "text": [
      "Init vader\n",
      "Init DistilBERT SST-2\n"
     ]
    },
    {
     "data": {
      "application/vnd.jupyter.widget-view+json": {
       "model_id": "b886a061cd8a4f12a17488b35324bbe8",
       "version_major": 2,
       "version_minor": 0
      },
      "text/plain": [
       "HBox(children=(FloatProgress(value=0.0, description='Downloading', max=230.0, style=ProgressStyle(description_…"
      ]
     },
     "metadata": {},
     "output_type": "display_data"
    },
    {
     "name": "stderr",
     "output_type": "stream",
     "text": [
      "Couldn't reach server at 'https://s3.amazonaws.com/models.huggingface.co/bert/distilbert-base-uncased-finetuned-sst-2-english-modelcard.json' to download model card file.\n",
      "Creating an empty model card.\n"
     ]
    },
    {
     "name": "stdout",
     "output_type": "stream",
     "text": [
      "\n"
     ]
    }
   ],
   "source": [
    "from SentimentClassifier import TwoStepSentimentClassifier\n",
    "classifier = TwoStepSentimentClassifier()"
   ]
  },
  {
   "cell_type": "code",
   "execution_count": 4,
   "metadata": {},
   "outputs": [],
   "source": [
    "# initiate random seed\n",
    "np.random.seed(4242)"
   ]
  },
  {
   "cell_type": "code",
   "execution_count": 5,
   "metadata": {},
   "outputs": [],
   "source": [
    "data_path = os.path.join(os.getcwd(), \"STEP 1 - RAW_JSON_TO_CSV\")"
   ]
  },
  {
   "cell_type": "code",
   "execution_count": 6,
   "metadata": {},
   "outputs": [],
   "source": [
    "mask = \"$T$\""
   ]
  },
  {
   "cell_type": "code",
   "execution_count": 7,
   "metadata": {},
   "outputs": [],
   "source": [
    "def apply_sentiment(row):\n",
    "    text = row[\"text\"]\n",
    "    restored_text = text.replace(mask, row[\"name\"])\n",
    "    sent = classifier.label_and_confidence(restored_text)\n",
    "    row[\"sentiment\"] = sent.label\n",
    "    row[\"sentiment_score\"] = sent.confidence\n",
    "    return row"
   ]
  },
  {
   "cell_type": "code",
   "execution_count": 8,
   "metadata": {},
   "outputs": [],
   "source": [
    "def make_path(root, folder):\n",
    "    path = os.path.join(root, folder)\n",
    "    if not os.path.exists(path):\n",
    "        os.mkdir(path)\n",
    "    return path"
   ]
  },
  {
   "cell_type": "code",
   "execution_count": 9,
   "metadata": {
    "scrolled": true
   },
   "outputs": [
    {
     "data": {
      "text/plain": [
       "'C:\\\\Users\\\\Tollef\\\\Documents\\\\GitHub\\\\masterNEW\\\\REPO\\\\strise\\\\STEP 2 - CSV_WITH_SENTIMENT'"
      ]
     },
     "execution_count": 9,
     "metadata": {},
     "output_type": "execute_result"
    }
   ],
   "source": [
    "store_path = os.path.join(os.getcwd(), \"STEP 2 - CSV_WITH_SENTIMENT\")\n",
    "store_path"
   ]
  },
  {
   "cell_type": "markdown",
   "metadata": {},
   "source": [
    "# Vader threshold 0.12"
   ]
  },
  {
   "cell_type": "code",
   "execution_count": 10,
   "metadata": {},
   "outputs": [
    {
     "name": "stderr",
     "output_type": "stream",
     "text": [
      "c:\\users\\tollef\\appdata\\local\\programs\\python\\python37\\lib\\site-packages\\tqdm\\std.py:658: FutureWarning: The Panel class is removed from pandas. Accessing it from the top-level namespace will also be removed in the next version\n",
      "  from pandas import Panel\n"
     ]
    }
   ],
   "source": [
    "tqdm.pandas()"
   ]
  },
  {
   "cell_type": "code",
   "execution_count": 11,
   "metadata": {
    "scrolled": true
   },
   "outputs": [
    {
     "name": "stderr",
     "output_type": "stream",
     "text": [
      "  0%|                                                  | 3/1627 [00:00<01:09, 23.44it/s]"
     ]
    },
    {
     "name": "stdout",
     "output_type": "stream",
     "text": [
      "reading C:\\Users\\Tollef\\Documents\\GitHub\\masterNEW\\REPO\\strise\\STEP 1 - RAW_JSON_TO_CSV\\business_entities.csv\n",
      "(1713, 6)\n",
      "drop dups\n",
      "(1627, 6)\n",
      "dropping NaN\n",
      "(1627, 6)\n"
     ]
    },
    {
     "name": "stderr",
     "output_type": "stream",
     "text": [
      "100%|███████████████████████████████████████████████| 1627/1627 [01:26<00:00, 18.79it/s]\n",
      "  0%|                                                          | 0/1683 [00:00<?, ?it/s]"
     ]
    },
    {
     "name": "stdout",
     "output_type": "stream",
     "text": [
      "storing in C:\\Users\\Tollef\\Documents\\GitHub\\masterNEW\\REPO\\strise\\STEP 2 - CSV_WITH_SENTIMENT\\business_entities.csv\n",
      "reading C:\\Users\\Tollef\\Documents\\GitHub\\masterNEW\\REPO\\strise\\STEP 1 - RAW_JSON_TO_CSV\\politics_entities.csv\n",
      "(1746, 6)\n",
      "drop dups\n",
      "(1683, 6)\n",
      "dropping NaN\n",
      "(1683, 6)\n"
     ]
    },
    {
     "name": "stderr",
     "output_type": "stream",
     "text": [
      "100%|███████████████████████████████████████████████| 1683/1683 [01:34<00:00, 17.86it/s]\n",
      "  0%|                                                          | 0/1551 [00:00<?, ?it/s]"
     ]
    },
    {
     "name": "stdout",
     "output_type": "stream",
     "text": [
      "storing in C:\\Users\\Tollef\\Documents\\GitHub\\masterNEW\\REPO\\strise\\STEP 2 - CSV_WITH_SENTIMENT\\politics_entities.csv\n",
      "reading C:\\Users\\Tollef\\Documents\\GitHub\\masterNEW\\REPO\\strise\\STEP 1 - RAW_JSON_TO_CSV\\sports_entities.csv\n",
      "(1559, 6)\n",
      "drop dups\n",
      "(1551, 6)\n",
      "dropping NaN\n",
      "(1551, 6)\n"
     ]
    },
    {
     "name": "stderr",
     "output_type": "stream",
     "text": [
      "100%|███████████████████████████████████████████████| 1551/1551 [01:38<00:00, 15.77it/s]\n",
      "  0%|                                                          | 0/1561 [00:00<?, ?it/s]"
     ]
    },
    {
     "name": "stdout",
     "output_type": "stream",
     "text": [
      "storing in C:\\Users\\Tollef\\Documents\\GitHub\\masterNEW\\REPO\\strise\\STEP 2 - CSV_WITH_SENTIMENT\\sports_entities.csv\n",
      "reading C:\\Users\\Tollef\\Documents\\GitHub\\masterNEW\\REPO\\strise\\STEP 1 - RAW_JSON_TO_CSV\\tech_entities.csv\n",
      "(1612, 6)\n",
      "drop dups\n",
      "(1561, 6)\n",
      "dropping NaN\n",
      "(1561, 6)\n"
     ]
    },
    {
     "name": "stderr",
     "output_type": "stream",
     "text": [
      "100%|███████████████████████████████████████████████| 1561/1561 [01:26<00:00, 18.13it/s]"
     ]
    },
    {
     "name": "stdout",
     "output_type": "stream",
     "text": [
      "storing in C:\\Users\\Tollef\\Documents\\GitHub\\masterNEW\\REPO\\strise\\STEP 2 - CSV_WITH_SENTIMENT\\tech_entities.csv\n"
     ]
    },
    {
     "name": "stderr",
     "output_type": "stream",
     "text": [
      "\n"
     ]
    }
   ],
   "source": [
    "all_topics_entity_dfs = []\n",
    "all_topics_texts_dfs = []\n",
    "\n",
    "for subdir, dirs, files in os.walk(data_path):\n",
    "    folder_name = os.path.split(subdir)[-1] if not dirs else None\n",
    "    if not folder_name:\n",
    "        continue\n",
    "        \n",
    "    topic_files = [f for f in files if '_' in f]\n",
    "    for csv in topic_files:\n",
    "        csv_path = os.path.join(subdir, csv)\n",
    "        print(\"reading\", csv_path)\n",
    "\n",
    "        ent_df = pd.read_csv(csv_path)\n",
    "        print(ent_df.shape)\n",
    "        \n",
    "        ent_df.drop_duplicates(subset=\"text\", inplace=True)\n",
    "        print(\"drop dups\")\n",
    "        print(ent_df.shape)\n",
    "        \n",
    "        ent_df = ent_df.dropna()\n",
    "        print(\"dropping NaN\")\n",
    "        print(ent_df.shape)\n",
    "        \n",
    "        ent_df[\"sentiment\"] = np.nan\n",
    "        ent_df[\"sentiment_score\"] = np.nan\n",
    "        \n",
    "        # use tqdm's progress_apply instead of apply\n",
    "        ent_df = ent_df.progress_apply(lambda row: apply_sentiment(row), axis=1)\n",
    "        \n",
    "        all_topics_entity_dfs.append(ent_df)\n",
    "        \n",
    "        new_path = os.path.join(store_path, csv)\n",
    "        print(\"storing in\", new_path)\n",
    "        ent_df.to_csv(new_path)\n"
   ]
  },
  {
   "cell_type": "code",
   "execution_count": 12,
   "metadata": {},
   "outputs": [],
   "source": [
    "# finally, merge all the entities and store it in a singular csv\n",
    "final_entity_df = pd.concat(all_topics_entity_dfs)\n",
    "entity_path = os.path.join(store_path, \"entities.csv\")\n",
    "final_entity_df.to_csv(entity_path)"
   ]
  },
  {
   "cell_type": "code",
   "execution_count": 13,
   "metadata": {},
   "outputs": [
    {
     "data": {
      "text/plain": [
       "4"
      ]
     },
     "execution_count": 13,
     "metadata": {},
     "output_type": "execute_result"
    }
   ],
   "source": [
    "len(all_topics_entity_dfs)"
   ]
  },
  {
   "cell_type": "code",
   "execution_count": null,
   "metadata": {},
   "outputs": [],
   "source": [
    "dups = None\n",
    "big = None\n",
    "for subdir, dirs, files in os.walk(data_path):\n",
    "    folder_name = os.path.split(subdir)[-1] if not dirs else None\n",
    "    if not folder_name:\n",
    "        continue\n",
    "        \n",
    "    topic_files = [f for f in files if '_' in f]\n",
    "    for csv in topic_files:\n",
    "        csv_path = os.path.join(subdir, csv)\n",
    "        if \"sport\" not in csv:\n",
    "            continue\n",
    "        print(\"reading\", csv_path)\n",
    "\n",
    "        ent_df = pd.read_csv(csv_path)\n",
    "        print(ent_df.shape)\n",
    "        big = ent_df\n",
    "        \n",
    "        print(\"exposing dplicates...\")\n",
    "        dups = ent_df.duplicated(subset=\"text\", keep=\"first\")\n",
    "        break\n",
    "        \n",
    "        ent_df.drop_duplicates(subset=\"text\", inplace=True)\n",
    "        print(\"drop dups\")\n",
    "        print(ent_df.shape)\n",
    "        \n",
    "        ent_df = ent_df.dropna()\n",
    "        print(\"dropping NaN\")\n",
    "        print(ent_df.shape)\n",
    "        \n",
    "        break\n",
    "    break\n",
    "        \n"
   ]
  },
  {
   "cell_type": "code",
   "execution_count": null,
   "metadata": {},
   "outputs": [],
   "source": [
    "dups"
   ]
  },
  {
   "cell_type": "code",
   "execution_count": null,
   "metadata": {},
   "outputs": [],
   "source": [
    "big"
   ]
  },
  {
   "cell_type": "code",
   "execution_count": null,
   "metadata": {},
   "outputs": [],
   "source": [
    "duped = big[big.duplicated(subset=[\"text\", \"name\"])]\n",
    "duped.describe()"
   ]
  },
  {
   "cell_type": "code",
   "execution_count": null,
   "metadata": {},
   "outputs": [],
   "source": [
    "dtexts = duped.text\n",
    "len(dtexts)"
   ]
  },
  {
   "cell_type": "code",
   "execution_count": null,
   "metadata": {},
   "outputs": [],
   "source": [
    "[x for x in dtexts[0:50]]"
   ]
  },
  {
   "cell_type": "code",
   "execution_count": null,
   "metadata": {},
   "outputs": [],
   "source": [
    "cleaned = big.reset_index().drop_duplicates(big.index.text)\n",
    "cleaned.set_index(big.index.names, inplace=True)"
   ]
  },
  {
   "cell_type": "code",
   "execution_count": null,
   "metadata": {},
   "outputs": [],
   "source": [
    "big.reset_index().drop_duplicates(subset=\"references\", keep=\"first\")"
   ]
  },
  {
   "cell_type": "code",
   "execution_count": null,
   "metadata": {},
   "outputs": [],
   "source": [
    "test = big[0:100]\n",
    "test"
   ]
  },
  {
   "cell_type": "code",
   "execution_count": null,
   "metadata": {},
   "outputs": [],
   "source": [
    "test.drop_duplicates(subset=\"text\", keep=\"first\")"
   ]
  },
  {
   "cell_type": "code",
   "execution_count": null,
   "metadata": {},
   "outputs": [],
   "source": []
  }
 ],
 "metadata": {
  "kernelspec": {
   "display_name": "Python 3",
   "language": "python",
   "name": "python3"
  },
  "language_info": {
   "codemirror_mode": {
    "name": "ipython",
    "version": 3
   },
   "file_extension": ".py",
   "mimetype": "text/x-python",
   "name": "python",
   "nbconvert_exporter": "python",
   "pygments_lexer": "ipython3",
   "version": "3.7.6"
  }
 },
 "nbformat": 4,
 "nbformat_minor": 4
}
