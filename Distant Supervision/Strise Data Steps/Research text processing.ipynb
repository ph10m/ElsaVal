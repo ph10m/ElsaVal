{
 "cells": [
  {
   "cell_type": "code",
   "execution_count": null,
   "metadata": {},
   "outputs": [],
   "source": []
  },
  {
   "cell_type": "code",
   "execution_count": 1,
   "metadata": {},
   "outputs": [],
   "source": [
    "text = \"\"\"\n",
    "\"Coverage includes:\n",
    "\n",
    "A comprehensive analysis of the global medical device & diagnostics industry;\n",
    "\n",
    "92 exhibits, the vast majority providing econometrically modeled market forecasts and supplier $T$ data by technology segment;\n",
    "\n",
    "Geographic and competitive data for 36 technology segment;\n",
    "\n",
    "Current and forecast markets for more than 140 individual products; and\n",
    "\n",
    "Current and forecast sales for 10 major national and regional MD&D markets and for industrialized versus emerging markets;\n",
    "\n",
    "Key Topics Covered\n",
    "\n",
    "Executive Summary\n",
    "\n",
    "Market by Clinical Application\n",
    "\n",
    "Market by ...\"\n",
    "\"\"\""
   ]
  },
  {
   "cell_type": "code",
   "execution_count": 2,
   "metadata": {},
   "outputs": [
    {
     "data": {
      "text/plain": [
       "'\\n\"Coverage includes:\\n\\nA comprehensive analysis of the global medical device & diagnostics industry;\\n\\n92 exhibits, the vast majority providing econometrically modeled market forecasts and supplier $T$ data by technology segment;\\n\\nGeographic and competitive data for 36 technology segment;\\n\\nCurrent and forecast markets for more than 140 individual products; and\\n\\nCurrent and forecast sales for 10 major national and regional MD&D markets and for industrialized versus emerging markets;\\n\\nKey Topics Covered\\n\\nExecutive Summary\\n\\nMarket by Clinical Application\\n\\nMarket by ...\"\\n'"
      ]
     },
     "execution_count": 2,
     "metadata": {},
     "output_type": "execute_result"
    }
   ],
   "source": [
    "text"
   ]
  },
  {
   "cell_type": "code",
   "execution_count": 3,
   "metadata": {},
   "outputs": [
    {
     "data": {
      "text/plain": [
       "['$T$', 'asdf']"
      ]
     },
     "execution_count": 3,
     "metadata": {},
     "output_type": "execute_result"
    }
   ],
   "source": [
    "import re\n",
    "re.findall(r\"([a-zA-Z0-9,._'\\$()-]+|[\\$T\\$]+)\", \"$T$ asdf\")"
   ]
  }
 ],
 "metadata": {
  "kernelspec": {
   "display_name": "Python 3",
   "language": "python",
   "name": "python3"
  },
  "language_info": {
   "codemirror_mode": {
    "name": "ipython",
    "version": 3
   },
   "file_extension": ".py",
   "mimetype": "text/x-python",
   "name": "python",
   "nbconvert_exporter": "python",
   "pygments_lexer": "ipython3",
   "version": "3.7.6"
  }
 },
 "nbformat": 4,
 "nbformat_minor": 4
}
