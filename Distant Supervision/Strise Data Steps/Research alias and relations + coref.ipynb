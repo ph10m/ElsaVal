{
 "cells": [
  {
   "cell_type": "code",
   "execution_count": 2,
   "metadata": {},
   "outputs": [],
   "source": [
    "%load_ext autoreload\n",
    "%autoreload 2\n",
    "import pandas as pd\n",
    "import os\n",
    "import sys\n",
    "import json"
   ]
  },
  {
   "cell_type": "code",
   "execution_count": 2,
   "metadata": {},
   "outputs": [],
   "source": [
    "from TextItem import TextItem"
   ]
  },
  {
   "cell_type": "code",
   "execution_count": 87,
   "metadata": {},
   "outputs": [
    {
     "name": "stdout",
     "output_type": "stream",
     "text": [
      "C:\\Users\\Tollef\\Documents\\GitHub\\masterNEW\\REPO\\graphql\\downloads\n",
      "C:\\Users\\Tollef\\Documents\\GitHub\\masterNEW\\REPO\\graphql\\downloads\\business\n"
     ]
    }
   ],
   "source": [
    "path = os.path.join(os.path.dirname(os.getcwd()), \"graphql\", \"downloads\")\n",
    "print(path)\n",
    "entities = None\n",
    "texts = None\n",
    "for folder in os.listdir(path):\n",
    "    sub_path = os.path.join(path, folder)\n",
    "    print(sub_path)\n",
    "    for jsonfile in os.listdir(sub_path):\n",
    "        jsonfile = os.path.join(sub_path, jsonfile)\n",
    "        with open(jsonfile, 'r', encoding=\"utf8\") as f:\n",
    "            f = json.load(f)\n",
    "            formatted = f[\"events\"][\"edges\"]\n",
    "            nodes = [TextItem(obj) for obj in formatted]\n",
    "\n",
    "            entities = [n.get_entities_object() for n in nodes]\n",
    "            texts = [n.get_text_object() for n in nodes]\n",
    "            break\n",
    "        break\n",
    "    break"
   ]
  },
  {
   "cell_type": "code",
   "execution_count": 88,
   "metadata": {
    "scrolled": true
   },
   "outputs": [
    {
     "data": {
      "text/plain": [
       "100"
      ]
     },
     "execution_count": 88,
     "metadata": {},
     "output_type": "execute_result"
    }
   ],
   "source": [
    "len(entities)"
   ]
  },
  {
   "cell_type": "code",
   "execution_count": 89,
   "metadata": {},
   "outputs": [],
   "source": [
    "i = 4"
   ]
  },
  {
   "cell_type": "code",
   "execution_count": 90,
   "metadata": {},
   "outputs": [
    {
     "data": {
      "text/plain": [
       "[{'id': 'ImY3ZDU2NjRlMTViOTEwZTcxYjIzMGRkNjE4YzBlZDQzODI1NWY5MTVkODE2N2I0ZmI3YzQ0NjZiZGEwOWRmY2Q6ZXZlbnRzLXYyX2VuXzIwMTgtMDMi',\n",
       "  'entity_id': 'Q102014',\n",
       "  'name': 'hyperlink',\n",
       "  'description': 'computing term; reference to data that the reader can directly follow either by clicking, tapping, or hovering',\n",
       "  'text': \"Google's take on the tech launched in 2009, and added a third-party API, the ability to create QR codes and the power to $T$ right to iOS and Android apps.\",\n",
       "  'references': {'link'},\n",
       "  'offset': 247},\n",
       " {'id': 'ImY3ZDU2NjRlMTViOTEwZTcxYjIzMGRkNjE4YzBlZDQzODI1NWY5MTVkODE2N2I0ZmI3YzQ0NjZiZGEwOWRmY2Q6ZXZlbnRzLXYyX2VuXzIwMTgtMDMi',\n",
       "  'entity_id': 'Q189210',\n",
       "  'name': 'web application',\n",
       "  'description': 'application that uses a web browser as a client',\n",
       "  'text': \"These new smart URLs let you send folks to any location within iOS, Android or $T$ You won't be able to create new goo.gl short links after the 13th, but existing users can manage them via the goo.gl console for the next year.\",\n",
       "  'references': {'web app', 'web-based application', 'webapp'},\n",
       "  'offset': 532},\n",
       " {'id': 'ImY3ZDU2NjRlMTViOTEwZTcxYjIzMGRkNjE4YzBlZDQzODI1NWY5MTVkODE2N2I0ZmI3YzQ0NjZiZGEwOWRmY2Q6ZXZlbnRzLXYyX2VuXzIwMTgtMDMi',\n",
       "  'entity_id': 'Q12537',\n",
       "  'name': 'corbel',\n",
       "  'description': 'piece of masonry jutting out of a wall to carry any superincumbent weight',\n",
       "  'text': \"You won't be able to create new goo.gl short links after the 13th, but existing users can manage them via the goo.gl $T$ for the next year.\",\n",
       "  'references': {'console'},\n",
       "  'offset': 659},\n",
       " {'id': 'ImY3ZDU2NjRlMTViOTEwZTcxYjIzMGRkNjE4YzBlZDQzODI1NWY5MTVkODE2N2I0ZmI3YzQ0NjZiZGEwOWRmY2Q6ZXZlbnRzLXYyX2VuXzIwMTgtMDMi',\n",
       "  'entity_id': 'Q12537',\n",
       "  'name': 'corbel',\n",
       "  'description': 'piece of masonry jutting out of a wall to carry any superincumbent weight',\n",
       "  'text': \"After that, all the links will still work, but you won't be able to access the $T$ itself after March 30th, 2019.\",\n",
       "  'references': {'console'},\n",
       "  'offset': 659},\n",
       " {'id': 'ImY3ZDU2NjRlMTViOTEwZTcxYjIzMGRkNjE4YzBlZDQzODI1NWY5MTVkODE2N2I0ZmI3YzQ0NjZiZGEwOWRmY2Q6ZXZlbnRzLXYyX2VuXzIwMTgtMDMi',\n",
       "  'entity_id': 'Q165194',\n",
       "  'name': 'application programming interface',\n",
       "  'description': 'set of subroutine definitions, protocols, and tools for building software and applications',\n",
       "  'text': \"Google's take on the tech launched in 2009, and added a third-party $T$ the ability to create QR codes and the power to link right to iOS and Android apps.\",\n",
       "  'references': {'API'},\n",
       "  'offset': 194}]"
      ]
     },
     "execution_count": 90,
     "metadata": {},
     "output_type": "execute_result"
    }
   ],
   "source": [
    "entities[i]"
   ]
  },
  {
   "cell_type": "code",
   "execution_count": 91,
   "metadata": {},
   "outputs": [
    {
     "data": {
      "text/plain": [
       "'URL shorteners can be both useful and fun. Google\\'s take on the tech launchedMore. URL shorteners can be both useful and fun. Google\\'s take on the tech launched in 2009, and added a third-party API, the ability to create QR codes and the power to link right to iOS and Android apps. Even Keanu Reeves has a URL shortener named in his honor. Unfortunately, Google is replacing its own service, goo.gl, with Firebase Dynamic Links (FDL) as of April 13th. These new smart URLs let you send folks to any location within iOS, Android or web apps. You won\\'t be able to create new goo.gl short links after the 13th, but existing users can manage them via the goo.gl console for the next year. After that, all the links will still work, but you won\\'t be able to access the console itself after March 30th, 2019. Google suggests creating FDLs from now on, or using other shortening services like Bitly and Ow.ly. This article originally appeared on Engadget. The agency revised the December report up by 9,000 barrels to 9.958 million bpd. The gains were driven by a rise in offshore production, which rose 5 percent to 1.62 million bpd from 1.55 million bpd. U.S. natural gas production in the lower 48 states dipped by 1.4 percent to 86 billion cubic feet New Delhi, March 30 (IANS) The Indian aviation industry is estimated to grow by 18 per cent during FY2018, ratings agency ICRA said on Friday. \"The domestic passenger traffic growth remained healthy backed by improvement in core growth drivers like economic environment and increasing tourism demand'"
      ]
     },
     "execution_count": 91,
     "metadata": {},
     "output_type": "execute_result"
    }
   ],
   "source": [
    "_t = texts[i]['text']\n",
    "_t"
   ]
  },
  {
   "cell_type": "code",
   "execution_count": 76,
   "metadata": {},
   "outputs": [
    {
     "name": "stdout",
     "output_type": "stream",
     "text": [
      "The oil price enjoyed its strongest rally in eight years over the first quarter of 2018. Demand was sustained by the recovering world economy and predictions that Opec members would hold firm with their production cuts.. The price of a barrel of Brent crude, to be delivered in May, finished at $70.27 on Thursday evening, a gain of $3.40 or more than 5 per cent since January. This marked the third quarter in a row in which the value of oil had risen. The price is closely watched because it is seen as a key indicator of global economic confidence and the likely direction of other markets. Brent crude is the most actively traded commodity, with contracts worth about $14 trillion handled each year. The… The price of Brent oil has risen for the third quarter in a row, finishing at $70.27 TODD KOROL/REUTERS.\n",
      "price of oil => The $T$ enjoyed its strongest rally in eight years over the first quarter of 2018.\n",
      "London Borough of Brent => The price of a barrel of $T$ crude, to be delivered in May, finished at $70.27 on Thursday evening, a gain of $3.40 or more than 5 per cent since January.\n",
      "London Borough of Brent => $T$ crude is the most actively traded commodity, with contracts worth about $14 trillion handled each year.\n",
      "London Borough of Brent => The… The price of $T$ oil has risen for the third quarter in a row, finishing at $70.27 TODD KOROL/REUTERS.\n",
      "economic indicator => The price is closely watched because it is seen as a key $T$ of global economic confidence and the likely direction of other markets.\n",
      "U.S. weekly jobless claims jumped by 24,000 to 242,000 for the period ended March 31, but still remain historically low. U.S. stocks opened firmly higher on Thursday, extending a late-session rally from the prior session, as investors dialed back on fears that a trade spat between the U.S. and China will materialize. The major equity indexes staged a big turnaround Wednesday after opening sharply lower, as traders struggled to interpret the possible impact of the trade standoff on U.S. corporate earnings and growth. What are main benchmarks doing? Dow Jones Industrial Average ( ^DJI )rise rose about 150 points, or 0.6%, to 24,410. Blue chips are attempting to mark their first three-session win streak since the three-day period ended Feb. 26, according to FactSet data. The S&P 500 index ( ^GSPC ) was up 12 points, or 0.4%, to 2,656, led by a 1.2% gain in energy and a 0.8% climb in technology stocks. Meanwhile, the technology-laden Nasdaq Composite Index ( ^IXIC ) added 40 points, or 0.6%, to 7,081. On Wednesday, the Dow Jones Industrial Average recovered from a 510-point intraday loss, at its session low, to finish up about 230 points, or 1%, to 24,264.30 The S&P 500 and Nasdaq gained 1.2% and 1.5%, respectively. The dramatic turnaround helped the Nasdaq end in positive territory for the year. The S&P 500 finished safely above its 200-day moving average for a second straight session, a positive sign for long-term momentum trends. Read: Dimon: Investors underestimate threat of ‘drastic action’ by Fed, other central banks Extreme volatility has been a hallmark of equities lately. So far this year, the S&P 500 has had three times as many sessions with a 1% move than it recorded in all of 2017. What’s driving markets Worries about trade hostilities between the two biggest economies in the world continued to ease. Stocks were battered initially on Wednesday after tit-for-tat tariffs on imports were announced by the U.S. and China. But now there will be shift to a period of negotiation, with the U.S. and China expected to spend six months in talks to resolve their trade differences. As well, speculation that the U.S. could survive even a protracted trade war is stoking some upbeat sentiment among investors. Read: Game of chicken: Trump adopts high-risk strategy in fight with China over unfair trade Investors are increasingly looking to the start of earnings season next week, with plenty of optimism baked in. For the first quarter 2018 reporting period, the estimated earnings growth rate for the S&P 500 is 17.3%. That would mark the highest growth since the first quarter of 2011, according to FactSet senior earnings analyst John Butters. Check out:How a ‘trade skirmish’ could become a global ‘trade war’ What are strategists saying? “I think, the fact that administration talked up trade negotiations is helping the alleviate the trade war fears for now. On a technical note, yesterday’s snap back was impressive and is leading to some stabilization ahead of the labor report tomorrow,” said Peter Cardillo, chief market economist at First Standard Financial, in emailed comments. What stocks are moving? Conatus Pharmaceuticals Inc. ( CNAT ) shares sank 29% on a failed drug study. Shares of Sonoma Pharmaceuticals Inc.( SNOA ) surged 17% after the Food and Drug Administration approved its antimicrobial skin gel. General Nutrition Corp.( GNC ) traded flat after the vitamin retailer said it would expand into Australia in a partnership with Australian health products distributor, Rapid Nutrition. Shares of Monsanto Co. ( MON ) rose 0.7% Thursday, after the seeds and agricultural products company missed profit and sales expectations, but said it remained ‘confident’ that the merger with Bayer AG( BAYN.DE ) would be completed by the end of the current quarter. Bayer’s shares were up 2.6%. Which economic reports are in focus? Initial U.S. jobless claims jumped by 24,000 to 242,000 in the seven days ended March 31, the government said Thursday. Economists surveyed by MarketWatch had forecast claims to total 225,000, but remains extremely low and reflect the best labor market in decades. The first two months of the year have seen a rapid expansion in jobs, but economists are expecting March growth will come in slower. Meanwhile, the U.S. trade deficit rose 1.6% in February and remained near a 10-year high, underscoring the seemingly near impossible task of the Trump administration to dramatically reduce the gap as the president has vowed. Check out:MarketWatch’s Economic Calendar As for Federal Reserve speakers, Atlanta Fed President Raphael Bostic is scheduled to address a conference on financial literacy at University of South Florida Sarasota-Manatee at 1 p.m. Eastern. What are other markets doing? Asian stock markets rose on optimism over the potential for U.S.-China trade negotiations, with Singapore stocks climbing 2.2%. European stocks ( ^STOXX ) shot to levels not seen in three weeks. Gold futures ( GCM18.CMX ) pulled lower, ...\n",
      "heterosexuality => The S&P 500 finished safely above its 200-day moving average for a second $T$ session, a positive sign for long-term momentum trends.\n",
      "prediction => Economists surveyed by MarketWatch had $T$ claims to total 225,000, but remains extremely low and reflect the best labor market in decades.\n",
      "rapids => The first two months of the year have seen a $T$ expansion in jobs, but economists are expecting March growth will come in slower.\n",
      "People's Republic of China => U.S. stocks opened firmly higher on Thursday, extending a late-session rally from the prior session, as investors dialed back on fears that a trade spat between the U.S. and $T$ will materialize.\n",
      "People's Republic of China => Stocks were battered initially on Wednesday after tit-for-tat tariffs on imports were announced by the U.S. and $T$.\n",
      "People's Republic of China => But now there will be shift to a period of negotiation, with the U.S. and $T$ expected to spend six months in talks to resolve their trade differences.\n",
      "People's Republic of China => Read: Game of chicken: Trump adopts high-risk strategy in fight with $T$ over unfair trade Investors are increasingly looking to the start of earnings season next week, with plenty of optimism baked in.\n",
      "People's Republic of China => Asian stock markets rose on optimism over the potential for U.S.-$T$ trade negotiations, with Singapore stocks climbing 2.2%.\n",
      "apartment => General Nutrition Corp.( GNC ) traded $T$ after the vitamin retailer said it would expand into Australia in a partnership with Australian health products distributor, Rapid Nutrition.\n",
      "reflection => Economists surveyed by MarketWatch had forecast claims to total 225,000, but remains extremely low and $T$ the best labor market in decades.\n",
      "electric current => Shares of Monsanto Co. ( MON ) rose 0.7% Thursday, after the seeds and agricultural products company missed profit and sales expectations, but said it remained ‘confident’ that the merger with Bayer AG( BAYN.DE ) would be completed by the end of the $T$ quarter.\n",
      "chemise => But now there will be $T$ to a period of negotiation, with the U.S. and China expected to spend six months in talks to resolve their trade differences.\n",
      "Federal Reserve System => Check out:MarketWatch’s Economic Calendar As for $T$ speakers, Atlanta Fed President Raphael Bostic is scheduled to address a conference on financial literacy at University of South Florida Sarasota-Manatee at 1 p.m. Eastern.\n",
      "Raphael Bostic => On a technical note, yesterday’s snap back was impressive and is leading to some stabilization ahead of the labor report tomorrow,” said Peter Cardillo, chief market $T$ at First Standard Financial, in emailed comments.\n",
      "NASDAQ => Meanwhile, the technology-laden $T$ Composite Index ( ^IXIC ) added 40 points, or 0.6%, to 7,081.\n",
      "NASDAQ => On Wednesday, the Dow Jones Industrial Average recovered from a 510-point intraday loss, at its session low, to finish up about 230 points, or 1%, to 24,264.30 The S&P 500 and $T$ gained 1.2% and 1.5%, respectively.\n",
      "NASDAQ => The dramatic turnaround helped the $T$ end in positive territory for the year.\n",
      "Bayer => Shares of $T$ Co. ( MON ) rose 0.7% Thursday, after the seeds and agricultural products company missed profit and sales expectations, but said it remained ‘confident’ that the merger with $T$( BAYN.DE ) would be completed by the end of the current quarter.\n",
      "Donald Trump => Read: Game of chicken: $T$ adopts high-risk strategy in fight with China over unfair trade Investors are increasingly looking to the start of earnings season next week, with plenty of optimism baked in.\n",
      "Donald Trump => Meanwhile, the U.S. trade deficit rose 1.6% in February and remained near a 10-year high, underscoring the seemingly near impossible task of the $T$ administration to dramatically reduce the gap as the president has vowed.\n",
      "Dow Jones Industrial Average => $T$ Industrial Average ( ^DJI )rise rose about 150 points, or 0.6%, to 24,410.\n",
      "Dow Jones Industrial Average => On Wednesday, the $T$ Industrial Average recovered from a 510-point intraday loss, at its session low, to finish up about 230 points, or 1%, to 24,264.30 The S&P 500 and Nasdaq gained 1.2% and 1.5%, respectively.\n",
      "Conatus Pharmaceuticals (United States) => $T$ Inc. ( CNAT ) shares sank 29% on a failed drug study.\n",
      "action film => Read: Dimon: Investors underestimate threat of ‘drastic $T$’ by Fed, other central banks Extreme volatility has been a hallmark of equities lately.\n",
      "week => U.S. $T$ jobless claims jumped by 24,000 to 242,000 for the period ended March 31, but still remain historically low.\n",
      "week => European stocks ( ^STOXX ) shot to levels not seen in three $T$.\n",
      "legislative session => U.S. stocks opened firmly higher on Thursday, extending a late-$T$ rally from the prior $T$, as investors dialed back on fears that a trade spat between the U.S. and China will materialize.\n",
      "legislative session => Blue chips are attempting to mark their first three-$T$ win streak since the three-day period ended Feb. 26, according to FactSet data.\n",
      "legislative session => On Wednesday, the Dow Jones Industrial Average recovered from a 510-point intraday loss, at its $T$ low, to finish up about 230 points, or 1%, to 24,264.30 The S&P 500 and Nasdaq gained 1.2% and 1.5%, respectively.\n",
      "legislative session => The S&P 500 finished safely above its 200-day moving average for a second straight $T$, a positive sign for long-term momentum trends.\n",
      "OLD GREENWICH, Conn.--( BUSINESS WIRE )--Ellington Financial LLC (NYSE:EFC) (\"Ellington Financial\" or the \"Company\") today announced that its estimated book value per common share as of March 31, 2018 was $19.56, or $19.24 on a diluted basis. Estimated book value per share on a diluted basis takes into account securities convertible into the Company's common shares. These estimates are subject to change upon completion of the Company's month-end valuation procedures relating to its investment positions, and any such change could be material. There can be no assurance that the Company's estimated book value per common share as of March 31, 2018 is indicative of what the Company's results are likely to be for the three month period ending March 31, 2018 or in future periods, and the Company undertakes no obligation to update or revise its estimated book value per common share prior to issuance of financial statements for such periods.. Cautionary Statement Regarding Forward-Looking Statements This press release contains forward-looking statements within the meaning of the safe harbor provisions of the Private Securities Litigation Reform Act of 1995. Forward-looking statements involve numerous risks and uncertainties. Our actual results may differ from our beliefs, expectations, estimates, and projections and, consequently, you should not rely on these forward-looking statements as predictions of future events. Forward-looking statements are not historical in nature and can be identified by words such as \"anticipate,\" \"estimate,\" \"will,\" \"should,\" \"may,\" \"expect,\" \"project,\" \"believe,\" \"intend,\" \"seek,\" \"plan\" and similar expressions or their negative forms, or by references to strategy, plans, or intentions. The Company's results can fluctuate from month to month depending on a variety of factors, some of which are beyond the Company's control and/or are difficult to predict, including, without limitation, changes in interest rates, changes in mortgage default rates and prepayment rates, and other changes in market conditions and economic trends. Furthermore, forward-looking statements are subject to risks and uncertainties, including, among other things, those described under Item 1A of our Annual Report on Form 10-K filed on March 15, 2018, which can be accessed through the link to our SEC filings under \"For Our Shareholders\" on our website ( www.ellingtonfinancial.com ) or at the SEC's website ( www.sec.gov ). Other risks, uncertainties, and factors that could cause actual results to differ materially from those projected may be described from time to time in reports we file with the SEC, including reports on Forms 10-Q, 10-K and 8-K. We undertake no obligation to update or revise any forward-looking statements, whether as a result of new information, future events, or otherwise. This release and the information contained herein do not constitute an offer of any securities or solicitation of an offer to purchase securities. Ellington Financial LLC is a specialty finance company that invests in a diverse array of financial assets, including residential and commercial mortgage-backed securities, residential and commercial mortgage loans, consumer loans and asset-backed securities backed by consumer loans, collateralized loan obligations, corporate equity and debt securities (including distressed debt), non-mortgage and mortgage-related derivatives, equity investments in mortgage-related entities, and other strategic investments. The Company securitizes certain assets, such as consumer loans, non-QM loans, and corporate loans. Ellington Financial LLC is externally managed and advised by Ellington Financial Management LLC, an affiliate of Ellington Management Group, L.L.C. Ellington Financial LLC Investor Contact: Maria Cozine, Vice President of Investor Relations, (203) 409-3575 or\n",
      "Form 10-K => Furthermore, forward-looking statements are subject to risks and uncertainties, including, among other things, those described under Item 1A of our Annual Report on Form $T$ filed on March 15, 2018, which can be accessed through the link to our SEC filings under \"For Our Shareholders\" on our website ( www.ellingtonfinancial.com ) or at the SEC's website ( www.sec.gov ).\n",
      "Form 10-K => Other risks, uncertainties, and factors that could cause actual results to differ materially from those projected may be described from time to time in reports we file with the SEC, including reports on Forms 10-Q, $T$ and 8-K. We undertake no obligation to update or revise any forward-looking statements, whether as a result of new information, future events, or otherwise.\n",
      "project management estimation => OLD GREENWICH, Conn.--( BUSINESS WIRE )--Ellington Financial LLC (NYSE:EFC) (\"Ellington Financial\" or the \"Company\") today announced that its $T$ book value per common share as of March 31, 2018 was $19.56, or $19.24 on a diluted basis.\n",
      "project management estimation => There can be no assurance that the Company's $T$ book value per common share as of March 31, 2018 is indicative of what the Company's results are likely to be for the three month period ending March 31, 2018 or in future periods, and the Company undertakes no obligation to update or revise its $T$ book value per common share prior to issuance of financial statements for such periods.. Cautionary Statement Regarding Forward-Looking Statements This press release contains forward-looking statements within the meaning of the safe harbor provisions of the Private Securities Litigation Reform Act of 1995.\n",
      "project management estimation => Forward-looking statements are not historical in nature and can be identified by words such as \"anticipate,\" \"$T$,\" \"will,\" \"should,\" \"may,\" \"expect,\" \"project,\" \"believe,\" \"intend,\" \"seek,\" \"plan\" and similar expressions or their negative forms, or by references to strategy, plans, or intentions.\n",
      "purchasing => This release and the information contained herein do not constitute an offer of any securities or solicitation of an offer to $T$ securities.\n",
      "hyperlink => Furthermore, forward-looking statements are subject to risks and uncertainties, including, among other things, those described under Item 1A of our Annual Report on Form 10-K filed on March 15, 2018, which can be accessed through the $T$ to our SEC filings under \"For Our Shareholders\" on our website ( www.ellingtonfinancial.com ) or at the SEC's website ( www.sec.gov ).\n",
      "stock => OLD GREENWICH, Conn.--( BUSINESS WIRE )--Ellington Financial LLC (NYSE:EFC) (\"Ellington Financial\" or the \"Company\") today announced that its estimated book value per common $T$ as of March 31, 2018 was $19.56, or $19.24 on a diluted basis.\n",
      "stock => Estimated book value per $T$ on a diluted basis takes into account securities convertible into the Company's common shares.\n",
      "stock => There can be no assurance that the Company's estimated book value per common $T$ as of March 31, 2018 is indicative of what the Company's results are likely to be for the three month period ending March 31, 2018 or in future periods, and the Company undertakes no obligation to update or revise its estimated book value per common $T$ prior to issuance of financial statements for such periods.. Cautionary Statement Regarding Forward-Looking Statements This press release contains forward-looking statements within the meaning of the safe harbor provisions of the Private Securities Litigation Reform Act of 1995.\n",
      "mortgage loan => The Company's results can fluctuate from month to month depending on a variety of factors, some of which are beyond the Company's control and/or are difficult to predict, including, without limitation, changes in interest rates, changes in $T$ default rates and prepayment rates, and other changes in market conditions and economic trends.\n",
      "mortgage loan => Ellington Financial LLC is a specialty finance company that invests in a diverse array of financial assets, including residential and commercial $T$-backed securities, residential and commercial $T$ loans, consumer loans and asset-backed securities backed by consumer loans, collateralized loan obligations, corporate equity and debt securities (including distressed debt), non-$T$ and $T$-related derivatives, equity investments in $T$-related entities, and other strategic investments.\n",
      "language variety => The Company's results can fluctuate from month to month depending on a $T$ of factors, some of which are beyond the Company's control and/or are difficult to predict, including, without limitation, changes in interest rates, changes in mortgage default rates and prepayment rates, and other changes in market conditions and economic trends.\n",
      "array data structure => Ellington Financial LLC is a specialty finance company that invests in a diverse $T$ of financial assets, including residential and commercial mortgage-backed securities, residential and commercial mortgage loans, consumer loans and asset-backed securities backed by consumer loans, collateralized loan obligations, corporate equity and debt securities (including distressed debt), non-mortgage and mortgage-related derivatives, equity investments in mortgage-related entities, and other strategic investments.\n",
      "U.S. Securities and Exchange Commission => Furthermore, forward-looking statements are subject to risks and uncertainties, including, among other things, those described under Item 1A of our Annual Report on Form 10-K filed on March 15, 2018, which can be accessed through the link to our $T$ filings under \"For Our Shareholders\" on our website ( www.ellingtonfinancial.com ) or at the $T$'s website ( www.sec.gov ).\n",
      "U.S. Securities and Exchange Commission => Other risks, uncertainties, and factors that could cause actual results to differ materially from those projected may be described from time to time in reports we file with the $T$, including reports on Forms 10-Q, 10-K and 8-K. We undertake no obligation to update or revise any forward-looking statements, whether as a result of new information, future events, or otherwise.\n",
      "offer and acceptance => This release and the information contained herein do not constitute an $T$ of any securities or solicitation of an $T$ to purchase securities.\n",
      "Sending your child to study overseas means building a home away from home, you need to consider more than just university fees.. Stanley Tordiffe Investing offshore to secure your child's education. Picture: Supplied Since the beginning of the #FeesMustFall campaign in 2015, issues surrounding university fees and affordability have been under intense scrutiny by decision makers, prospective students and parents – who are more often than not, faced with the financial responsibility. Among other factors, the uncertainty created by this movement has contributed to a growing trend among those who have the means to send their children abroad to study. According to the 2017 Knight Frank Wealth Report nearly half of the respondents with clients in Africa, 47% strongly agreed that wealthy families are choosing to send their children overseas to get an education, while the global average is 28%. The move by parents to send their children to study abroad is nothing untoward. This is a natural trend as international travel is far cheaper than before, and together with technology, the internet and social media, it is making the world far more integrated and a global village. Amid global volatility and change in both the political and financial spheres, financial literacy and planning for your child’s education should remain a priority. However, like any major financial decision, you need to consider a multitude of factors when deciding whether to send your children overseas for their education. Universities South Africa (USAf), the representative body of South Africa’s public universities, has granted South African universities an 8% fee increase for 2018. While not all universities have adopted the increase, the threat of fee hikes must be considered when calculating the costs involved with higher education.” The approximate cost for a three-year BCom degree at the University of Cape Town (UCT) is around R169 900 per annum, including tuition, accommodation and other relevant costs. UCT is one of the more expensive universities in South Africa, but it is also important to note that you will pay different amounts for different courses. An Engineering or Medical Degree, for example, will cost more than other degrees. So, a more expensive degree at one of the less expensive local universities will likely be similar in cost overall. Based on a comparison of three offshore universities, namely the University of Western Australia in Perth, Oxford in England and Harvard in USA, the annual average cost for an offshore university per annum including living expenses such as groceries, accommodation – ranging from renting a flat, living in res or communal housing, and entertainment, can range between a minimum of R 346 216 per annum – for lower end choices – to R1.1 million per annum at Harvard University. The costs for tuition and accommodation will undoubtedly be the main costs associated with university, however studying abroad involves recreating a home away from home for your children. Related expenses like accommodation, meals, entertainment, flights and other expenses have to be included. There are many other expenses to consider when sending your child to live overseas whilst studying,” explains Tordiffe. You also need to consider your child’s living standards as an international student. Will it be at a higher cost or will they have to adjust to a cheaper cost of living? When making the necessary provision, Tordiffe says that possible rand currency fluctuations must be considered and planned for accordingly. If the rand had to weaken significantly and you are saving in rands, it would mean you would be short in your savings goal. Therefore, it makes sense to have your savings aligned to the nature of the offshore goal by investing offshore and thereby hedging out the currency risk as early as possible in your savings plan. Education planning is only one of the goals you need to consider in your financial plan. Investors should look at their financial plan in relation to their lifestyle and decide how much they are going to allocate to education planning. To do this, you need to have a clear understanding of what is important to you and what your desired lifestyle and goals are – you can’t look at any one aspect in isolation. These goals also need to include the likes of your travel, recreation, home, car and retirement goals. By completing the full circle and determining all your lifestyle goals, you will be able to determine the level of investment return that is required for each goal, including your child’s education, based on your current financial circumstances. Stanley Tordiffe is Certified Financial Planner (CFP®) at Old Mutual Private Wealth Management.\n",
      "year => Sending your child to study overseas means building $T$ home away from home, you need to consider more than just university fees.. Stanley Tordiffe Investing offshore to secure your child's education.\n",
      "year => Among other factors, the uncertainty created by this movement has contributed to $T$ growing trend among those who have the means to send their children abroad to study.\n",
      "year => This is $T$ natural trend as international travel is far cheaper than before, and together with technology, the internet and social media, it is making the world far more integrated and $T$ global village.\n",
      "year => Amid global volatility and change in both the political and financial spheres, financial literacy and planning for your child’s education should remain $T$ priority.\n",
      "year => However, like any major financial decision, you need to consider $T$ multitude of factors when deciding whether to send your children overseas for their education.\n",
      "year => While not all universities have adopted the increase, the threat of fee hikes must be considered when calculating the costs involved with higher education.” The approximate cost for $T$ three-year BCom degree at the University of Cape Town (UCT) is around R169 900 per $T$, including tuition, accommodation and other relevant costs.\n",
      "year => So, $T$ more expensive degree at one of the less expensive local universities will likely be similar in cost overall.\n",
      "year => Based on $T$ comparison of three offshore universities, namely the University of Western Australia in Perth, Oxford in England and Harvard in USA, the annual average cost for an offshore university per $T$ including living expenses such as groceries, accommodation – ranging from renting $T$ flat, living in res or communal housing, and entertainment, can range between $T$ minimum of R 346 216 per $T$ – for lower end choices – to R1.1 million per $T$ at Harvard University.\n",
      "year => The costs for tuition and accommodation will undoubtedly be the main costs associated with university, however studying abroad involves recreating $T$ home away from home for your children.\n",
      "year => Will it be at $T$ higher cost or will they have to adjust to $T$ cheaper cost of living?\n",
      "year => To do this, you need to have $T$ clear understanding of what is important to you and what your desired lifestyle and goals are – you can’t look at any one aspect in isolation.\n",
      "comparison => While not all universities have adopted the increase, the threat of fee hikes must be considered when calculating the costs involved with higher education.” The approximate cost for a three-year BCom $T$ at the University of Cape Town (UCT) is around R169 900 per annum, including tuition, accommodation and other relevant costs.\n",
      "comparison => So, a more expensive $T$ at one of the less expensive local universities will likely be similar in cost overall.\n",
      "education => $T$ planning is only one of the goals you need to consider in your financial plan.\n",
      "military campaign => Picture: Supplied Since the beginning of the #FeesMustFall $T$ in 2015, issues surrounding university fees and affordability have been under intense scrutiny by decision makers, prospective students and parents – who are more often than not, faced with the financial responsibility.\n",
      "annual plant => Based on a comparison of three offshore universities, namely the University of Western Australia in Perth, Oxford in England and Harvard in USA, the $T$ average cost for an offshore university per annum including living expenses such as groceries, accommodation – ranging from renting a flat, living in res or communal housing, and entertainment, can range between a minimum of R 346 216 per annum – for lower end choices – to R1.1 million per annum at Harvard University.\n",
      "Harvard University => Based on a comparison of three offshore universities, namely the University of Western Australia in Perth, Oxford in England and $T$ in USA, the annual average cost for an offshore university per annum including living expenses such as groceries, accommodation – ranging from renting a flat, living in res or communal housing, and entertainment, can range between a minimum of R 346 216 per annum – for lower end choices – to R1.1 million per annum at $T$ University.\n",
      "apartment => Based on a comparison of three offshore universities, namely the University of Western Australia in Perth, Oxford in England and Harvard in USA, the annual average cost for an offshore university per annum including living expenses such as groceries, accommodation – ranging from renting a $T$, living in res or communal housing, and entertainment, can range between a minimum of R 346 216 per annum – for lower end choices – to R1.1 million per annum at Harvard University.\n",
      "circa => While not all universities have adopted the increase, the threat of fee hikes must be considered when calculating the costs involved with higher education.” The approximate cost for a three-year BCom degree at the University of Cape Town (UCT) is $T$ R169 900 per annum, including tuition, accommodation and other relevant costs.\n",
      "circa => Based on a comparison of three offshore universities, namely the University of Western Australia in Perth, Oxford in England and Harvard in USA, the annual average cost for an offshore university per annum including living expenses such as groceries, accommodation – ranging from renting a flat, living in res or communal housing, and entertainment, $T$ range between a minimum of R 346 216 per annum – for lower end choices – to R1.1 million per annum at Harvard University.\n",
      "circa => To do this, you need to have a clear understanding of what is important to you and what your desired lifestyle and goals are – you $T$’t look at any one aspect in isolation.\n",
      "circa => These goals also need to include the likes of your travel, recreation, home, $T$ and retirement goals.\n",
      "electric current => By completing the full circle and determining all your lifestyle goals, you will be able to determine the level of investment return that is required for each goal, including your child’s education, based on your $T$ financial circumstances.\n",
      "codomain => Based on a comparison of three offshore universities, namely the University of Western Australia in Perth, Oxford in England and Harvard in USA, the annual average cost for an offshore university per annum including living expenses such as groceries, accommodation – ranging from renting a flat, living in res or communal housing, and entertainment, can $T$ between a minimum of R 346 216 per annum – for lower end choices – to R1.1 million per annum at Harvard University.\n",
      "Canadian Foundation for Pharmacy => Stanley Tordiffe is Certified Financial Planner ($T$®) at Old Mutual Private Wealth Management.\n",
      "academic degree => While not all universities have adopted the increase, the threat of fee hikes must be considered when calculating the costs involved with higher education.” The approximate cost for a three-year BCom $T$ at the University of Cape Town (UCT) is around R169 900 per annum, including tuition, accommodation and other relevant costs.\n",
      "academic degree => So, a more expensive $T$ at one of the less expensive local universities will likely be similar in cost overall.\n",
      "foreign exchange risk => Therefore, it makes sense to have your savings aligned to the nature of the offshore goal by investing offshore and thereby hedging out the $T$ as early as possible in your savings plan.\n",
      "mean => According to the 2017 Knight Frank Wealth Report nearly half of the respondents with clients in Africa, 47% strongly agreed that wealthy families are choosing to send their children overseas to get an education, while the global $T$ is 28%.\n",
      "mean => Based on a comparison of three offshore universities, namely the University of Western Australia in Perth, Oxford in England and Harvard in USA, the annual $T$ cost for an offshore university per annum including living expenses such as groceries, accommodation – ranging from renting a flat, living in res or communal housing, and entertainment, can range between a minimum of R 346 216 per annum – for lower end choices – to R1.1 million per annum at Harvard University.\n",
      "motion => Among other factors, the uncertainty created by this $T$ has contributed to a growing trend among those who have the means to send their children abroad to study.\n",
      "Internet => This is a natural trend as international travel is far cheaper than before, and together with technology, the $T$ and social media, it is making the world far more integrated and a global village.\n",
      "United States of America => Based on a comparison of three offshore universities, namely the University of Western Australia in Perth, Oxford in England and Harvard in $T$, the annual average cost for an offshore university per annum including living expenses such as groceries, accommodation – ranging from renting a flat, living in res or communal housing, and entertainment, can range between a minimum of R 346 216 per annum – for lower end choices – to R1.1 million per annum at Harvard University.\n",
      "National elections are scheduled for May 2019, and may happen sooner. I have often said, to anyone willing to listen, that fake news was “invented” in India long before making its way to the shores of that other great democracy.. National elections are scheduled for May 2019, and may happen sooner. I have often said, to anyone willing to listen, that fake news was “invented” in India long before making its way to the shores of that other great democracy. In India, we can date the event to the surprisingly large win by the Narendra Modi led BJP in May 2014. The rationale behind fake news (and in my view, its more important first cousin, fake analysis) is to create a political atmosphere helpful to the (weak) challenger. Conventional wisdom says that the challenger is in trouble—so, change the basis of this wisdom—provide facts “alternate” to the prevailing reality. Indeed, the father of fake news/analysis was Goebbels, who reasoned that if you incessantly repeat a lie, the lie will become “reality”. With the explosion of social media, the instrument, and practice, has changed over the years. But the reality is the same—change people’s perceptions is the mantra. This is what has been happening over the last few years in India, and is now reaching a crescendo because national elections are approaching. There is a not so subtle attempt by Modi’s political opponents to create a chorus around both the political and economic reality. The emphasis around the word chorus is important; just one person saying the alternate reality is inconsequential, several emphasising the alternate reality (op-eds, Facebook, WhatsApp ) can create a flood, and possibly change reality? I provide some evidence below—the reader can make her own judgments about whether more proof is needed! Politics: The evidence is considered overwhelming. BJP lost in two Lok Sabha (LS) by-polls in Rajasthan, and did so by a large margin. This was followed up by an important LS by-poll victory, for the Samajwadi Party candidate, supported by Mayawati, in Uttar Pradesh’s Gorakhpur seat that was vacated by chief minister Yogi Adityanath. Add to this the fact that a no-confidence motion is being introduced, and we have confirmation that Modi’s BJP is in danger of obtaining less than 200 seats in the next general election. Remember also the fact that the day before counting in May 2014, the conventional wisdom, often championed by the same commentators as today, was that the election would result in a hung parliament. The story cannot have any ambiguity. The opinionatti fail to mention that over the course of the last four years, the BJP (and/or its allies) has continued to win all elections it has contested barring Delhi and Bihar. The BJP and its allies now rule in 22 of the 29 states in India, a record for any ruling coalition in India’s 68-year democratic history. (India became a Republic with the adoption of a Constitution on January 26, 1950). The previous record was 18 states held by the Congress, under Indira Gandhi. Our “liberal elite” would have us believe that because of Mayawati and Akhilesh Yadav getting together for one by-poll in UP, that electorally the BJP is in danger of losing control. Yet, a few days later, the same electoral combine fails to win a Rajya Sabha seat—because a BSP legislator walked over to the BJP side! This is not considered important. Not considered relevant to the chorus byline is the BJP victory in Tripura and the rule (with allies) in Meghalaya and Nagaland. Would any member of the elite have considered this even possible just a year ago? No. Also, Congress experts point out that the BJP went on to face horrific defeat in the Rajasthan by-polls. True. But, in neighbouring Madhya Pradesh, in Congress leader Jyotiraditya Scindia’s own backyard, the Congress won by just 2,000 votes in Mungaoli versus a victory margin of 58,000 votes in the 2013 state election. Politics is uncertain, and so reasonable women can disagree. Economics is more certain, but this isn’t stopping the chorus from claiming that the reason Modi is in trouble is because economic conditions are no better, and possibly worse, than 2014.Some claim that he had promised large scale privatisation of the economy. Since that hasn’t happened, Modi has failed. But Air India is being privatised, again not thought conceivable, let alone possible. Some difference surely from the inglorious past? Corruption same as before? Just look at the PNB scam. But that started in the scam-scam years of the UPA. That doesn’t negate the fact that it continued under Modi. True. But what if the BJP takes the bold (and sensible) decision to get at the root cause of banking scams—begin to unravel Indira Gandhi’s decision to nationalise the banks—and the creation of large-scale corruption? No matter what criteria (fiction) is cooked up, the fact remains that corruption at the highest levels has been radically reduced—and there seems to be an urgency to solve the problem. Jobs: The ...\n",
      "choir => There is a not so subtle attempt by Modi’s political opponents to create a $T$ around both the political and economic reality.\n",
      "choir => The emphasis around the word $T$ is important; just one person saying the alternate reality is inconsequential, several emphasising the alternate reality (op-eds, Facebook, WhatsApp ) can create a flood, and possibly change reality?\n",
      "choir => Not considered relevant to the $T$ byline is the BJP victory in Tripura and the rule (with allies) in Meghalaya and Nagaland.\n",
      "choir => Economics is more certain, but this isn’t stopping the $T$ from claiming that the reason Modi is in trouble is because economic conditions are no better, and possibly worse, than 2014.Some claim that he had promised large scale privatisation of the economy.\n",
      "privatization => Economics is more certain, but this isn’t stopping the chorus from claiming that the reason Modi is in trouble is because economic conditions are no better, and possibly worse, than 2014.Some claim that he had promised large scale $T$ of the economy.\n",
      "motion of no confidence => Add to this the fact that a $T$ is being introduced, and we have confirmation that Modi’s BJP is in danger of obtaining less than 200 seats in the next general election.\n",
      "Narendra Modi => In India, we can date the event to the surprisingly large win by the Narendra $T$ led BJP in May 2014.\n",
      "Narendra Modi => There is a not so subtle attempt by $T$’s political opponents to create a chorus around both the political and economic reality.\n",
      "Narendra Modi => Add to this the fact that a no-confidence motion is being introduced, and we have confirmation that $T$’s BJP is in danger of obtaining less than 200 seats in the next general election.\n",
      "Narendra Modi => Economics is more certain, but this isn’t stopping the chorus from claiming that the reason $T$ is in trouble is because economic conditions are no better, and possibly worse, than 2014.Some claim that he had promised large scale privatisation of the economy.\n",
      "Narendra Modi => Since that hasn’t happened, $T$ has failed.\n",
      "Narendra Modi => That doesn’t negate the fact that it continued under $T$.\n",
      "combine harvester => Yet, a few days later, the same electoral $T$ fails to win a Rajya Sabha seat—because a BSP legislator walked over to the BJP side!\n",
      "zero of a function => But what if the BJP takes the bold (and sensible) decision to get at the $T$ cause of banking scams—begin to unravel Indira Gandhi’s decision to nationalise the banks—and the creation of large-scale corruption?\n",
      "Uttar Pradesh => Our “liberal elite” would have us believe that because of Mayawati and Akhilesh Yadav getting together for one by-poll in $T$, that electorally the BJP is in danger of losing control.\n",
      "musical instrument => With the explosion of social media, the $T$, and practice, has changed over the years.\n",
      "existence => Conventional wisdom says that the challenger is in trouble—so, change the basis of this wisdom—provide facts “alternate” to the prevailing $T$.\n",
      "existence => Indeed, the father of fake news/analysis was Goebbels, who reasoned that if you incessantly repeat a lie, the lie will become “$T$”.\n",
      "existence => But the $T$ is the same—change people’s perceptions is the mantra.\n",
      "existence => There is a not so subtle attempt by Modi’s political opponents to create a chorus around both the political and economic $T$.\n",
      "existence => The emphasis around the word chorus is important; just one person saying the alternate $T$ is inconsequential, several emphasising the alternate $T$ (op-eds, Facebook, WhatsApp ) can create a flood, and possibly change $T$?\n",
      "existence => Add to this the fact that a no-confidence motion is $T$ introduced, and we have confirmation that Modi’s BJP is in danger of obtaining less than 200 seats in the next general election.\n",
      "existence => But Air India is $T$ privatised, again not thought conceivable, let alone possible.\n",
      "Bahujan Samaj Party => Yet, a few days later, the same electoral combine fails to win a Rajya Sabha seat—because a $T$ legislator walked over to the BJP side!\n",
      "India => I have often said, to anyone willing to listen, that fake news was “invented” $T$ India long before making its way to the shores of that other great democracy.. National elections are scheduled for May 2019, and may happen sooner.\n",
      "India => I have often said, to anyone willing to listen, that fake news was “invented” $T$ India long before making its way to the shores of that other great democracy.\n",
      "India => In India, we can date the event to the surprisingly large win by the Narendra Modi led BJP $T$ May 2014.\n",
      "India => The rationale behind fake news (and $T$ my view, its more important first cousin, fake analysis) is to create a political atmosphere helpful to the (weak) challenger.\n",
      "India => Conventional wisdom says that the challenger is $T$ trouble—so, change the basis of this wisdom—provide facts “alternate” to the prevailing reality.\n",
      "India => This is what has been happening over the last few years $T$ India, and is now reaching a crescendo because national elections are approaching.\n",
      "India => BJP lost $T$ two Lok Sabha (LS) by-polls $T$ Rajasthan, and did so by a large margin.\n",
      "India => This was followed up by an important LS by-poll victory, for the Samajwadi Party candidate, supported by Mayawati, $T$ Uttar Pradesh’s Gorakhpur seat that was vacated by chief minister Yogi Adityanath.\n",
      "India => Add to this the fact that a no-confidence motion is being introduced, and we have confirmation that Modi’s BJP is $T$ danger of obtaining less than 200 seats $T$ the next general election.\n",
      "India => Remember also the fact that the day before counting $T$ May 2014, the conventional wisdom, often championed by the same commentators as today, was that the election would result $T$ a hung parliament.\n",
      "India => The BJP and its allies now rule $T$ 22 of the 29 states $T$ India, a record for any ruling coalition $T$ India’s 68-year democratic history.\n",
      "India => Our “liberal elite” would have us believe that because of Mayawati and Akhilesh Yadav getting together for one by-poll $T$ UP, that electorally the BJP is $T$ danger of losing control.\n",
      "India => Not considered relevant to the chorus byline is the BJP victory $T$ Tripura and the rule (with allies) $T$ Meghalaya and Nagaland.\n",
      "India => Also, Congress experts point out that the BJP went on to face horrific defeat $T$ the Rajasthan by-polls.\n",
      "India => But, $T$ neighbouring Madhya Pradesh, $T$ Congress leader Jyotiraditya Scindia’s own backyard, the Congress won by just 2,000 votes $T$ Mungaoli versus a victory margin of 58,000 votes $T$ the 2013 state election.\n",
      "India => Economics is more certain, but this isn’t stopping the chorus from claiming that the reason Modi is $T$ trouble is because economic conditions are no better, and possibly worse, than 2014.Some claim that he had promised large scale privatisation of the economy.\n",
      "India => But that started $T$ the scam-scam years of the UPA.\n",
      "Bharatiya Janata Party => In India, we can date the event to the surprisingly large win by the Narendra Modi led $T$ in May 2014.\n",
      "Bharatiya Janata Party => $T$ lost in two Lok Sabha (LS) by-polls in Rajasthan, and did so by a large margin.\n",
      "Bharatiya Janata Party => Add to this the fact that a no-confidence motion is being introduced, and we have confirmation that Modi’s $T$ is in danger of obtaining less than 200 seats in the next general election.\n",
      "Bharatiya Janata Party => The opinionatti fail to mention that over the course of the last four years, the $T$ (and/or its allies) has continued to win all elections it has contested barring Delhi and Bihar.\n",
      "Bharatiya Janata Party => The $T$ and its allies now rule in 22 of the 29 states in India, a record for any ruling coalition in India’s 68-year democratic history.\n",
      "Bharatiya Janata Party => Our “liberal elite” would have us believe that because of Mayawati and Akhilesh Yadav getting together for one by-poll in UP, that electorally the $T$ is in danger of losing control.\n",
      "Bharatiya Janata Party => Yet, a few days later, the same electoral combine fails to win a Rajya Sabha seat—because a BSP legislator walked over to the $T$ side!\n",
      "Bharatiya Janata Party => Not considered relevant to the chorus byline is the $T$ victory in Tripura and the rule (with allies) in Meghalaya and Nagaland.\n",
      "Bharatiya Janata Party => Also, Congress experts point out that the $T$ went on to face horrific defeat in the Rajasthan by-polls.\n",
      "Bharatiya Janata Party => But what if the $T$ takes the bold (and sensible) decision to get at the root cause of banking scams—begin to unravel Indira Gandhi’s decision to nationalise the banks—and the creation of large-scale corruption?\n",
      "element => Would any $T$ of the elite have considered this even possible just a year ago?\n",
      "human => But the reality is the same—change $T$’s perceptions is the mantra.\n",
      "human => The emphasis around the word chorus is important; just one $T$ saying the alternate reality is inconsequential, several emphasising the alternate reality (op-eds, Facebook, WhatsApp ) can create a flood, and possibly change reality?\n",
      "complaint => Economics is more certain, but this isn’t stopping the chorus from claiming that the reason Modi is in trouble is because economic conditions are no better, and possibly worse, than 2014.Some $T$ that he had promised large scale privatisation of the economy.\n",
      "mathematical proof => I provide some evidence below—the reader can make her own judgments about whether more $T$ is needed!\n",
      "opinion poll => BJP lost in two Lok Sabha (LS) by-$T$ in Rajasthan, and did so by a large margin.\n",
      "opinion poll => This was followed up by an important LS by-$T$ victory, for the Samajwadi Party candidate, supported by Mayawati, in Uttar Pradesh’s Gorakhpur seat that was vacated by chief minister Yogi Adityanath.\n",
      "opinion poll => Our “liberal elite” would have us believe that because of Mayawati and Akhilesh Yadav getting together for one by-$T$ in UP, that electorally the BJP is in danger of losing control.\n",
      "opinion poll => Also, Congress experts point out that the BJP went on to face horrific defeat in the Rajasthan by-$T$.\n",
      "economics => $T$ is more certain, but this isn’t stopping the chorus from claiming that the reason Modi is in trouble is because economic conditions are no better, and possibly worse, than 2014.Some claim that he had promised large scale privatisation of the economy.\n",
      "ellipsis => National elections $T$ scheduled $T$ $T$ 2019, $T$ $T$ happen sooner$T$ have often said, $T$anyone willing$T$ listen, that fake news $T$ “invented” $T$India long before making $T$ $T$$T$ $T$ shores$T$ that other great democracy$T$National elections $T$ scheduled $T$ $T$ 2019, $T$ $T$ happen sooner$T$ have often said, $T$anyone willing$T$ listen, that fake news $T$ “invented” $T$India long before making $T$ $T$$T$ $T$ shores$T$ that other great democracy.\n",
      "ellipsis => $T$India, $T$$T$ date $T$ event$T$ $T$ surprisingly large $T$$T$ $T$ Narendra Modi $T$ $T$$T$ $T$ 2014.\n",
      "ellipsis => $T$ rationale behind fake news ($T$$T$$T$ view, $T$ more important first cousin, fake analysis) $T$$T$create$T$political atmosphere helpful$T$ $T$ (weak) challenger.\n",
      "ellipsis => Conventional wisdom says that $T$ challenger$T$$T$ trouble$T$, change $T$ basis$T$ this wisdom—provide facts “alternate” $T$$T$ prevailing reality.\n",
      "ellipsis => Indeed, $T$ father$T$ fake news/analysis $T$ Goebbels, $T$ reasoned that$T$ $T$ incessantly repeat$T$$T$, $T$ $T$ will become “reality$T$With $T$ explosion$T$ social media, $T$ instrument, $T$ practice, $T$ changed over $T$ years.\n",
      "ellipsis => $T$ $T$ reality$T$ $T$ same—change people$T$perceptions$T$ $T$ mantra.\n",
      "ellipsis => This$T$ what $T$ been happening over $T$ last $T$ years$T$ India, $T$$T$ $T$ reaching$T$crescendo because national elections $T$ approaching.\n",
      "ellipsis => There$T$$T$$T$$T$ subtle attempt$T$ Modi$T$political opponents$T$ create$T$chorus around both $T$ political $T$ economic reality.\n",
      "ellipsis => $T$ emphasis around $T$ word chorus$T$ important; just $T$ person saying $T$ alternate reality$T$ inconsequential, several emphasising $T$ alternate reality ($T$$T$, Facebook, WhatsApp$T$$T$ create$T$flood, $T$ possibly change reality$T$ provide some evidence below—$T$ reader $T$ make $T$ $T$ judgments about whether more proof$T$ needed!\n",
      "ellipsis => Politics: $T$ evidence$T$ considered overwhelming.\n",
      "ellipsis => $T$ lost$T$ $T$ $T$ Sabha (LS) $T$polls$T$ Rajasthan, $T$ $T$$T$$T$$T$large margin.\n",
      "ellipsis => This $T$ followed$T$$T$$T$ important$T$$T$-poll victory, $T$ $T$ Samajwadi Party candidate, supported$T$ Mayawati, $T$Uttar Pradesh$T$Gorakhpur seat that $T$ vacated$T$ chief minister Yogi Adityanath.\n",
      "ellipsis => $T$$T$ this $T$ fact that$T$$T$confidence motion$T$ being introduced, $T$$T$ have confirmation that Modi$T$$T$$T$$T$ danger$T$ obtaining less than $T$ seats$T$ $T$ next general election.\n",
      "ellipsis => Remember also $T$ fact that $T$ $T$ before counting$T$ $T$ 2014, $T$ conventional wisdom, often championed$T$ $T$ same commentators$T$ today, $T$ that $T$ election would result$T$$T$hung parliament.\n",
      "ellipsis => $T$ story cannot have $T$ ambiguity.\n",
      "ellipsis => $T$ opinionatti fail$T$ mention that over $T$ course$T$ $T$ last four years, $T$ $T$ ($T$$T$ $T$ allies) $T$ continued$T$ $T$ $T$ elections$T$ $T$ contested barring Delhi $T$ Bihar.\n",
      "ellipsis => $T$ $T$ $T$ $T$ allies $T$ rule$T$$T$$T$ $T$$T$ states$T$ India$T$ record $T$ $T$ ruling coalition$T$ India$T$$T$year democratic history$T$India became$T$Republic with $T$ adoption$T$$T$Constitution$T$ January$T$, 1950$T$$T$ previous record $T$$T$ states held$T$ $T$ Congress, under Indira Gandhi.\n",
      "ellipsis => $T$ “liberal elite” would have$T$ believe that because$T$ Mayawati $T$ Akhilesh Yadav getting together $T$ $T$$T$-poll$T$$T$, that electorally $T$ $T$$T$$T$ danger$T$ losing control.\n",
      "ellipsis => $T$$T$ $T$ days later, $T$ same electoral combine fails$T$ $T$$T$Rajya Sabha seat—because$T$$T$ legislator walked over$T$ $T$ $T$ side!\n",
      "ellipsis => This$T$ $T$ considered important.\n",
      "ellipsis => $T$ considered relevant$T$ $T$ chorus byline$T$ $T$ $T$ victory$T$ Tripura $T$ $T$ rule (with allies) $T$Meghalaya $T$ Nagaland.\n",
      "ellipsis => Would $T$ member$T$ $T$ elite have considered this even possible just$T$year $T$?\n",
      "ellipsis => Also, Congress experts point $T$ that $T$ $T$ went$T$$T$ face horrific defeat$T$ $T$ Rajasthan$T$-polls.\n",
      "ellipsis => $T$, $T$neighbouring Madhya Pradesh, $T$Congress$T$$ Jyotiraditya Scindia$T$$T$ backyard, $T$ Congress $T$$T$ just$T$$T$ votes$T$ Mungaoli versus$T$victory margin$T$$T$,$T$ votes$T$ $T$ 2013 state election.\n",
      "ellipsis => Politics$T$ uncertain, $T$$T$ reasonable women $T$ disagree.\n",
      "ellipsis => Economics$T$ more certain, $T$ this $T$$T$stopping $T$ chorus from claiming that $T$ reason Modi$T$$T$ trouble$T$ because economic conditions $T$$T$ better, $T$ possibly worse, than 2014.Some claim that$T$ $T$ promised large scale privatisation$T$ $T$ economy.\n",
      "ellipsis => Since that hasn$T$happened, Modi $T$ failed.\n",
      "ellipsis => $T$ $T$ India$T$ being privatised, again $T$ thought conceivable, $T$ alone possible.\n",
      "ellipsis => Some difference surely from $T$ inglorious past?\n",
      "ellipsis => Corruption same$T$ before?\n",
      "ellipsis => Just look$T$ $T$ $T$ scam.\n",
      "ellipsis => $T$ that started$T$ $T$ scam-scam years$T$ $T$ $T$.\n",
      "ellipsis => That doesn$T$negate $T$ fact that$T$ continued under Modi.\n",
      "ellipsis => $T$ what$T$ $T$ $T$ takes $T$ bold ($T$ sensible) decision$T$ $T$$T$ $T$ root cause$T$ banking scams—begin$T$ unravel Indira Gandhi$T$decision$T$ nationalise $T$ banks—$T$ $T$ creation$T$ large-scale corruption?\n",
      "ellipsis => $T$matter what criteria (fiction) $T$cooked$T$, $T$ fact remains that corruption$T$ $T$ highest levels $T$ been radically reduced—$T$ there seems$T$$T$$T$ urgency$T$ solve $T$ problem.\n",
      "ellipsis => Jobs: $T$ ...\n",
      "gramophone record => The BJP and its allies now rule in 22 of the 29 states in India, a $T$ for any ruling coalition in India’s 68-year democratic history.\n",
      "gramophone record => The previous $T$ was 18 states held by the Congress, under Indira Gandhi.\n",
      "China’s president Xi Jinping has a successor—himself. With this, Xi has re-stated the old dictum—now, political mandate is the basis of the economic mandate.. China’s president Xi Jinping has a successor—himself. With this, Xi has re-stated the old dictum—now, political mandate is the basis of the economic mandate. The reactions to China’s recent constitutional amendments scrapping the two-term limit for the President (and Vice-President), ensconcing ‘Xi Jinping Thought on Socialism with Chinese Characteristics for a New Era’ as fundamental law and the ‘leadership of the Communist Party of China as the defining feature of socialism with Chinese characteristics,’ have ranged from mockery to disbelief to indifference. Chinese netizens showed their teeth, briefly. On the heels of the announcement, China’s netizens had a field day with clever puns and memes lampooning the decision. One social media image said something to the effect, ‘find the thing you love, and stick with it.’ Another rephrased a birth control advertisement saying that ‘twice is not enough’. All these came to an end when China’s sophisticated surveillance apparatus of ‘Little Pinks,’ (self-proclaimed patriots), ‘50 cent army’ (netizens on the Communist Party’s payroll) and clampdown on China’s microblogs took over with a ban on suggestive words and phrases such as ‘ascend’ and ‘Xi Zedong.’ But, many on the street, mostly the younger generation, continue to be appalled by the decision. “I’m worried, because if the Constitution could be easily changed, anything else can,” said a young corporate to this author. But, many of China’s laobaixing (China’s common man), much like India’s common man, couldn’t care less. “What matters to me is my daily bread and butter, not politics,” said another, shrugging his shoulders. In the last hundred years, China’s political trajectory has undergone shifts —from Qing dynasty to the nationalists (1921), to the communist revolution (1949). Famously, despite their changing dispositions, these political shifts have unanimously claimed the Chinese Mencian (later Confucian) concept of the ‘mandate of heaven’ (tian ming) or ‘legitimacy to rule.’ China’s rulers, emperors to the ‘new emperors’ (the Communists) have sought refuge in ‘divine rights’ to promise of ‘dictatorship of the proletariat’ to recently, economic moorings. All claim legitimacy because of the pursuit of China’s greater good—the goals of ‘fu’ (rich) and ‘qiang’ (strong), the magic words in China’s political lexicon. China’s Mao Zedong (1949-1976) interpreted the same by centralisation and extolling people to ‘eat bitterness’ for the sake of a better tomorrow—resulting in land reforms, birth control, uptick in literacy and control of common diseases. Mao’s successor, Deng Xiaoping (1904-1997) interpreted the same by distancing from the Maoist legacy of political repression. Deng moved with the times, loosening the state grip on citizens, marking the ‘retreat of the state.’ Deng’s logic was that a small measure of political liberalism and a largesse of economic reforms would lift all boats. Deng’s legacy evolved over the years with improvisations, additions into a norm, thus, establishing ‘quasi-formal’ political institutionalisation, largely in operation today. Xi has turned a new page, with Xi’s current model interpreting legitimacy in a new manner, in the ‘new era’. This may have been done at the cost of Deng’s prized legacy, which is rather ironical, given that China will be celebrating 40 years of Deng’s economic reforms and 40 years of smooth transition of power, both no mean feats, this year (1978-2018). Xi’s current model is a peculiar mix that incorporates both Mao and Deng. Called by observers as ‘Neo-Authoritarianism 2.0,’ it is best described as an ‘enhanced Deng Xiaoping model’ of ‘Mao measures’ (politically repressive, including the making of a personality cult) walking on the ‘Deng road’ (economically progressive) with ambitious economic goals. As for the Xi in the political mould of Mao—centralisation has taken the form of institutional titles that Xi has taken upon himself. TIME (2016) called Xi, ‘Chairman Xi’, attributing the same to a personality-cult-in-the-making. Much in the manner of Mao’s ‘red book’, Xi’s ‘blue book’ is doing rounds. Xi has a fan club (‘Learning from the Xi Fan Club’ with more than 2 million members). A series of articles by Zhexin (the penname of Xi) is being actively promoted. And, songs that eulogise Xi, including one that says, ‘Grandfather Xi is our Friend’, are reverberating in small towns. Xi is also China’s new ‘Uncle’—‘Xi Dada’ casting him as an accessible, benign patriarch. The rationale for Xi’s strong leadership is attributed to China’s bureaucratic and administrative delays and China’s peculiar vertical and horizontal lines of control (tiao and kuai, top-down and local), which may scuttle economic goals. China has not been able to ‘protect 7’ — 7% growth, and has shifted to a ‘new normal’ of slower, but ...\n",
      "mold => As for the Xi in the political $T$ of Mao—centralisation has taken the form of institutional titles that Xi has taken upon himself.\n",
      "cult of personality => Called by observers as ‘Neo-Authoritarianism 2.0,’ it is best described as an ‘enhanced Deng Xiaoping model’ of ‘Mao measures’ (politically repressive, including the making of a $T$) walking on the ‘Deng road’ (economically progressive) with ambitious economic goals.\n",
      "People's Republic of China => $T$’s president Xi Jinping has a successor—himself.\n",
      "People's Republic of China => With this, Xi has re-stated the old dictum—now, political mandate is the basis of the economic mandate.. $T$’s president Xi Jinping has a successor—himself.\n",
      "People's Republic of China => The reactions to $T$’s recent constitutional amendments scrapping the two-term limit for the President (and Vice-President), ensconcing ‘Xi Jinping Thought on Socialism with Chinese Characteristics for a New Era’ as fundamental law and the ‘leadership of the Communist Party of $T$ as the defining feature of socialism with Chinese characteristics,’ have ranged from mockery to disbelief to indifference.\n",
      "People's Republic of China => On the heels of the announcement, $T$’s netizens had a field day with clever puns and memes lampooning the decision.\n",
      "People's Republic of China => All these came to an end when $T$’s sophisticated surveillance apparatus of ‘Little Pinks,’ (self-proclaimed patriots), ‘50 cent army’ (netizens on the Communist Party’s payroll) and clampdown on $T$’s microblogs took over with a ban on suggestive words and phrases such as ‘ascend’ and ‘Xi Zedong.’ But, many on the street, mostly the younger generation, continue to be appalled by the decision.\n",
      "People's Republic of China => But, many of $T$’s laobaixing ($T$’s common man), much like India’s common man, couldn’t care less.\n",
      "People's Republic of China => In the last hundred years, $T$’s political trajectory has undergone shifts —from Qing dynasty to the nationalists (1921), to the communist revolution (1949).\n",
      "People's Republic of China => Famously, despite their changing dispositions, these political shifts have unanimously claimed the Chinese Mencian (later Confucian) concept of the ‘mandate of heaven’ (tian ming) or ‘legitimacy to rule.’ $T$’s rulers, emperors to the ‘new emperors’ (the Communists) have sought refuge in ‘divine rights’ to promise of ‘dictatorship of the proletariat’ to recently, economic moorings.\n",
      "People's Republic of China => All claim legitimacy because of the pursuit of $T$’s greater good—the goals of ‘fu’ (rich) and ‘qiang’ (strong), the magic words in $T$’s political lexicon.\n",
      "People's Republic of China => $T$’s Mao Zedong (1949-1976) interpreted the same by centralisation and extolling people to ‘eat bitterness’ for the sake of a better tomorrow—resulting in land reforms, birth control, uptick in literacy and control of common diseases.\n",
      "People's Republic of China => This may have been done at the cost of Deng’s prized legacy, which is rather ironical, given that $T$ will be celebrating 40 years of Deng’s economic reforms and 40 years of smooth transition of power, both no mean feats, this year (1978-2018).\n",
      "People's Republic of China => Xi is also $T$’s new ‘Uncle’—‘Xi Dada’ casting him as an accessible, benign patriarch.\n",
      "People's Republic of China => The rationale for Xi’s strong leadership is attributed to $T$’s bureaucratic and administrative delays and $T$’s peculiar vertical and horizontal lines of control (tiao and kuai, top-down and local), which may scuttle economic goals.\n",
      "People's Republic of China => $T$ has not been able to ‘protect 7’ — 7% growth, and has shifted to a ‘new normal’ of slower, but ...\n",
      "spiritual retreat => Deng moved with the times, loosening the state grip on citizens, marking the ‘$T$ of the state.’ Deng’s logic was that a small measure of political liberalism and a largesse of economic reforms would lift all boats.\n",
      "unbelief => The reactions to China’s recent constitutional amendments scrapping the two-term limit for the President (and Vice-President), ensconcing ‘Xi Jinping Thought on Socialism with Chinese Characteristics for a New Era’ as fundamental law and the ‘leadership of the Communist Party of China as the defining feature of socialism with Chinese characteristics,’ have ranged from mockery to $T$ to indifference.\n",
      "apathy => The reactions to China’s recent constitutional amendments scrapping the two-term limit for the President (and Vice-President), ensconcing ‘Xi Jinping Thought on Socialism with Chinese Characteristics for a New Era’ as fundamental law and the ‘leadership of the Communist Party of China as the defining feature of socialism with Chinese characteristics,’ have ranged from mockery to disbelief to $T$.\n",
      "electric current => Xi has turned a new page, with Xi’s $T$ model interpreting legitimacy in a new manner, in the ‘new era’.\n",
      "electric current => Xi’s $T$ model is a peculiar mix that incorporates both Mao and Deng.\n",
      "entity => One social media image said $T$ to the effect, ‘find the $T$ you love, and stick with it.’ Another rephrased a birth control advertisement saying that ‘twice is not enough’.\n",
      "bequest => Mao’s successor, Deng Xiaoping (1904-1997) interpreted the same by distancing from the Maoist $T$ of political repression.\n",
      "bequest => Deng’s $T$ evolved over the years with improvisations, additions into a norm, thus, establishing ‘quasi-formal’ political institutionalisation, largely in operation today.\n",
      "bequest => This may have been done at the cost of Deng’s prized $T$, which is rather ironical, given that China will be celebrating 40 years of Deng’s economic reforms and 40 years of smooth transition of power, both no mean feats, this year (1978-2018).\n",
      "vertical direction => The rationale for Xi’s strong leadership is attributed to China’s bureaucratic and administrative delays and China’s peculiar $T$ and horizontal lines of control (tiao and kuai, top-down and local), which may scuttle economic goals.\n",
      "horizontal direction => The rationale for Xi’s strong leadership is attributed to China’s bureaucratic and administrative delays and China’s peculiar vertical and $T$ lines of control (tiao and kuai, top-down and local), which may scuttle economic goals.\n",
      "Sports day => On the heels of the announcement, China’s netizens had a $T$ with clever puns and memes lampooning the decision.\n",
      "India => Famously, despite their changing dispositions, these political shifts have unanimously claimed the Chinese Mencian (later Confucian) concept of the ‘mandate of heaven’ (tian ming) or ‘legitimacy to rule.’ China’s rulers, emperors to the ‘new emperors’ (the Communists) have sought refuge $T$ ‘divine rights’ to promise of ‘dictatorship of the proletariat’ to recently, economic moorings.\n",
      "India => All claim legitimacy because of the pursuit of China’s greater good—the goals of ‘fu’ (rich) and ‘qiang’ (strong), the magic words $T$ China’s political lexicon.\n",
      "India => China’s Mao Zedong (1949-1976) interpreted the same by centralisation and extolling people to ‘eat bitterness’ for the sake of a better tomorrow—resulting $T$ land reforms, birth control, uptick $T$ literacy and control of common diseases.\n",
      "India => Deng’s legacy evolved over the years with improvisations, additions into a norm, thus, establishing ‘quasi-formal’ political institutionalisation, largely $T$ operation today.\n",
      "India => Xi has turned a new page, with Xi’s current model interpreting legitimacy $T$ a new manner, $T$ the ‘new era’.\n",
      "India => As for the Xi $T$ the political mould of Mao—centralisation has taken the form of institutional titles that Xi has taken upon himself.\n",
      "India => TIME (2016) called Xi, ‘Chairman Xi’, attributing the same to a personality-cult-$T$-the-making.\n",
      "India => Much $T$ the manner of Mao’s ‘red book’, Xi’s ‘blue book’ is doing rounds.\n",
      "India => And, songs that eulogise Xi, including one that says, ‘Grandfather Xi is our Friend’, are reverberating $T$ small towns.\n",
      "concept => The reactions to China’s recent constitutional amendments scrapping the two-$T$ limit for the President (and Vice-President), ensconcing ‘Xi Jinping Thought on Socialism with Chinese Characteristics for a New Era’ as fundamental law and the ‘leadership of the Communist Party of China as the defining feature of socialism with Chinese characteristics,’ have ranged from mockery to disbelief to indifference.\n",
      "human => China’s Mao Zedong (1949-1976) interpreted the same by centralisation and extolling $T$ to ‘eat bitterness’ for the sake of a better tomorrow—resulting in land reforms, birth control, uptick in literacy and control of common diseases.\n",
      "complaint => All $T$ legitimacy because of the pursuit of China’s greater good—the goals of ‘fu’ (rich) and ‘qiang’ (strong), the magic words in China’s political lexicon.\n",
      "elevator => Deng moved with the times, loosening the state grip on citizens, marking the ‘retreat of the state.’ Deng’s logic was that a small measure of political liberalism and a largesse of economic reforms would $T$ all boats.\n",
      "Diane Lane => Xi has turned a new page, with Xi’s current $T$ interpreting legitimacy in a new manner, in the ‘new era’.\n",
      "Diane Lane => Xi’s current $T$ is a peculiar mix that incorporates both Mao and Deng.\n",
      "Diane Lane => Called by observers as ‘Neo-Authoritarianism 2.0,’ it is best described as an ‘enhanced Deng Xiaoping $T$’ of ‘Mao measures’ (politically repressive, including the making of a personality cult) walking on the ‘Deng road’ (economically progressive) with ambitious economic goals.\n",
      "shelter => Famously, despite their changing dispositions, these political shifts have unanimously claimed the Chinese Mencian (later Confucian) concept of the ‘mandate of heaven’ (tian ming) or ‘legitimacy to rule.’ China’s rulers, emperors to the ‘new emperors’ (the Communists) have sought $T$ in ‘divine rights’ to promise of ‘dictatorship of the proletariat’ to recently, economic moorings.\n",
      "Xi Jinping Thought on Socialism with Chinese Characteristics for a New Era => The reactions to China’s recent constitutional amendments scrapping the two-term limit for the President (and Vice-President), ensconcing ‘$T$ on Socialism with Chinese Characteristics for a New Era’ as fundamental law and the ‘leadership of the Communist Party of China as the defining feature of socialism with Chinese characteristics,’ have ranged from mockery to disbelief to indifference.\n",
      "Mao Zedong => China’s $T$ Zedong (1949-1976) interpreted the same by centralisation and extolling people to ‘eat bitterness’ for the sake of a better tomorrow—resulting in land reforms, birth control, uptick in literacy and control of common diseases.\n",
      "Mao Zedong => $T$’s successor, Deng Xiaoping (1904-1997) interpreted the same by distancing from the Maoist legacy of political repression.\n",
      "Mao Zedong => Xi’s current model is a peculiar mix that incorporates both $T$ and Deng.\n",
      "Mao Zedong => Called by observers as ‘Neo-Authoritarianism 2.0,’ it is best described as an ‘enhanced Deng Xiaoping model’ of ‘$T$ measures’ (politically repressive, including the making of a personality cult) walking on the ‘Deng road’ (economically progressive) with ambitious economic goals.\n",
      "Mao Zedong => As for the Xi in the political mould of $T$—centralisation has taken the form of institutional titles that Xi has taken upon himself.\n",
      "Mao Zedong => Much in the manner of $T$’s ‘red book’, Xi’s ‘blue book’ is doing rounds.\n",
      "evening dress => Deng’s legacy evolved over the years with improvisations, additions into a norm, thus, establishing ‘quasi-$T$’ political institutionalisation, largely in operation today.\n",
      "Five people have been arrested for allegedly misusing social media websites, police said last night. Three of them are government servants, one of them jobless and the fifth suspect a private sector employee, the director general of anti-corruption, economic and electronic security at the Interior Ministry said.\n",
      "human => Five $T$ have been arrested for allegedly misusing social media websites, police said last night.\n",
      "Home &gt;&gt; General News &gt;&gt; BISP, Uber Pakistan ink MoU for provision of 100 vehicles, rickshaws for BISP beneficiaries. ISLAMABAD: Benazir Income Support Programme (BISP) has signed an understanding with Uber Pakistan for creation of a large-scale economic opportunity program for BISP beneficiaries. A pilot project comprising of 100 BISP beneficiaries will be launched in Karachi, Lahore Rawalpindi and Islamabad with 25 beneficiaries from each city. The understanding focuses on creation of economic opportunities for women beneficiaries by providing them electronic/hybrid vehicles and CNG rickshaws by Uber Pakistan. The main focus of the partnership will be kept on inclusion of women beneficiary drivers in the programme for women empowerment. The vehicles will be supplied without any down payment and it will include interest free loan with target instalment of Rs 8,000 monthly for five years repayment for BISP Beneficiaries. Similarly, for rickshaws, interest free loan with target instalment of Rs 5,000-8,000 monthly, for five years repayment for BISP Beneficiaries. Secretary BISP Omar Hamid Khan stated that he was particularly excited about this MoU as this will take forward BISP beneficiaries in terms of technology as well as women empowerment. It will consist of asset transfer of Rickshaws and Vehicles on zero collateral & zero interest and easy instalments to selected beneficiaries. This partnership will help women entrepreneurs acquire requisite skills for driving and complete associated licensing requirements for rickshaws and other modes of transport, as well as other trainings that enhance candidates’ digital literacy, operational excellence, entrepreneurship skills, communication and customer care abilities. The MOU was signed Friday at BISP HQs in the presence of Chairperson BISP MNA Marvi Memon, Minister for State for Communications M. Junaid Anwar Chaudhary and Minister of State for Industries and Production Sardar Arshad Khan Leghri. Chairperson BISP MNA Marvi Memon termed it as follow-up of meeting between Prime Minister Shahid Khaqan Abbasi and Dara Khowsroshahi, CEO of Uber Technologies Inc. at the World Economic Forum (WEF) in Davos in January 2018. She said that it is an important initiative as BISP has credible data of most vulnerable women in the society who could be provided respectable earning opportunities through this. Ms. Memon further said, “The safety, security and dignity of BISP beneficiaries are most important to us.” She hoped that the partnership would help BISP beneficiaries exit the poverty trap. Speaking on the occasion, Chaudhary termed it as a unique and innovative partnership while congratulating the management of BISP. He said that, “It will be a game changer for rickshaw and taxi services in Pakistan.” He further added that the partnership should be replicated in other smaller cities, if it is successful in the major cities. The minister also offered the driver’s learning and licensing by Motorway Police to the beneficiaries of this partnership. Under this partnership, a pilot project will be conducted to test run the potential of Uber for benefit of BISP beneficiaries. Speaking on the occasion, General Manager of UBER in Pakistan, Safee Shah said: “Uber is working closely with the BISP to develop a framework for on-demand transportation technology aggregator services that will drive economic opportunities for women in Pakistan. We see BISP as a crucial partner in providing such opportunities and a key government entity in driving the sustainable economic empowerment model in Pakistan.” It will also include training of selected beneficiaries regarding road safety, security, health, nutrition etc. by tagging in different training agencies with the BISP beneficiaries targeted by the programme, said a press release. This partnership recognizes that the adoption of technology by marginalized & low income groups, specifically women, who are beneficiaries of the BISP programme, will help alleviate poverty and provide sustainable economic opportunities.\n",
      "focus => The understanding $T$ on creation of economic opportunities for women beneficiaries by providing them electronic/hybrid vehicles and CNG rickshaws by Uber Pakistan.\n",
      "software framework => Speaking on the occasion, General Manager of UBER in Pakistan, Safee Shah said: “Uber is working closely with the BISP to develop a $T$ for on-demand transportation technology aggregator services that will drive economic opportunities for women in Pakistan.\n",
      "menstruation => The vehicles will be supplied without any down payment and it will include interest free loan with target instalment of Rs 8,000 $T$ for five years repayment for BISP Beneficiaries.\n",
      "menstruation => Similarly, for rickshaws, interest free loan with target instalment of Rs 5,000-8,000 $T$, for five years repayment for BISP Beneficiaries.\n",
      "partnership => We see BISP as a crucial $T$ in providing such opportunities and a key government entity in driving the sustainable economic empowerment model in Pakistan.” It will also include training of selected beneficiaries regarding road safety, security, health, nutrition etc.\n",
      "chief executive officer => Chairperson BISP MNA Marvi Memon termed it as follow-up of meeting between Prime Minister Shahid Khaqan Abbasi and Dara Khowsroshahi, $T$ of Uber Technologies Inc. at the World Economic Forum (WEF) in Davos in January 2018.\n",
      "transport => Speaking on the occasion, General Manager of UBER in Pakistan, Safee Shah said: “Uber is working closely with the BISP to develop a framework for on-demand $T$ technology aggregator services that will drive economic opportunities for women in Pakistan.\n",
      "computer program => ISLAMABAD: Benazir Income Support Programme (BISP) has signed an understanding with Uber Pakistan for creation of a large-scale economic opportunity $T$ for BISP beneficiaries.\n",
      "computer program => The main focus of the partnership will be kept on inclusion of women beneficiary drivers in the $T$ for women empowerment.\n",
      "computer program => by tagging in different training agencies with the BISP beneficiaries targeted by the $T$, said a press release.\n",
      "computer program => This partnership recognizes that the adoption of technology by marginalized & low income groups, specifically women, who are beneficiaries of the BISP $T$, will help alleviate poverty and provide sustainable economic opportunities.\n",
      "World Economic Forum => Chairperson BISP MNA Marvi Memon termed it as follow-up of meeting between Prime Minister Shahid Khaqan Abbasi and Dara Khowsroshahi, CEO of Uber Technologies Inc. at the World Economic Forum ($T$) in Davos in January 2018.\n",
      "device driver => The minister also offered the $T$’s learning and licensing by Motorway Police to the beneficiaries of this partnership.\n",
      "target market => The vehicles will be supplied without any down payment and it will include interest free loan with $T$ instalment of Rs 8,000 monthly for five years repayment for BISP Beneficiaries.\n",
      "target market => Similarly, for rickshaws, interest free loan with $T$ instalment of Rs 5,000-8,000 monthly, for five years repayment for BISP Beneficiaries.\n",
      "road traffic safety => We see BISP as a crucial partner in providing such opportunities and a key government entity in driving the sustainable economic empowerment model in Pakistan.” It will also include training of selected beneficiaries regarding $T$, security, health, nutrition etc.\n",
      "compressed natural gas => The understanding focuses on creation of economic opportunities for women beneficiaries by providing them electronic/hybrid vehicles and $T$ rickshaws by Uber Pakistan.\n",
      "New Hampshire regulators have issued a written ruling denying a power project over concerns it would harm tourism and property values.. The ruling Friday by the Site Evaluation Committee came two days after Massachusetts abandoned plans to get its clean energy from the $1.6 billion Northern Pass project, which would take hydropower from Canada and transmit it across New Hampshire. Energy company Eversource says it remains committed to the project despite the Massachusetts decision. It has requested a rehearing at the Site Evaluation Committee, which is expected as early as May. The committee in its written decision acknowledges Northern Pass offers economic benefits but says they aren't enough to overcome concerns about negative impacts to communities along the project's path.\n",
      "information transfer => The ruling Friday by the Site Evaluation Committee came two days after Massachusetts abandoned plans to get its clean energy from the $1.6 billion Northern Pass project, which would take hydropower from Canada and $T$ it across New Hampshire.\n",
      "The Environmental Protection Agency is considering a rollback of emissions regulations and fuel economy standards put in place during the Obama Administration, the New York Times reported Thursday.. Measures requiring auto makers to achieve an average fleet fuel efficiency of 50 miles per gallon by 2025 were created to reduce emissions that cause climate change, but car companies have protested them for years. In late February 2017, the Alliance of Automobile Manufacturers, which represents General Motors, Toyota, Volkswagen, and nine other automakers, sent a letter to EPA head Scott Pruitt calling the fuel efficiency rules “the product of egregious procedural and substantive defects” that are “riddled with indefensible assumptions, inadequate analysis and a failure to engage with contrary evidence.” In March 2017, the Trump Administration ordered a review of the Obama-era regulations. Pruitt has already submitted a 16-page plan to the White House for approval, according to an EPA spokeswoman. He is expected to frame the deregulation as a move that will make larger vehicles, like trucks, vans, and sport utility vehicles, more affordable, say people familiar with the plan. This poses a solution to a problem that doesn’t seem to exist, since trucks and SUVs are routinely top-selling vehicles in the U.S., with the mid-size SUVs and pickup trucks accounting for 55% of all vehicle sales in 2017, according to Kelly Blue Book. The Ford F-series was the best-selling vehicle in the world last year, and has been the top-seller in the U.S. for more than 30 years. It’s a move that could actually damage the auto industry. “Rolling back fuel-efficiency and emissions targets would make zero sense economically for anyone but oil companies,” says David Richardson, the executive director of business development at Impax Asset Management. “In fact, it would set back American car companies and those working for them because the global automotive market is moving the opposite direction, away from gas guzzlers and toward cleaner, more efficient cars and associated technology.” Component suppliers would also take a hit. These companies employ twice as many Americans as the automakers they service and contribute nearly 2.4% of U.S. GDP. Weakened standards could cause losses of $3.3 billion a year between 2022 and 2025 due to lost sales of fuel-efficient technologies, according to analysis by Ceres, a sustainability nonprofit organization. The rollback of Obama-era EPA regulations will set off yet another legal standoff between the federal government and the state of California. California, which is already engaged in more than 25 court battles with the Trump Administration over issues including immigration, the 2020 census, transgender military service, healthcare, and environmental concerns, will sue to maintain the fuel efficiency standards the state has created. California has a special waiver that allows it to impose stricter air pollution standards under the 1970 Clean Air Act. This could lead to two separate sets of regulations — one for California and the 12 other states that will follow suit in challenging the EPA’s decision and one for the rest of the country — and therefore two separate markets of car buyers. Economists and climate change scientists have said that even the fuel efficiency standards currently in place at the EPA are not effective enough. “The current fuel economy standards do not create much incentive for people to move to smaller vehicles,”Lucas Davis, a professor of economic analysis at UC Berkeley told Fortune. “That’s a real limitation of the way the current fuel economy standards work.”\n",
      "country music => This could lead to two separate sets of regulations — one for California and the 12 other states that will follow suit in challenging the EPA’s decision and one for the rest of the $T$ — and therefore two separate markets of car buyers.\n",
      "noun => In late February 2017, the Alliance of Automobile Manufacturers, which represents General Motors, Toyota, Volkswagen, and nine other automakers, sent a letter to EPA head Scott Pruitt calling the fuel efficiency rules “the product of egregious procedural and $T$ defects” that are “riddled with indefensible assumptions, inadequate analysis and a failure to engage with contrary evidence.” In March 2017, the Trump Administration ordered a review of the Obama-era regulations.\n",
      "electric current => “The $T$ fuel economy standards do not create much incentive for people to move to smaller vehicles,”Lucas Davis, a professor of economic analysis at UC Berkeley told Fortune.\n",
      "electric current => “That’s a real limitation of the way the $T$ fuel economy standards work.”\n",
      "United States Environmental Protection Agency => In late February 2017, the Alliance of Automobile Manufacturers, which represents General Motors, Toyota, Volkswagen, and nine other automakers, sent a letter to $T$ head Scott Pruitt calling the fuel efficiency rules “the product of egregious procedural and substantive defects” that are “riddled with indefensible assumptions, inadequate analysis and a failure to engage with contrary evidence.” In March 2017, the Trump Administration ordered a review of the Obama-era regulations.\n",
      "United States Environmental Protection Agency => Pruitt has already submitted a 16-page plan to the White House for approval, according to an $T$ spokeswoman.\n",
      "United States Environmental Protection Agency => The rollback of Obama-era $T$ regulations will set off yet another legal standoff between the federal government and the state of California.\n",
      "United States Environmental Protection Agency => This could lead to two separate sets of regulations — one for California and the 12 other states that will follow suit in challenging the $T$’s decision and one for the rest of the country — and therefore two separate markets of car buyers.\n",
      "United States Environmental Protection Agency => Economists and climate change scientists have said that even the fuel efficiency standards currently in place at the $T$ are not effective enough.\n",
      "spokesperson => Pruitt has already submitted a 16-page plan to the White House for approval, according to an EPA $T$.\n",
      "efficiency => The Environmental Protection Agency is considering a rollback of emissions regulations and fuel $T$ standards put in place during the Obama Administration, the New York Times reported Thursday..\n",
      "efficiency => “In fact, it would set back American car companies and those working for them because the global automotive market is moving the opposite direction, away from gas guzzlers and toward cleaner, more $T$ cars and associated technology.” Component suppliers would also take a hit.\n",
      "efficiency => Weakened standards could cause losses of $3.3 billion a year between 2022 and 2025 due to lost sales of fuel-$T$ technologies, according to analysis by Ceres, a sustainability nonprofit organization.\n",
      "efficiency => “The current fuel $T$ standards do not create much incentive for people to move to smaller vehicles,”Lucas Davis, a professor of economic analysis at UC Berkeley told Fortune.\n",
      "efficiency => “That’s a real limitation of the way the current fuel $T$ standards work.”\n",
      "Barack Obama => The Environmental Protection Agency is considering a rollback of emissions regulations and fuel economy standards put in place during the $T$ Administration, the New York Times reported Thursday..\n",
      "Barack Obama => In late February 2017, the Alliance of Automobile Manufacturers, which represents General Motors, Toyota, Volkswagen, and nine other automakers, sent a letter to EPA head Scott Pruitt calling the fuel efficiency rules “the product of egregious procedural and substantive defects” that are “riddled with indefensible assumptions, inadequate analysis and a failure to engage with contrary evidence.” In March 2017, the Trump Administration ordered a review of the $T$-era regulations.\n",
      "Barack Obama => The rollback of $T$-era EPA regulations will set off yet another legal standoff between the federal government and the state of California.\n",
      "transgender person => California, which is already engaged in more than 25 court battles with the Trump Administration over issues including immigration, the 2020 census, $T$ military service, healthcare, and environmental concerns, will sue to maintain the fuel efficiency standards the state has created.\n",
      "health care => California, which is already engaged in more than 25 court battles with the Trump Administration over issues including immigration, the 2020 census, transgender military service, $T$, and environmental concerns, will sue to maintain the fuel efficiency standards the state has created.\n",
      "gross domestic product => These companies employ twice as many Americans as the automakers they service and contribute nearly 2.4% of U.S. $T$.\n",
      "mean => Measures requiring auto makers to achieve an $T$ fleet fuel efficiency of 50 miles per gallon by 2025 were created to reduce emissions that cause climate change, but car companies have protested them for years.\n",
      "human => He is expected to frame the deregulation as a move that will make larger vehicles, like trucks, vans, and sport utility vehicles, more affordable, say $T$ familiar with the plan.\n",
      "human => “The current fuel economy standards do not create much incentive for $T$ to move to smaller vehicles,”Lucas Davis, a professor of economic analysis at UC Berkeley told Fortune.\n",
      "New York City => The Environmental Protection Agency is considering a rollback of emissions regulations and fuel economy standards put in place during the Obama Administration, the $T$ Times reported Thursday..\n",
      "consent => Pruitt has already submitted a 16-page plan to the White House for $T$, according to an EPA spokeswoman.\n",
      "University of California, Berkeley => “The current fuel economy standards do not create much incentive for people to move to smaller vehicles,”Lucas Davis, a professor of economic analysis at UC $T$ told Fortune.\n",
      "United States of America => Pruitt has already submitted a 16-page plan to the $T$ for approval, according to an EPA spokeswoman.\n",
      "existential quantification => This poses a solution to a problem that doesn’t seem to $T$, since trucks and SUVs are routinely top-selling vehicles in the U.S., with the mid-size SUVs and pickup trucks accounting for 55% of all vehicle sales in 2017, according to Kelly Blue Book.\n"
     ]
    }
   ],
   "source": [
    "for i in range(40,50):\n",
    "    _t = texts[i]['text']\n",
    "    print(_t)\n",
    "    for e in entities[i]:\n",
    "        print(\"{} => {}\".format(e[\"name\"], e[\"text\"]))"
   ]
  },
  {
   "cell_type": "code",
   "execution_count": null,
   "metadata": {},
   "outputs": [],
   "source": []
  },
  {
   "cell_type": "code",
   "execution_count": 51,
   "metadata": {},
   "outputs": [],
   "source": [
    "import spacy"
   ]
  },
  {
   "cell_type": "code",
   "execution_count": 53,
   "metadata": {},
   "outputs": [],
   "source": [
    "nlp = spacy.load(\"en_core_web_md\", disable=[\"tagger\", \"parser\", \"ner\"])"
   ]
  },
  {
   "cell_type": "code",
   "execution_count": 54,
   "metadata": {},
   "outputs": [],
   "source": [
    "s = \"hey yo what's this, a sentence? nah, can't tokenize this, I think. I'm good.\""
   ]
  },
  {
   "cell_type": "code",
   "execution_count": 55,
   "metadata": {},
   "outputs": [
    {
     "data": {
      "text/plain": [
       "hey yo what's this, a sentence? nah, can't tokenize this, I think. I'm good."
      ]
     },
     "execution_count": 55,
     "metadata": {},
     "output_type": "execute_result"
    }
   ],
   "source": [
    "nlp(s)"
   ]
  },
  {
   "cell_type": "code",
   "execution_count": 58,
   "metadata": {},
   "outputs": [
    {
     "name": "stdout",
     "output_type": "stream",
     "text": [
      "0\n",
      "1\n",
      "0\n",
      "0\n",
      "0\n",
      "0\n",
      "0\n",
      "0\n",
      "0\n",
      "0\n",
      "0\n",
      "0\n",
      "0\n",
      "0\n",
      "0\n",
      "0\n",
      "0\n",
      "0\n",
      "0\n",
      "0\n",
      "0\n",
      "0\n",
      "0\n"
     ]
    }
   ],
   "source": [
    "for i in nlp(s):\n",
    "    print(i.text.count(\"yo\"))"
   ]
  },
  {
   "cell_type": "code",
   "execution_count": 85,
   "metadata": {},
   "outputs": [
    {
     "name": "stdout",
     "output_type": "stream",
     "text": [
      "['$T$-era', 'regulations', 'were', 'great.', '$T$s', 'did', 'amazing.']\n",
      "replace $T$-era\n",
      "replace $T$s\n",
      "$T$-era\n",
      "$T$s\n"
     ]
    }
   ],
   "source": [
    "asdf = \"$T$-era regulations were great. $T$s did amazing.\"\n",
    "print(asdf.split())\n",
    "to_replace = []\n",
    "for asd in asdf.split():\n",
    "    if \"$T$\" in asd:\n",
    "        print(\"replace\", asd)\n",
    "        to_replace.append(asd)\n",
    "        \n",
    "for tr in to_replace:\n",
    "    print(tr)\n",
    "    asdf = asdf.replace(tr, \"$T$\")"
   ]
  },
  {
   "cell_type": "code",
   "execution_count": 86,
   "metadata": {},
   "outputs": [
    {
     "data": {
      "text/plain": [
       "'$T$ regulations were great. $T$ did amazing.'"
      ]
     },
     "execution_count": 86,
     "metadata": {},
     "output_type": "execute_result"
    }
   ],
   "source": [
    "asdf"
   ]
  },
  {
   "cell_type": "code",
   "execution_count": 3,
   "metadata": {},
   "outputs": [
    {
     "name": "stdout",
     "output_type": "stream",
     "text": [
      "Init vader\n",
      "Init DistilBERT SST-2\n"
     ]
    },
    {
     "data": {
      "application/vnd.jupyter.widget-view+json": {
       "model_id": "207f731d100c4b048bdd37bb51d6ed14",
       "version_major": 2,
       "version_minor": 0
      },
      "text/plain": [
       "HBox(children=(FloatProgress(value=0.0, description='Downloading', max=230.0, style=ProgressStyle(description_…"
      ]
     },
     "metadata": {},
     "output_type": "display_data"
    },
    {
     "name": "stderr",
     "output_type": "stream",
     "text": [
      "Couldn't reach server at 'https://s3.amazonaws.com/models.huggingface.co/bert/distilbert-base-uncased-finetuned-sst-2-english-modelcard.json' to download model card file.\n",
      "Creating an empty model card.\n"
     ]
    },
    {
     "name": "stdout",
     "output_type": "stream",
     "text": [
      "\n"
     ]
    }
   ],
   "source": [
    "from SentimentClassifier import TwoStepSentimentClassifier\n",
    "\n",
    "cls = TwoStepSentimentClassifier()\n"
   ]
  },
  {
   "cell_type": "code",
   "execution_count": 4,
   "metadata": {},
   "outputs": [
    {
     "data": {
      "text/plain": [
       "[{'label': 'NEGATIVE', 'score': 0.9996226}]"
      ]
     },
     "execution_count": 4,
     "metadata": {},
     "output_type": "execute_result"
    }
   ],
   "source": [
    "cls.pipeline([\"i hate this\"])"
   ]
  },
  {
   "cell_type": "code",
   "execution_count": 10,
   "metadata": {},
   "outputs": [
    {
     "name": "stdout",
     "output_type": "stream",
     "text": [
      "Label: 0 (confidence: 1.0)\n"
     ]
    }
   ],
   "source": [
    "x = cls.neutral_score(\"i don't mind this\")\n",
    "print(x)"
   ]
  },
  {
   "cell_type": "code",
   "execution_count": 46,
   "metadata": {},
   "outputs": [
    {
     "name": "stdout",
     "output_type": "stream",
     "text": [
      "0\n",
      "0.605\n"
     ]
    },
    {
     "data": {
      "text/plain": [
       "<SentimentClassifier.SentimentLabel at 0x25b8bc82e08>"
      ]
     },
     "execution_count": 46,
     "metadata": {},
     "output_type": "execute_result"
    }
   ],
   "source": [
    "cls.label_and_confidence(\"hmm i'm not sure\")"
   ]
  },
  {
   "cell_type": "code",
   "execution_count": null,
   "metadata": {},
   "outputs": [],
   "source": []
  }
 ],
 "metadata": {
  "kernelspec": {
   "display_name": "Python 3",
   "language": "python",
   "name": "python3"
  },
  "language_info": {
   "codemirror_mode": {
    "name": "ipython",
    "version": 3
   },
   "file_extension": ".py",
   "mimetype": "text/x-python",
   "name": "python",
   "nbconvert_exporter": "python",
   "pygments_lexer": "ipython3",
   "version": "3.7.6"
  }
 },
 "nbformat": 4,
 "nbformat_minor": 4
}
