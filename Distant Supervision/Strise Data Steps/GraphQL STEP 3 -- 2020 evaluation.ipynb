{
 "cells": [
  {
   "cell_type": "code",
   "execution_count": 1,
   "metadata": {},
   "outputs": [],
   "source": [
    "import pandas as pd\n",
    "import numpy as np\n",
    "import os\n",
    "import re\n",
    "%matplotlib inline\n",
    "import matplotlib.pyplot as plt"
   ]
  },
  {
   "cell_type": "code",
   "execution_count": 2,
   "metadata": {},
   "outputs": [],
   "source": [
    "MASK = \"$T$\""
   ]
  },
  {
   "cell_type": "code",
   "execution_count": 47,
   "metadata": {},
   "outputs": [
    {
     "data": {
      "text/plain": [
       "'C:\\\\Users\\\\Tollef\\\\Documents\\\\GitHub\\\\masterNEW\\\\REPO\\\\strise\\\\STEP 2 2020'"
      ]
     },
     "execution_count": 47,
     "metadata": {},
     "output_type": "execute_result"
    }
   ],
   "source": [
    "main_folder = os.path.dirname(os.getcwd())\n",
    "path = os.path.join(main_folder, \"strise\", \"STEP 2 2020\")\n",
    "path"
   ]
  },
  {
   "cell_type": "code",
   "execution_count": 48,
   "metadata": {},
   "outputs": [
    {
     "data": {
      "text/plain": [
       "(6584, 9)"
      ]
     },
     "execution_count": 48,
     "metadata": {},
     "output_type": "execute_result"
    }
   ],
   "source": [
    "ent_df = pd.read_csv(os.path.join(path, \"entities.csv\"))\n",
    "ent_df.head()\n",
    "ent_df.shape"
   ]
  },
  {
   "cell_type": "markdown",
   "metadata": {},
   "source": [
    "## Plotting"
   ]
  },
  {
   "cell_type": "code",
   "execution_count": 49,
   "metadata": {},
   "outputs": [],
   "source": [
    "def hist_plot(df, col, bins=500):\n",
    "    _ = plt.hist(df[col], bins=bins)"
   ]
  },
  {
   "cell_type": "markdown",
   "metadata": {},
   "source": [
    "## Feature management\n",
    "\n",
    "- Text length\n",
    "- Sentiment"
   ]
  },
  {
   "cell_type": "code",
   "execution_count": 50,
   "metadata": {},
   "outputs": [],
   "source": [
    "# the DFs in the correct .xml.seg format, based around ACL14 and SemEval14\n",
    "# TEXT\n",
    "# TARGET\n",
    "# SENTIMENT\n",
    "\n",
    "def _write(f, data):\n",
    "    f.write(data)\n",
    "    f.write(\"\\n\")\n",
    "    \n",
    "def save_row(f, row):\n",
    "    text = row['text']\n",
    "    sentiment = str(row['sentiment'])\n",
    "    target = row['name']\n",
    "\n",
    "    _write(f, text)\n",
    "    _write(f, target)\n",
    "    _write(f, sentiment)\n"
   ]
  },
  {
   "cell_type": "code",
   "execution_count": 51,
   "metadata": {},
   "outputs": [],
   "source": [
    "def format_parentheses(df):\n",
    "    # this is how the sentiment models are designed to handle parentheses.\n",
    "    def replace_paren(row):\n",
    "        text = row[\"text\"]\n",
    "        text = text.replace(\"(\", \"-LRB- \")\n",
    "        text = text.replace(\")\", \" -RRB-\")\n",
    "        row[\"text\"] = text\n",
    "        return row\n",
    "    return df.apply(lambda row: replace_paren(row), axis=1)\n",
    "#ent_df = format_parentheses(ent_df)"
   ]
  },
  {
   "cell_type": "code",
   "execution_count": 52,
   "metadata": {},
   "outputs": [],
   "source": [
    "save_folder = \"STEP 3 2020\"\n",
    "save_path = os.path.join(os.getcwd(), save_folder)\n"
   ]
  },
  {
   "cell_type": "markdown",
   "metadata": {},
   "source": [
    "# Save entire files, no splitting"
   ]
  },
  {
   "cell_type": "code",
   "execution_count": 53,
   "metadata": {
    "scrolled": false
   },
   "outputs": [
    {
     "name": "stdout",
     "output_type": "stream",
     "text": [
      "business_entities.csv\n",
      "entities.csv\n",
      "politics_entities.csv\n",
      "sports_entities.csv\n",
      "tech_entities.csv\n"
     ]
    }
   ],
   "source": [
    "for topicfile in os.listdir(path):\n",
    "    \n",
    "    print(topicfile)\n",
    "    topic_path = os.path.join(path, topicfile)\n",
    "    topic_df = pd.read_csv(topic_path)\n",
    "    topic_df = format_parentheses(topic_df)\n",
    "    \n",
    "    topicname = topicfile.split(\"_\")[0]\n",
    "    \n",
    "    _path = os.path.join(save_path, \"{}_distant.litesent\".format(topicname))\n",
    "    \n",
    "    with open(_path, 'w', encoding=\"utf8\") as f:\n",
    "        [save_row(f, row) for idx, row in topic_df.iterrows()]"
   ]
  },
  {
   "cell_type": "code",
   "execution_count": null,
   "metadata": {},
   "outputs": [],
   "source": []
  }
 ],
 "metadata": {
  "kernelspec": {
   "display_name": "Python 3",
   "language": "python",
   "name": "python3"
  },
  "language_info": {
   "codemirror_mode": {
    "name": "ipython",
    "version": 3
   },
   "file_extension": ".py",
   "mimetype": "text/x-python",
   "name": "python",
   "nbconvert_exporter": "python",
   "pygments_lexer": "ipython3",
   "version": "3.7.6"
  }
 },
 "nbformat": 4,
 "nbformat_minor": 4
}
