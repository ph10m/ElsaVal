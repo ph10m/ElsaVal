{
 "cells": [
  {
   "cell_type": "code",
   "execution_count": 1,
   "metadata": {},
   "outputs": [],
   "source": [
    "import pandas as pd\n",
    "import numpy as np\n",
    "import os\n",
    "import re\n",
    "%matplotlib inline\n",
    "import matplotlib.pyplot as plt"
   ]
  },
  {
   "cell_type": "code",
   "execution_count": 2,
   "metadata": {},
   "outputs": [],
   "source": [
    "MASK = \"$T$\""
   ]
  },
  {
   "cell_type": "code",
   "execution_count": 3,
   "metadata": {},
   "outputs": [
    {
     "data": {
      "text/plain": [
       "'C:\\\\Users\\\\Tollef\\\\Documents\\\\GitHub\\\\masterNEW\\\\REPO\\\\strise\\\\STEP 2 - CSV_WITH_SENTIMENT'"
      ]
     },
     "execution_count": 3,
     "metadata": {},
     "output_type": "execute_result"
    }
   ],
   "source": [
    "main_folder = os.path.dirname(os.getcwd())\n",
    "path = os.path.join(main_folder, \"strise\", \"STEP 2 - CSV_WITH_SENTIMENT\")\n",
    "path"
   ]
  },
  {
   "cell_type": "code",
   "execution_count": 4,
   "metadata": {
    "scrolled": true
   },
   "outputs": [
    {
     "data": {
      "text/html": [
       "<div>\n",
       "<style scoped>\n",
       "    .dataframe tbody tr th:only-of-type {\n",
       "        vertical-align: middle;\n",
       "    }\n",
       "\n",
       "    .dataframe tbody tr th {\n",
       "        vertical-align: top;\n",
       "    }\n",
       "\n",
       "    .dataframe thead th {\n",
       "        text-align: right;\n",
       "    }\n",
       "</style>\n",
       "<table border=\"1\" class=\"dataframe\">\n",
       "  <thead>\n",
       "    <tr style=\"text-align: right;\">\n",
       "      <th></th>\n",
       "      <th>text</th>\n",
       "    </tr>\n",
       "    <tr>\n",
       "      <th>id</th>\n",
       "      <th></th>\n",
       "    </tr>\n",
       "  </thead>\n",
       "  <tbody>\n",
       "    <tr>\n",
       "      <th>IjdiYTA5NGY1ZTZiOTI2OTFhOWYyZjgzNzBmMzdjNWE5MzM5YjA1NjJlNWRmZWY1MmRmNjZkMzIyYzE5NzM5NTI6ZXZlbnRzLXYyX2VuXzIwMTgtMDMi</th>\n",
       "      <td>PANAMA CITY (Reuters) - Venezuelan president N...</td>\n",
       "    </tr>\n",
       "    <tr>\n",
       "      <th>IjIzNWIxZGNmMzhiNmEwMzRmM2E3NDkwMzM1ZGU5MWRlMDI4Y2Q4Y2E4MjNiZmU1OWYzY2ZkNWFkZDU4OTdlNTE6ZXZlbnRzLXYyX2VuXzIwMTgtMDMi</th>\n",
       "      <td>Actress turned conservative commentator Stacey...</td>\n",
       "    </tr>\n",
       "    <tr>\n",
       "      <th>ImM0NzZmMzlmYWFkODdlMjYyMzk5NWI1ZDUxY2Q4YjQ0ZGYyOTgyZGI5NWRkYjcyNTJhMDJiNWM5ODNlZjdiMDU6ZXZlbnRzLXYyX2VuXzIwMTgtMDMi</th>\n",
       "      <td>Going by the trend since the July launch of th...</td>\n",
       "    </tr>\n",
       "    <tr>\n",
       "      <th>IjY0NGMxOWE2NTFmMGE4YmMxMzk2ZDNiNWY5YWM5YTY0YWYyZTBhYTY4NjgxOTBkZDgyOGUzNDY2ZGZhNDU5Nzk6ZXZlbnRzLXYyX2VuXzIwMTgtMDMi</th>\n",
       "      <td>For those who recall the Watergate fiasco and ...</td>\n",
       "    </tr>\n",
       "    <tr>\n",
       "      <th>ImY3ZDU2NjRlMTViOTEwZTcxYjIzMGRkNjE4YzBlZDQzODI1NWY5MTVkODE2N2I0ZmI3YzQ0NjZiZGEwOWRmY2Q6ZXZlbnRzLXYyX2VuXzIwMTgtMDMi</th>\n",
       "      <td>URL shorteners can be both useful and fun. Goo...</td>\n",
       "    </tr>\n",
       "    <tr>\n",
       "      <th>...</th>\n",
       "      <td>...</td>\n",
       "    </tr>\n",
       "    <tr>\n",
       "      <th>IjY3YWRjYmU4MjQ2ZDYzNDNhZjVlYWFmMDdlN2U5NTc0NzZhMTZjNDE0NWRmNWEwZGRhOWIzZmQxZjYwOWVlMTY6ZXZlbnRzLXYyX2VuXzIwMjAtMDMi</th>\n",
       "      <td>The government is betraying signs of not knowi...</td>\n",
       "    </tr>\n",
       "    <tr>\n",
       "      <th>IjE2NTY0ZDEwYWQ3NzliMDRkNWU4ZmQ2YmVhNmFiZDdiYzE5MTdjYWUyZmM1MzQyOTBkMzI2YTY1MDVhOTE0NWM6ZXZlbnRzLXYyX2VuXzIwMjAtMDMi</th>\n",
       "      <td>Talk about bad timing. On Friday, March 6, 202...</td>\n",
       "    </tr>\n",
       "    <tr>\n",
       "      <th>IjY5ZWVmN2ZlMzVlOWZkOTVkMjQ2MmI5NGJhMjViMDY1NWExMjM2YjNkZDdkZThiY2NlY2Q1N2ViYmY1NTY5YmM6ZXZlbnRzLXYyX2VuXzIwMjAtMDMi</th>\n",
       "      <td>By J.J. Alan Shared in memory of Dr. Janet Gou...</td>\n",
       "    </tr>\n",
       "    <tr>\n",
       "      <th>IjVhM2VlMjgxYTY2OWY3NGU0MDI1NjU2MDFiOTIzYTI3ZjVhYWEzZTAzMTcxYzMyY2UyOGQ0YzQxNGRhYmY5Y2M6ZXZlbnRzLXYyX2VuXzIwMjAtMDMi</th>\n",
       "      <td>Howard Hughes Movie producer. Aviation innovat...</td>\n",
       "    </tr>\n",
       "    <tr>\n",
       "      <th>IjNlNjkxZmQ0OGQ4MWIwZmU0MDk3NGI4Y2JlYjA4YjEwMDhhMjAwYTA1ZjhjYzZhNmY4MGMxNGQ1OTA4ZTQ0Njc6ZXZlbnRzLXYyX2VuXzIwMjAtMDMi</th>\n",
       "      <td>Misinformation on Covid-19 is putting social m...</td>\n",
       "    </tr>\n",
       "  </tbody>\n",
       "</table>\n",
       "<p>13843 rows × 1 columns</p>\n",
       "</div>"
      ],
      "text/plain": [
       "                                                                                                 text\n",
       "id                                                                                                   \n",
       "IjdiYTA5NGY1ZTZiOTI2OTFhOWYyZjgzNzBmMzdjNWE5MzM...  PANAMA CITY (Reuters) - Venezuelan president N...\n",
       "IjIzNWIxZGNmMzhiNmEwMzRmM2E3NDkwMzM1ZGU5MWRlMDI...  Actress turned conservative commentator Stacey...\n",
       "ImM0NzZmMzlmYWFkODdlMjYyMzk5NWI1ZDUxY2Q4YjQ0ZGY...  Going by the trend since the July launch of th...\n",
       "IjY0NGMxOWE2NTFmMGE4YmMxMzk2ZDNiNWY5YWM5YTY0YWY...  For those who recall the Watergate fiasco and ...\n",
       "ImY3ZDU2NjRlMTViOTEwZTcxYjIzMGRkNjE4YzBlZDQzODI...  URL shorteners can be both useful and fun. Goo...\n",
       "...                                                                                               ...\n",
       "IjY3YWRjYmU4MjQ2ZDYzNDNhZjVlYWFmMDdlN2U5NTc0NzZ...  The government is betraying signs of not knowi...\n",
       "IjE2NTY0ZDEwYWQ3NzliMDRkNWU4ZmQ2YmVhNmFiZDdiYzE...  Talk about bad timing. On Friday, March 6, 202...\n",
       "IjY5ZWVmN2ZlMzVlOWZkOTVkMjQ2MmI5NGJhMjViMDY1NWE...  By J.J. Alan Shared in memory of Dr. Janet Gou...\n",
       "IjVhM2VlMjgxYTY2OWY3NGU0MDI1NjU2MDFiOTIzYTI3ZjV...  Howard Hughes Movie producer. Aviation innovat...\n",
       "IjNlNjkxZmQ0OGQ4MWIwZmU0MDk3NGI4Y2JlYjA4YjEwMDh...  Misinformation on Covid-19 is putting social m...\n",
       "\n",
       "[13843 rows x 1 columns]"
      ]
     },
     "execution_count": 4,
     "metadata": {},
     "output_type": "execute_result"
    }
   ],
   "source": [
    "texts = pd.read_csv(os.path.join(main_folder, \"strise\", \"STEP 1 - RAW_JSON_TO_CSV\", \"texts.csv\"), index_col=0)\n",
    "texts"
   ]
  },
  {
   "cell_type": "code",
   "execution_count": 5,
   "metadata": {},
   "outputs": [
    {
     "data": {
      "text/html": [
       "<div>\n",
       "<style scoped>\n",
       "    .dataframe tbody tr th:only-of-type {\n",
       "        vertical-align: middle;\n",
       "    }\n",
       "\n",
       "    .dataframe tbody tr th {\n",
       "        vertical-align: top;\n",
       "    }\n",
       "\n",
       "    .dataframe thead th {\n",
       "        text-align: right;\n",
       "    }\n",
       "</style>\n",
       "<table border=\"1\" class=\"dataframe\">\n",
       "  <thead>\n",
       "    <tr style=\"text-align: right;\">\n",
       "      <th></th>\n",
       "      <th>text</th>\n",
       "    </tr>\n",
       "  </thead>\n",
       "  <tbody>\n",
       "    <tr>\n",
       "      <th>count</th>\n",
       "      <td>13835</td>\n",
       "    </tr>\n",
       "    <tr>\n",
       "      <th>unique</th>\n",
       "      <td>3373</td>\n",
       "    </tr>\n",
       "    <tr>\n",
       "      <th>top</th>\n",
       "      <td>Last week, Dr. Hamad bin Mohammed Al-Asheikh w...</td>\n",
       "    </tr>\n",
       "    <tr>\n",
       "      <th>freq</th>\n",
       "      <td>16</td>\n",
       "    </tr>\n",
       "  </tbody>\n",
       "</table>\n",
       "</div>"
      ],
      "text/plain": [
       "                                                     text\n",
       "count                                               13835\n",
       "unique                                               3373\n",
       "top     Last week, Dr. Hamad bin Mohammed Al-Asheikh w...\n",
       "freq                                                   16"
      ]
     },
     "execution_count": 5,
     "metadata": {},
     "output_type": "execute_result"
    }
   ],
   "source": [
    "texts.describe()"
   ]
  },
  {
   "cell_type": "code",
   "execution_count": 6,
   "metadata": {
    "scrolled": true
   },
   "outputs": [
    {
     "data": {
      "text/plain": [
       "['C:\\\\Users\\\\Tollef\\\\Documents\\\\GitHub\\\\masterNEW\\\\REPO\\\\strise\\\\STEP 2 - CSV_WITH_SENTIMENT\\\\business_entities.csv',\n",
       " 'C:\\\\Users\\\\Tollef\\\\Documents\\\\GitHub\\\\masterNEW\\\\REPO\\\\strise\\\\STEP 2 - CSV_WITH_SENTIMENT\\\\politics_entities.csv',\n",
       " 'C:\\\\Users\\\\Tollef\\\\Documents\\\\GitHub\\\\masterNEW\\\\REPO\\\\strise\\\\STEP 2 - CSV_WITH_SENTIMENT\\\\sports_entities.csv',\n",
       " 'C:\\\\Users\\\\Tollef\\\\Documents\\\\GitHub\\\\masterNEW\\\\REPO\\\\strise\\\\STEP 2 - CSV_WITH_SENTIMENT\\\\tech_entities.csv']"
      ]
     },
     "execution_count": 6,
     "metadata": {},
     "output_type": "execute_result"
    }
   ],
   "source": [
    "topics = [os.path.join(path, t) for t in os.listdir(path) if t != \"entities.csv\"]  # do not include the combined csv\n",
    "topics"
   ]
  },
  {
   "cell_type": "code",
   "execution_count": 7,
   "metadata": {},
   "outputs": [],
   "source": [
    "topic_dfs = []\n",
    "for t in topics:\n",
    "    topic_dfs.append(pd.read_csv(t, index_col=0))\n",
    "bznz, poli, sport, tech = topic_dfs"
   ]
  },
  {
   "cell_type": "code",
   "execution_count": 8,
   "metadata": {},
   "outputs": [],
   "source": [
    "    tmp = tech.groupby([\"id\"])"
   ]
  },
  {
   "cell_type": "code",
   "execution_count": 24,
   "metadata": {},
   "outputs": [],
   "source": [
    "#i = \"IjA0MjNkZGFkM2Q5N2VjYmJhODdlYjIyNzhlYTcyZmNlNmNlNTI0ZmMyNjU5ZTVmMjMxNTNkZmQwOTNhMmM4NmY6ZXZlbnRzLXYyX2VuXzIwMjAtMDMi\"\n",
    "def get_text(_id):\n",
    "    return texts.loc[_id].text"
   ]
  },
  {
   "cell_type": "code",
   "execution_count": 40,
   "metadata": {
    "scrolled": false
   },
   "outputs": [
    {
     "name": "stdout",
     "output_type": "stream",
     "text": [
      "Index(['Unnamed: 0.1', 'id', 'entity_id', 'name', 'description', 'text',\n",
      "       'references', 'sentiment', 'sentiment_score'],\n",
      "      dtype='object')\n",
      "IjAxMzVmODc4ZWFmNTFiZmIyMWNjODhhNDA2YWY1OTFkY2FlZDlhNTUxNjRjMjhmZjdmYThjZGQ3NmVmMWJiNWE6ZXZlbnRzLXYyX2VuXzIwMTktMDMi\n",
      "An attempt to decode tech story is far from the unravelling tale it could have been. Who like a peek into the future While the question of what would happen has confounded us for decades, technology has made this quest very interesting. Are we moving towards a Terminator kind of situation, or will technology share a harmonious relationship with humans in the coming decades A plethora of literature has emerged over the past few years, predicting and trying to explain our strange predicament with technology. Kiran attempt to decode disruptive tech story is no different. It aims to present how future technologies will be incorporated and what will be the interplay of these technologies with our culture, society and economy. Being the president of Nasscom and having served as a member of the National Advisory Council, Karnik seems to be the right person to give us a peek into what the future could be like. The aptly-titled book, Evolution Decoding Disruptive Tech Story, is study of modern-age startups and technologies, drawing inferences from the western world on how these have impacted systems and societies. The book is divided into eight sections, with each chapter dealing with a new technology and area of research. The author attempts to explain the changes technology has brought forth in finance, factories, governance, democracy and society. In doing so, Karnik divides each of the chapters in sections, first detailing the technology and its impact, and then drawing inferences from the outside world. While he shy away from making predictions, such instances are few, with most of the reliance on the western world. Most critically, Karnik places technology as the centrepiece of development, while ignoring its interaction and interplay with society. Thus, while he comfortably assumes that it is technology that is changing the way society has evolved, at no point does he consider that there may be a dialectical relation between the two. Karnik tries to cover vast ground as far as tech history and relations are concerned. Each chapter details not only the evolution of technology, but also its use over a period and its history of adoption in the western world. This is where the author has been able to differentiate himself. Drawing from his experience, Karnik has very carefully and meticulously explained the reasons and failures related to the adoption of technology in different fields. More importantly, in doing so, he draws inferences to drive through his point. Takeaways regarding cultural and societal influences are also a plus point. While Karnik does cramp up a lot of information in a limited number of pages and does well to explain technology to a layperson, there are problems as far as decoding the future is concerned. Karnik only demonstrates how technology works and how it has impacted life in other societies, completely ignoring how it would do so in the Indian scenario. Inferences do help in establishing a tenet, but ideas seem half-baked and are too generalised. More importantly, as the author tries to shift focus from one technology to another, he completely misses out on delving deeper into the issues and only addresses them superficially. Generalised statements like there will be a need for new organising principles or structures for families, industries, and countries do not provide any insight into what these structures or organising principles might be. One of the critical problems with inferencing is assuming that our society would behave like the western one, which has proved to be a fallacy as far as interactions with technology are concerned. Thus, the work does not do justice to the idea of decoding the future. Also, the report-like writing becomes boring and repetitive, because of which the reader is bound to lose interest. But for someone trying to understand new trends in the simplest of terms, Karnik provides a useful guide. He may, however, have to write another book if one needs to decipher any of these trends. The writer is a former journalist Get live Stock Prices from BSE and NSE and latest NAV, portfolio of Mutual Funds, calculate your tax by Income Tax Calculator, know Top Gainers, Top Losers Best Equity Funds. Like us on Facebook and follow us on Twitter. The book is divided into eight sections, with each chapter dealing with a new technology and area of research.\n",
      "=>=>=>,  The writer is a former journalist Get live Stock Prices from $T$ and NSE and latest NAV, portfolio of Mutual Funds, calculate your tax by Income Tax Calculator, know Top Gainers, Top Losers Best Equity Funds.\n",
      "=>=>=>,  Are we moving towards a Terminator kind of situation, or will technology share a harmonious relationship with humans $T$ the coming decades A plethora of literature has emerged over the past few years, predicting and trying to explain our strange predicament with technology.\n",
      "=>=>=>,  The author attempts to explain the changes technology has brought forth $T$ finance, factories, governance, democracy and society.\n",
      "=>=>=>,  In doing so, Karnik divides each of the chapters $T$ sections, first detailing the technology and its impact, and then drawing inferences from the outside world.\n",
      "=>=>=>,  Each chapter details not only the evolution of technology, but also its use over a period and its history of adoption $T$ the western world.\n",
      "=>=>=>,  Drawing from his experience, Karnik has very carefully and meticulously explained the reasons and failures related to the adoption of technology $T$ different fields.\n",
      "=>=>=>,  More importantly, $T$ doing so, he draws inferences to drive through his point.\n",
      "=>=>=>,  While Karnik does cramp up a lot of information $T$ a limited number of pages and does well to explain technology to a layperson, there are problems as far as decoding the future is concerned.\n",
      "=>=>=>,  Karnik only demonstrates how technology works and how it has impacted life $T$ other societies, completely ignoring how it would do so $T$ the Indian scenario.\n",
      "=>=>=>,  Inferences do help $T$ establishing a tenet, but ideas seem half-baked and are too generalised.\n",
      "=>=>=>,  But for someone trying to understand new trends $T$ the simplest of terms, Karnik provides a useful guide.\n",
      "=>=>=>,  The writer is a former journalist Get live Stock Prices from BSE and NSE and latest NAV, portfolio of Mutual Funds, calculate your tax by Income Tax Calculator, know Top Gainers, Top $T$ Best Equity Funds.\n",
      "=>=>=>,  The writer is a former journalist Get live Stock Prices from BSE and $T$ and latest NAV, portfolio of Mutual Funds, calculate your tax by Income Tax Calculator, know Top Gainers, Top Losers Best Equity Funds.\n",
      "=>=>=>,  Are we moving towards a $T$ kind of situation, or will technology share a harmonious relationship with humans in the coming decades A plethora of literature has emerged over the past few years, predicting and trying to explain our strange predicament with technology.\n",
      ">> Bombay Stock Exchange | BSE,Mumbai Stock Exchange,Phiroze Jeejeebhoy Towers\n",
      ">> India | Republic of India,Bharat,sovereign state,IN,🇮🇳,Hindustan,in,IND,Bharatvarsh\n",
      ">> India | Weed Road Pictures,Akiva Goldsman,Dark Castle Entertainment,Sylvain White,Joel Silver,crime film,Losers,John Ottman,Vertigo\n",
      ">> India | India Index Services and Products,National Stock Exchange,NSE\n",
      ">> India | dystopian film,James Cameron,Terminator,Hemdale Film Corporation,drama film,Brad Fiedel,Orion Pictures,science fiction film,Gale Anne Hurd,monster film,post-apocalyptic film,Pacific Western Productions\n",
      "\n"
     ]
    }
   ],
   "source": [
    "count = 0\n",
    "for doc_id, doc_df in tmp:\n",
    "    count += 1\n",
    "    if count <= 20:\n",
    "        continue\n",
    "    print(doc_df.columns)\n",
    "    print(doc_id)\n",
    "    doc_text = get_text(doc_id)[0]\n",
    "    refs = doc_df.references.unique()\n",
    "    \n",
    "    print(doc_text)\n",
    "    \n",
    "    for subdoc in doc_df.text:\n",
    "        print(\"=>=>=>, \",subdoc)\n",
    "\n",
    "    for ent, ref in zip(doc_df.name, refs):\n",
    "        print(\">>\", ent, \"|\", ref)\n",
    "    print()\n",
    "    if count > 20:\n",
    "        break\n"
   ]
  },
  {
   "cell_type": "code",
   "execution_count": null,
   "metadata": {},
   "outputs": [],
   "source": []
  }
 ],
 "metadata": {
  "kernelspec": {
   "display_name": "Python 3",
   "language": "python",
   "name": "python3"
  },
  "language_info": {
   "codemirror_mode": {
    "name": "ipython",
    "version": 3
   },
   "file_extension": ".py",
   "mimetype": "text/x-python",
   "name": "python",
   "nbconvert_exporter": "python",
   "pygments_lexer": "ipython3",
   "version": "3.7.6"
  }
 },
 "nbformat": 4,
 "nbformat_minor": 4
}
