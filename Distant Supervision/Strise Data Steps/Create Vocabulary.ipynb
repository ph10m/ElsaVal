{
 "cells": [
  {
   "cell_type": "code",
   "execution_count": null,
   "metadata": {},
   "outputs": [],
   "source": [
    "#!/usr/bin/env python3\n",
    "from collections import Counter\n",
    "import pandas as pd\n",
    "\n",
    "dirname = os.path.dirname(os.getcwd())\n",
    "data_folder = os.path.join(dirname, 'data')\n",
    "\n",
    "def get_data_file(folder, file):\n",
    "    return os.path.join(data_folder, folder, file)\n",
    "\n",
    "template_path = \"data_id_{idx}.csv\"\n",
    "\n",
    "\n",
    "def read(idx):\n",
    "  data = pd.read_csv(\n",
    "      template_path.format(idx),\n",
    "      sep=',',\n",
    "      header=0,\n",
    "      dtype={\n",
    "          \"word\": str,\n",
    "          \"term_frequency\": int,\n",
    "          \"document_frequency\": int,\n",
    "      },\n",
    "      usecols=[\"word\", \"term_frequency\", \"document_frequency\"],\n",
    "  )\n",
    "\n",
    "  term_counter = Counter({\n",
    "      data[\"word\"][index]: data[\"term_frequency\"][index] for index in data.index\n",
    "  })\n",
    "\n",
    "  document_frequency_counter = Counter({\n",
    "      data[\"word\"][index]: data[\"document_frequency\"][index]\n",
    "      for index in data.index\n",
    "  })\n",
    "  return term_counter, document_frequency_counter\n",
    "\n",
    "\n",
    "parts = [read(year, i) for i in range(64) for year in range(2015, 2017 + 1)]\n",
    "\n",
    "term_counter = parts[0][0].copy()\n",
    "document_frequency_counter = parts[0][1].copy()\n",
    "for term_freq, doc_freq in parts[1:]:\n",
    "  term_counter += term_freq\n",
    "  document_frequency_counter += doc_freq\n",
    "\n",
    "df = pd.DataFrame([(word, count, document_frequency_counter[word])\n",
    "                   for word, count in term_counter.items()],\n",
    "                  columns=[\"word\", \"term_frequency\", \"document_frequency\"])\n",
    "\n",
    "df = df.sort_values([\"word\"])\n",
    "df.dropna(inplace=True)\n",
    "df.set_index(\"word\", inplace=True)\n",
    "df.to_csv(\"data/word_counts/total_count.csv\")"
   ]
  }
 ],
 "metadata": {
  "kernelspec": {
   "display_name": "Python 3",
   "language": "python",
   "name": "python3"
  },
  "language_info": {
   "codemirror_mode": {
    "name": "ipython",
    "version": 3
   },
   "file_extension": ".py",
   "mimetype": "text/x-python",
   "name": "python",
   "nbconvert_exporter": "python",
   "pygments_lexer": "ipython3",
   "version": "3.7.4"
  }
 },
 "nbformat": 4,
 "nbformat_minor": 2
}
